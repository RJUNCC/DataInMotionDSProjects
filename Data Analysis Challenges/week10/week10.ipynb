{
 "cells": [
  {
   "cell_type": "code",
   "execution_count": 1,
   "metadata": {},
   "outputs": [],
   "source": [
    "import polars as pl\n",
    "import plotly.express as px"
   ]
  },
  {
   "cell_type": "code",
   "execution_count": 2,
   "metadata": {},
   "outputs": [
    {
     "data": {
      "text/html": [
       "<div><style>\n",
       ".dataframe > thead > tr > th,\n",
       ".dataframe > tbody > tr > td {\n",
       "  text-align: right;\n",
       "}\n",
       "</style>\n",
       "<small>shape: (5, 8)</small><table border=\"1\" class=\"dataframe\"><thead><tr><th>Serial Number</th><th>Country</th><th>Total Cases</th><th>Total Deaths</th><th>Total Recovered</th><th>Active Cases</th><th>Total Test</th><th>Population</th></tr><tr><td>i64</td><td>str</td><td>str</td><td>str</td><td>str</td><td>str</td><td>str</td><td>str</td></tr></thead><tbody><tr><td>1</td><td>&quot;USA&quot;</td><td>&quot;104,196,861&quot;</td><td>&quot;1,132,935&quot;</td><td>&quot;101,322,779&quot;</td><td>&quot;1,741,147&quot;</td><td>&quot;1,159,832,679&quot;</td><td>&quot;334,805,269&quot;</td></tr><tr><td>2</td><td>&quot;India&quot;</td><td>&quot;44,682,784&quot;</td><td>&quot;530,740&quot;</td><td>&quot;44,150,289&quot;</td><td>&quot;1,755&quot;</td><td>&quot;915,265,788&quot;</td><td>&quot;1,406,631,776&quot;</td></tr><tr><td>3</td><td>&quot;France&quot;</td><td>&quot;39,524,311&quot;</td><td>&quot;164,233&quot;</td><td>&quot;39,264,546&quot;</td><td>&quot;95,532&quot;</td><td>&quot;271,490,188&quot;</td><td>&quot;65,584,518&quot;</td></tr><tr><td>4</td><td>&quot;Germany&quot;</td><td>&quot;37,779,833&quot;</td><td>&quot;165,711&quot;</td><td>&quot;37,398,100&quot;</td><td>&quot;216,022&quot;</td><td>&quot;122,332,384&quot;</td><td>&quot;83,883,596&quot;</td></tr><tr><td>5</td><td>&quot;Brazil&quot;</td><td>&quot;36,824,580&quot;</td><td>&quot;697,074&quot;</td><td>&quot;35,919,372&quot;</td><td>&quot;208,134&quot;</td><td>&quot;63,776,166&quot;</td><td>&quot;215,353,593&quot;</td></tr></tbody></table></div>"
      ],
      "text/plain": [
       "shape: (5, 8)\n",
       "┌────────────┬─────────┬───────────┬────────────┬────────────┬────────────┬──────────┬─────────────┐\n",
       "│ Serial     ┆ Country ┆ Total     ┆ Total      ┆ Total      ┆ Active     ┆ Total    ┆ Population  │\n",
       "│ Number     ┆ ---     ┆ Cases     ┆ Deaths     ┆ Recovered  ┆ Cases      ┆ Test     ┆ ---         │\n",
       "│ ---        ┆ str     ┆ ---       ┆ ---        ┆ ---        ┆ ---        ┆ ---      ┆ str         │\n",
       "│ i64        ┆         ┆ str       ┆ str        ┆ str        ┆ str        ┆ str      ┆             │\n",
       "╞════════════╪═════════╪═══════════╪════════════╪════════════╪════════════╪══════════╪═════════════╡\n",
       "│ 1          ┆ USA     ┆ 104,196,8 ┆ 1,132,935  ┆ 101,322,77 ┆ 1,741,147  ┆ 1,159,83 ┆ 334,805,269 │\n",
       "│            ┆         ┆ 61        ┆            ┆ 9          ┆            ┆ 2,679    ┆             │\n",
       "│ 2          ┆ India   ┆ 44,682,78 ┆ 530,740    ┆ 44,150,289 ┆ 1,755      ┆ 915,265, ┆ 1,406,631,7 │\n",
       "│            ┆         ┆ 4         ┆            ┆            ┆            ┆ 788      ┆ 76          │\n",
       "│ 3          ┆ France  ┆ 39,524,31 ┆ 164,233    ┆ 39,264,546 ┆ 95,532     ┆ 271,490, ┆ 65,584,518  │\n",
       "│            ┆         ┆ 1         ┆            ┆            ┆            ┆ 188      ┆             │\n",
       "│ 4          ┆ Germany ┆ 37,779,83 ┆ 165,711    ┆ 37,398,100 ┆ 216,022    ┆ 122,332, ┆ 83,883,596  │\n",
       "│            ┆         ┆ 3         ┆            ┆            ┆            ┆ 384      ┆             │\n",
       "│ 5          ┆ Brazil  ┆ 36,824,58 ┆ 697,074    ┆ 35,919,372 ┆ 208,134    ┆ 63,776,1 ┆ 215,353,593 │\n",
       "│            ┆         ┆ 0         ┆            ┆            ┆            ┆ 66       ┆             │\n",
       "└────────────┴─────────┴───────────┴────────────┴────────────┴────────────┴──────────┴─────────────┘"
      ]
     },
     "execution_count": 2,
     "metadata": {},
     "output_type": "execute_result"
    }
   ],
   "source": [
    "df = pl.read_csv(\"covid_worldwide.csv\")\n",
    "# print(type(df))\n",
    "df.head()"
   ]
  },
  {
   "cell_type": "code",
   "execution_count": 3,
   "metadata": {},
   "outputs": [
    {
     "name": "stdout",
     "output_type": "stream",
     "text": [
      "shape: (1, 8)\n",
      "┌────────────┬─────────┬───────────┬────────────┬────────────┬────────────┬──────────┬─────────────┐\n",
      "│ Serial     ┆ Country ┆ Total     ┆ Total      ┆ Total      ┆ Active     ┆ Total    ┆ Population  │\n",
      "│ Number     ┆ ---     ┆ Cases     ┆ Deaths     ┆ Recovered  ┆ Cases      ┆ Test     ┆ ---         │\n",
      "│ ---        ┆ u32     ┆ ---       ┆ ---        ┆ ---        ┆ ---        ┆ ---      ┆ u32         │\n",
      "│ u32        ┆         ┆ u32       ┆ u32        ┆ u32        ┆ u32        ┆ u32      ┆             │\n",
      "╞════════════╪═════════╪═══════════╪════════════╪════════════╪════════════╪══════════╪═════════════╡\n",
      "│ 0          ┆ 0       ┆ 0         ┆ 6          ┆ 2          ┆ 0          ┆ 18       ┆ 3           │\n",
      "└────────────┴─────────┴───────────┴────────────┴────────────┴────────────┴──────────┴─────────────┘\n"
     ]
    }
   ],
   "source": [
    "# Is there any missing data? If so, perform missing data treatment of your choice.\n",
    "missing = df.null_count()\n",
    "print(missing) # there is missing data in total recovered, total test, total deaths, and population"
   ]
  },
  {
   "cell_type": "code",
   "execution_count": 4,
   "metadata": {},
   "outputs": [
    {
     "name": "stdout",
     "output_type": "stream",
     "text": [
      "shape: (1, 8)\n",
      "┌────────────┬─────────┬───────────┬────────────┬────────────┬────────────┬──────────┬─────────────┐\n",
      "│ Serial     ┆ Country ┆ Total     ┆ Total      ┆ Total      ┆ Active     ┆ Total    ┆ Population  │\n",
      "│ Number     ┆ ---     ┆ Cases     ┆ Deaths     ┆ Recovered  ┆ Cases      ┆ Test     ┆ ---         │\n",
      "│ ---        ┆ u32     ┆ ---       ┆ ---        ┆ ---        ┆ ---        ┆ ---      ┆ u32         │\n",
      "│ u32        ┆         ┆ u32       ┆ u32        ┆ u32        ┆ u32        ┆ u32      ┆             │\n",
      "╞════════════╪═════════╪═══════════╪════════════╪════════════╪════════════╪══════════╪═════════════╡\n",
      "│ 0          ┆ 0       ┆ 0         ┆ 0          ┆ 0          ┆ 0          ┆ 0        ┆ 0           │\n",
      "└────────────┴─────────┴───────────┴────────────┴────────────┴────────────┴──────────┴─────────────┘\n"
     ]
    }
   ],
   "source": [
    "# filling the na\n",
    "df = df.fill_null(\"0\")\n",
    "print(df.null_count())"
   ]
  },
  {
   "cell_type": "code",
   "execution_count": 5,
   "metadata": {},
   "outputs": [
    {
     "data": {
      "text/html": [
       "<div><style>\n",
       ".dataframe > thead > tr > th,\n",
       ".dataframe > tbody > tr > td {\n",
       "  text-align: right;\n",
       "}\n",
       "</style>\n",
       "<small>shape: (5, 8)</small><table border=\"1\" class=\"dataframe\"><thead><tr><th>Serial Number</th><th>Country</th><th>Total Cases</th><th>Total Deaths</th><th>Total Recovered</th><th>Active Cases</th><th>Total Test</th><th>Population</th></tr><tr><td>i64</td><td>str</td><td>i64</td><td>i64</td><td>i64</td><td>i64</td><td>i64</td><td>i64</td></tr></thead><tbody><tr><td>1</td><td>&quot;USA&quot;</td><td>104196861</td><td>1132935</td><td>101322779</td><td>1741147</td><td>1159832679</td><td>334805269</td></tr><tr><td>2</td><td>&quot;India&quot;</td><td>44682784</td><td>530740</td><td>44150289</td><td>1755</td><td>915265788</td><td>1406631776</td></tr><tr><td>3</td><td>&quot;France&quot;</td><td>39524311</td><td>164233</td><td>39264546</td><td>95532</td><td>271490188</td><td>65584518</td></tr><tr><td>4</td><td>&quot;Germany&quot;</td><td>37779833</td><td>165711</td><td>37398100</td><td>216022</td><td>122332384</td><td>83883596</td></tr><tr><td>5</td><td>&quot;Brazil&quot;</td><td>36824580</td><td>697074</td><td>35919372</td><td>208134</td><td>63776166</td><td>215353593</td></tr></tbody></table></div>"
      ],
      "text/plain": [
       "shape: (5, 8)\n",
       "┌────────────┬─────────┬───────────┬────────────┬────────────┬────────────┬──────────┬─────────────┐\n",
       "│ Serial     ┆ Country ┆ Total     ┆ Total      ┆ Total      ┆ Active     ┆ Total    ┆ Population  │\n",
       "│ Number     ┆ ---     ┆ Cases     ┆ Deaths     ┆ Recovered  ┆ Cases      ┆ Test     ┆ ---         │\n",
       "│ ---        ┆ str     ┆ ---       ┆ ---        ┆ ---        ┆ ---        ┆ ---      ┆ i64         │\n",
       "│ i64        ┆         ┆ i64       ┆ i64        ┆ i64        ┆ i64        ┆ i64      ┆             │\n",
       "╞════════════╪═════════╪═══════════╪════════════╪════════════╪════════════╪══════════╪═════════════╡\n",
       "│ 1          ┆ USA     ┆ 104196861 ┆ 1132935    ┆ 101322779  ┆ 1741147    ┆ 11598326 ┆ 334805269   │\n",
       "│            ┆         ┆           ┆            ┆            ┆            ┆ 79       ┆             │\n",
       "│ 2          ┆ India   ┆ 44682784  ┆ 530740     ┆ 44150289   ┆ 1755       ┆ 91526578 ┆ 1406631776  │\n",
       "│            ┆         ┆           ┆            ┆            ┆            ┆ 8        ┆             │\n",
       "│ 3          ┆ France  ┆ 39524311  ┆ 164233     ┆ 39264546   ┆ 95532      ┆ 27149018 ┆ 65584518    │\n",
       "│            ┆         ┆           ┆            ┆            ┆            ┆ 8        ┆             │\n",
       "│ 4          ┆ Germany ┆ 37779833  ┆ 165711     ┆ 37398100   ┆ 216022     ┆ 12233238 ┆ 83883596    │\n",
       "│            ┆         ┆           ┆            ┆            ┆            ┆ 4        ┆             │\n",
       "│ 5          ┆ Brazil  ┆ 36824580  ┆ 697074     ┆ 35919372   ┆ 208134     ┆ 63776166 ┆ 215353593   │\n",
       "└────────────┴─────────┴───────────┴────────────┴────────────┴────────────┴──────────┴─────────────┘"
      ]
     },
     "execution_count": 5,
     "metadata": {},
     "output_type": "execute_result"
    }
   ],
   "source": [
    "# What are the data types? Looks like most of the numeric columns need to be changed. Convert them to floats and integers as necessary.\n",
    "# data types shown for above\n",
    "# we will convert the columns that are realistically numeric\n",
    "\n",
    "list_of_string_columns  = [\"Total Cases\", \"Total Deaths\", \"Total Recovered\", \"Active Cases\", \"Total Test\", \"Population\"]\n",
    "\n",
    "for col in list_of_string_columns:\n",
    "    df = df.with_columns(pl.col(col).str.replace_all(\",\", \"\"))\n",
    "\n",
    "for col in list_of_string_columns:\n",
    "    df = df.with_columns(pl.col(col).cast(pl.Int64, strict=False))\n",
    "\n",
    "df.head()"
   ]
  },
  {
   "cell_type": "code",
   "execution_count": 6,
   "metadata": {},
   "outputs": [
    {
     "name": "stdout",
     "output_type": "stream",
     "text": [
      "231 countries\n"
     ]
    }
   ],
   "source": [
    "# How many different countries had the virus?\n",
    "num_countries = df[\"Country\"].n_unique()\n",
    "print(num_countries, \"countries\")"
   ]
  },
  {
   "cell_type": "code",
   "execution_count": 7,
   "metadata": {},
   "outputs": [],
   "source": [
    "# Create a geographical plot of the distribution of deaths from around the world.\n",
    "# will be on tableau dashboard"
   ]
  },
  {
   "cell_type": "code",
   "execution_count": 8,
   "metadata": {},
   "outputs": [
    {
     "data": {
      "text/html": [
       "<div><style>\n",
       ".dataframe > thead > tr > th,\n",
       ".dataframe > tbody > tr > td {\n",
       "  text-align: right;\n",
       "}\n",
       "</style>\n",
       "<small>shape: (5, 2)</small><table border=\"1\" class=\"dataframe\"><thead><tr><th>Country</th><th>Active Cases</th></tr><tr><td>str</td><td>i64</td></tr></thead><tbody><tr><td>&quot;Japan&quot;</td><td>10952618</td></tr><tr><td>&quot;USA&quot;</td><td>1741147</td></tr><tr><td>&quot;Poland&quot;</td><td>925549</td></tr><tr><td>&quot;Vietnam&quot;</td><td>870843</td></tr><tr><td>&quot;Mexico&quot;</td><td>429421</td></tr></tbody></table></div>"
      ],
      "text/plain": [
       "shape: (5, 2)\n",
       "┌─────────┬──────────────┐\n",
       "│ Country ┆ Active Cases │\n",
       "│ ---     ┆ ---          │\n",
       "│ str     ┆ i64          │\n",
       "╞═════════╪══════════════╡\n",
       "│ Japan   ┆ 10952618     │\n",
       "│ USA     ┆ 1741147      │\n",
       "│ Poland  ┆ 925549       │\n",
       "│ Vietnam ┆ 870843       │\n",
       "│ Mexico  ┆ 429421       │\n",
       "└─────────┴──────────────┘"
      ]
     },
     "execution_count": 8,
     "metadata": {},
     "output_type": "execute_result"
    }
   ],
   "source": [
    "# What are the top 5 countries in active cases?\n",
    "df.sort(\"Active Cases\", descending=True)[[\"Country\", \"Active Cases\"]].head(5)"
   ]
  },
  {
   "cell_type": "code",
   "execution_count": 9,
   "metadata": {},
   "outputs": [
    {
     "data": {
      "text/html": [
       "<div><style>\n",
       ".dataframe > thead > tr > th,\n",
       ".dataframe > tbody > tr > td {\n",
       "  text-align: right;\n",
       "}\n",
       "</style>\n",
       "<small>shape: (5, 2)</small><table border=\"1\" class=\"dataframe\"><thead><tr><th>Country</th><th>Total Recovered</th></tr><tr><td>str</td><td>i64</td></tr></thead><tbody><tr><td>&quot;USA&quot;</td><td>101322779</td></tr><tr><td>&quot;India&quot;</td><td>44150289</td></tr><tr><td>&quot;France&quot;</td><td>39264546</td></tr><tr><td>&quot;Germany&quot;</td><td>37398100</td></tr><tr><td>&quot;Brazil&quot;</td><td>35919372</td></tr></tbody></table></div>"
      ],
      "text/plain": [
       "shape: (5, 2)\n",
       "┌─────────┬─────────────────┐\n",
       "│ Country ┆ Total Recovered │\n",
       "│ ---     ┆ ---             │\n",
       "│ str     ┆ i64             │\n",
       "╞═════════╪═════════════════╡\n",
       "│ USA     ┆ 101322779       │\n",
       "│ India   ┆ 44150289        │\n",
       "│ France  ┆ 39264546        │\n",
       "│ Germany ┆ 37398100        │\n",
       "│ Brazil  ┆ 35919372        │\n",
       "└─────────┴─────────────────┘"
      ]
     },
     "execution_count": 9,
     "metadata": {},
     "output_type": "execute_result"
    }
   ],
   "source": [
    "# What are the top 5 countries in total recoveries?\n",
    "df.sort(\"Total Recovered\", descending=True)[[\"Country\", \"Total Recovered\"]].head(5)"
   ]
  },
  {
   "cell_type": "code",
   "execution_count": 10,
   "metadata": {},
   "outputs": [
    {
     "data": {
      "text/html": [
       "<div><style>\n",
       ".dataframe > thead > tr > th,\n",
       ".dataframe > tbody > tr > td {\n",
       "  text-align: right;\n",
       "}\n",
       "</style>\n",
       "<small>shape: (5, 2)</small><table border=\"1\" class=\"dataframe\"><thead><tr><th>Country</th><th>Total Deaths</th></tr><tr><td>str</td><td>i64</td></tr></thead><tbody><tr><td>&quot;USA&quot;</td><td>1132935</td></tr><tr><td>&quot;Brazil&quot;</td><td>697074</td></tr><tr><td>&quot;India&quot;</td><td>530740</td></tr><tr><td>&quot;Russia&quot;</td><td>395108</td></tr><tr><td>&quot;Mexico&quot;</td><td>332198</td></tr></tbody></table></div>"
      ],
      "text/plain": [
       "shape: (5, 2)\n",
       "┌─────────┬──────────────┐\n",
       "│ Country ┆ Total Deaths │\n",
       "│ ---     ┆ ---          │\n",
       "│ str     ┆ i64          │\n",
       "╞═════════╪══════════════╡\n",
       "│ USA     ┆ 1132935      │\n",
       "│ Brazil  ┆ 697074       │\n",
       "│ India   ┆ 530740       │\n",
       "│ Russia  ┆ 395108       │\n",
       "│ Mexico  ┆ 332198       │\n",
       "└─────────┴──────────────┘"
      ]
     },
     "execution_count": 10,
     "metadata": {},
     "output_type": "execute_result"
    }
   ],
   "source": [
    "# Create your own question and answer it.\n",
    "# What are the top 5 countries in total deaths?\n",
    "df.sort(\"Total Deaths\", descending=True)[[\"Country\", \"Total Deaths\"]].head(5)"
   ]
  },
  {
   "attachments": {},
   "cell_type": "markdown",
   "metadata": {},
   "source": [
    "# Dashboard\n",
    "https://public.tableau.com/shared/346P5MS8G?:display_count=n&:origin=viz_share_link"
   ]
  }
 ],
 "metadata": {
  "kernelspec": {
   "display_name": "myenv",
   "language": "python",
   "name": "python3"
  },
  "language_info": {
   "codemirror_mode": {
    "name": "ipython",
    "version": 3
   },
   "file_extension": ".py",
   "mimetype": "text/x-python",
   "name": "python",
   "nbconvert_exporter": "python",
   "pygments_lexer": "ipython3",
   "version": "3.11.3"
  },
  "orig_nbformat": 4,
  "vscode": {
   "interpreter": {
    "hash": "23b085fd8b3a98be5bf7902d7458716de5f0466d3980eed481971c0d42e8c07a"
   }
  }
 },
 "nbformat": 4,
 "nbformat_minor": 2
}
