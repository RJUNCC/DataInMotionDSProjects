{
 "cells": [
  {
   "cell_type": "code",
   "execution_count": 65,
   "metadata": {},
   "outputs": [],
   "source": [
    "import pandas as pd\n",
    "import seaborn as sns\n",
    "import plotly.express as px\n",
    "import matplotlib.pyplot as plt\n",
    "import plotly.graph_objects as go\n",
    "import numpy as np"
   ]
  },
  {
   "cell_type": "code",
   "execution_count": 66,
   "metadata": {},
   "outputs": [
    {
     "data": {
      "text/html": [
       "<div>\n",
       "<style scoped>\n",
       "    .dataframe tbody tr th:only-of-type {\n",
       "        vertical-align: middle;\n",
       "    }\n",
       "\n",
       "    .dataframe tbody tr th {\n",
       "        vertical-align: top;\n",
       "    }\n",
       "\n",
       "    .dataframe thead th {\n",
       "        text-align: right;\n",
       "    }\n",
       "</style>\n",
       "<table border=\"1\" class=\"dataframe\">\n",
       "  <thead>\n",
       "    <tr style=\"text-align: right;\">\n",
       "      <th></th>\n",
       "      <th>coaster_name</th>\n",
       "      <th>Length</th>\n",
       "      <th>Speed</th>\n",
       "      <th>Location</th>\n",
       "      <th>Status</th>\n",
       "      <th>Opening date</th>\n",
       "      <th>Type</th>\n",
       "      <th>Manufacturer</th>\n",
       "      <th>Height restriction</th>\n",
       "      <th>Model</th>\n",
       "      <th>...</th>\n",
       "      <th>speed1</th>\n",
       "      <th>speed2</th>\n",
       "      <th>speed1_value</th>\n",
       "      <th>speed1_unit</th>\n",
       "      <th>speed_mph</th>\n",
       "      <th>height_value</th>\n",
       "      <th>height_unit</th>\n",
       "      <th>height_ft</th>\n",
       "      <th>Inversions_clean</th>\n",
       "      <th>Gforce_clean</th>\n",
       "    </tr>\n",
       "  </thead>\n",
       "  <tbody>\n",
       "    <tr>\n",
       "      <th>0</th>\n",
       "      <td>Switchback Railway</td>\n",
       "      <td>600 ft (180 m)</td>\n",
       "      <td>6 mph (9.7 km/h)</td>\n",
       "      <td>Coney Island</td>\n",
       "      <td>Removed</td>\n",
       "      <td>June 16, 1884</td>\n",
       "      <td>Wood</td>\n",
       "      <td>LaMarcus Adna Thompson</td>\n",
       "      <td>NaN</td>\n",
       "      <td>Lift Packed</td>\n",
       "      <td>...</td>\n",
       "      <td>6 mph</td>\n",
       "      <td>9.7 km/h</td>\n",
       "      <td>6.0</td>\n",
       "      <td>mph</td>\n",
       "      <td>6.0</td>\n",
       "      <td>50.0</td>\n",
       "      <td>ft</td>\n",
       "      <td>NaN</td>\n",
       "      <td>0</td>\n",
       "      <td>2.9</td>\n",
       "    </tr>\n",
       "    <tr>\n",
       "      <th>1</th>\n",
       "      <td>Flip Flap Railway</td>\n",
       "      <td>NaN</td>\n",
       "      <td>NaN</td>\n",
       "      <td>Sea Lion Park</td>\n",
       "      <td>Removed</td>\n",
       "      <td>1895</td>\n",
       "      <td>Wood</td>\n",
       "      <td>Lina Beecher</td>\n",
       "      <td>NaN</td>\n",
       "      <td>NaN</td>\n",
       "      <td>...</td>\n",
       "      <td>NaN</td>\n",
       "      <td>NaN</td>\n",
       "      <td>NaN</td>\n",
       "      <td>NaN</td>\n",
       "      <td>NaN</td>\n",
       "      <td>NaN</td>\n",
       "      <td>NaN</td>\n",
       "      <td>NaN</td>\n",
       "      <td>1</td>\n",
       "      <td>12.0</td>\n",
       "    </tr>\n",
       "    <tr>\n",
       "      <th>2</th>\n",
       "      <td>Switchback Railway (Euclid Beach Park)</td>\n",
       "      <td>NaN</td>\n",
       "      <td>NaN</td>\n",
       "      <td>Cleveland, Ohio, United States</td>\n",
       "      <td>Closed</td>\n",
       "      <td>NaN</td>\n",
       "      <td>Other</td>\n",
       "      <td>NaN</td>\n",
       "      <td>NaN</td>\n",
       "      <td>NaN</td>\n",
       "      <td>...</td>\n",
       "      <td>NaN</td>\n",
       "      <td>NaN</td>\n",
       "      <td>NaN</td>\n",
       "      <td>NaN</td>\n",
       "      <td>NaN</td>\n",
       "      <td>NaN</td>\n",
       "      <td>NaN</td>\n",
       "      <td>NaN</td>\n",
       "      <td>0</td>\n",
       "      <td>NaN</td>\n",
       "    </tr>\n",
       "    <tr>\n",
       "      <th>3</th>\n",
       "      <td>Loop the Loop (Coney Island)</td>\n",
       "      <td>NaN</td>\n",
       "      <td>NaN</td>\n",
       "      <td>Other</td>\n",
       "      <td>Removed</td>\n",
       "      <td>1901</td>\n",
       "      <td>Steel</td>\n",
       "      <td>Edwin Prescott</td>\n",
       "      <td>NaN</td>\n",
       "      <td>NaN</td>\n",
       "      <td>...</td>\n",
       "      <td>NaN</td>\n",
       "      <td>NaN</td>\n",
       "      <td>NaN</td>\n",
       "      <td>NaN</td>\n",
       "      <td>NaN</td>\n",
       "      <td>NaN</td>\n",
       "      <td>NaN</td>\n",
       "      <td>NaN</td>\n",
       "      <td>1</td>\n",
       "      <td>NaN</td>\n",
       "    </tr>\n",
       "    <tr>\n",
       "      <th>4</th>\n",
       "      <td>Loop the Loop (Young's Pier)</td>\n",
       "      <td>NaN</td>\n",
       "      <td>NaN</td>\n",
       "      <td>Other</td>\n",
       "      <td>Removed</td>\n",
       "      <td>1901</td>\n",
       "      <td>Steel</td>\n",
       "      <td>Edwin Prescott</td>\n",
       "      <td>NaN</td>\n",
       "      <td>NaN</td>\n",
       "      <td>...</td>\n",
       "      <td>NaN</td>\n",
       "      <td>NaN</td>\n",
       "      <td>NaN</td>\n",
       "      <td>NaN</td>\n",
       "      <td>NaN</td>\n",
       "      <td>NaN</td>\n",
       "      <td>NaN</td>\n",
       "      <td>NaN</td>\n",
       "      <td>1</td>\n",
       "      <td>NaN</td>\n",
       "    </tr>\n",
       "  </tbody>\n",
       "</table>\n",
       "<p>5 rows × 56 columns</p>\n",
       "</div>"
      ],
      "text/plain": [
       "                             coaster_name          Length             Speed  \\\n",
       "0                      Switchback Railway  600 ft (180 m)  6 mph (9.7 km/h)   \n",
       "1                       Flip Flap Railway             NaN               NaN   \n",
       "2  Switchback Railway (Euclid Beach Park)             NaN               NaN   \n",
       "3            Loop the Loop (Coney Island)             NaN               NaN   \n",
       "4            Loop the Loop (Young's Pier)             NaN               NaN   \n",
       "\n",
       "                         Location   Status   Opening date   Type  \\\n",
       "0                    Coney Island  Removed  June 16, 1884   Wood   \n",
       "1                   Sea Lion Park  Removed           1895   Wood   \n",
       "2  Cleveland, Ohio, United States   Closed            NaN  Other   \n",
       "3                           Other  Removed           1901  Steel   \n",
       "4                           Other  Removed           1901  Steel   \n",
       "\n",
       "             Manufacturer Height restriction        Model  ...  speed1  \\\n",
       "0  LaMarcus Adna Thompson                NaN  Lift Packed  ...  6 mph    \n",
       "1            Lina Beecher                NaN          NaN  ...     NaN   \n",
       "2                     NaN                NaN          NaN  ...     NaN   \n",
       "3          Edwin Prescott                NaN          NaN  ...     NaN   \n",
       "4          Edwin Prescott                NaN          NaN  ...     NaN   \n",
       "\n",
       "     speed2 speed1_value speed1_unit speed_mph height_value height_unit  \\\n",
       "0  9.7 km/h          6.0         mph       6.0         50.0          ft   \n",
       "1       NaN          NaN         NaN       NaN          NaN         NaN   \n",
       "2       NaN          NaN         NaN       NaN          NaN         NaN   \n",
       "3       NaN          NaN         NaN       NaN          NaN         NaN   \n",
       "4       NaN          NaN         NaN       NaN          NaN         NaN   \n",
       "\n",
       "  height_ft Inversions_clean Gforce_clean  \n",
       "0       NaN                0          2.9  \n",
       "1       NaN                1         12.0  \n",
       "2       NaN                0          NaN  \n",
       "3       NaN                1          NaN  \n",
       "4       NaN                1          NaN  \n",
       "\n",
       "[5 rows x 56 columns]"
      ]
     },
     "execution_count": 66,
     "metadata": {},
     "output_type": "execute_result"
    }
   ],
   "source": [
    "url = 'https://raw.githubusercontent.com/kedeisha1/Challenges/main/coaster_db.csv'\n",
    "df = pd.read_csv(url, sep=',')\n",
    "df.head()"
   ]
  },
  {
   "cell_type": "code",
   "execution_count": 67,
   "metadata": {},
   "outputs": [
    {
     "name": "stdout",
     "output_type": "stream",
     "text": [
      "(1087, 56)\n",
      "1087 rows and 56 columns\n"
     ]
    }
   ],
   "source": [
    "# How many columns and rows are in the dataset?\n",
    "print(df.shape)\n",
    "print(\"1087 rows and 56 columns\")"
   ]
  },
  {
   "cell_type": "code",
   "execution_count": 68,
   "metadata": {},
   "outputs": [
    {
     "name": "stdout",
     "output_type": "stream",
     "text": [
      "There is a lot of missing data\n"
     ]
    },
    {
     "data": {
      "text/plain": [
       "Fastrack available               1068\n",
       "Restraint Style                  1065\n",
       "Restraints                       1063\n",
       "Opened                           1060\n",
       "Name                             1052\n",
       "Theme                            1043\n",
       "Flash Pass available             1041\n",
       "Flash Pass Available             1037\n",
       "Acceleration                     1027\n",
       "Fast Lane available              1018\n",
       "Single rider line available      1006\n",
       "Website                          1000\n",
       "Replaced by                       999\n",
       "Soft opening date                 991\n",
       "Soft opening date.1               991\n",
       "Must transfer from wheelchair     981\n",
       "height_ft                         916\n",
       "Replaced                          914\n",
       "Closing date                      851\n",
       "Track layout                      752\n",
       "Max vertical angle                730\n",
       "Gforce_clean                      725\n",
       "G-force                           725\n",
       "Cost                              705\n",
       "Park section                      600\n",
       "Drop                              593\n",
       "Capacity                          512\n",
       "Designer                          509\n",
       "Trains                            369\n",
       "Model                             343\n",
       "Duration                          322\n",
       "Lift/launch system                292\n",
       "longitude                         275\n",
       "latitude                          275\n",
       "Height restriction                256\n",
       "Opening date                      250\n",
       "opening_date_clean                250\n",
       "Status                            213\n",
       "Inversions                        155\n",
       "speed2                            152\n",
       "Speed                             150\n",
       "speed1                            150\n",
       "speed1_value                      150\n",
       "speed1_unit                       150\n",
       "speed_mph                         150\n",
       "Length                            134\n",
       "height_value                      122\n",
       "Height                            122\n",
       "height_unit                       122\n",
       "Manufacturer                       59\n",
       "Inversions_clean                    0\n",
       "Type                                0\n",
       "Type_Main                           0\n",
       "year_introduced                     0\n",
       "Location                            0\n",
       "coaster_name                        0\n",
       "dtype: int64"
      ]
     },
     "execution_count": 68,
     "metadata": {},
     "output_type": "execute_result"
    }
   ],
   "source": [
    "# Is there any missing data?\n",
    "missing = df.isna().sum().sort_values(ascending=False)\n",
    "print(\"There is a lot of missing data\")\n",
    "missing"
   ]
  },
  {
   "cell_type": "code",
   "execution_count": 69,
   "metadata": {},
   "outputs": [
    {
     "data": {
      "text/html": [
       "<div>\n",
       "<style scoped>\n",
       "    .dataframe tbody tr th:only-of-type {\n",
       "        vertical-align: middle;\n",
       "    }\n",
       "\n",
       "    .dataframe tbody tr th {\n",
       "        vertical-align: top;\n",
       "    }\n",
       "\n",
       "    .dataframe thead th {\n",
       "        text-align: right;\n",
       "    }\n",
       "</style>\n",
       "<table border=\"1\" class=\"dataframe\">\n",
       "  <thead>\n",
       "    <tr style=\"text-align: right;\">\n",
       "      <th></th>\n",
       "      <th>Inversions</th>\n",
       "      <th>year_introduced</th>\n",
       "      <th>latitude</th>\n",
       "      <th>longitude</th>\n",
       "      <th>speed1_value</th>\n",
       "      <th>speed_mph</th>\n",
       "      <th>height_value</th>\n",
       "      <th>height_ft</th>\n",
       "      <th>Inversions_clean</th>\n",
       "      <th>Gforce_clean</th>\n",
       "    </tr>\n",
       "  </thead>\n",
       "  <tbody>\n",
       "    <tr>\n",
       "      <th>count</th>\n",
       "      <td>932.000000</td>\n",
       "      <td>1087.000000</td>\n",
       "      <td>812.000000</td>\n",
       "      <td>812.000000</td>\n",
       "      <td>937.000000</td>\n",
       "      <td>937.000000</td>\n",
       "      <td>965.000000</td>\n",
       "      <td>171.000000</td>\n",
       "      <td>1087.000000</td>\n",
       "      <td>362.000000</td>\n",
       "    </tr>\n",
       "    <tr>\n",
       "      <th>mean</th>\n",
       "      <td>1.547210</td>\n",
       "      <td>1994.986201</td>\n",
       "      <td>38.373484</td>\n",
       "      <td>-41.595373</td>\n",
       "      <td>53.850374</td>\n",
       "      <td>48.617289</td>\n",
       "      <td>89.575171</td>\n",
       "      <td>101.996491</td>\n",
       "      <td>1.326587</td>\n",
       "      <td>3.824006</td>\n",
       "    </tr>\n",
       "    <tr>\n",
       "      <th>std</th>\n",
       "      <td>2.114073</td>\n",
       "      <td>23.475248</td>\n",
       "      <td>15.516596</td>\n",
       "      <td>72.285227</td>\n",
       "      <td>23.385518</td>\n",
       "      <td>16.678031</td>\n",
       "      <td>136.246444</td>\n",
       "      <td>67.329092</td>\n",
       "      <td>2.030854</td>\n",
       "      <td>0.989998</td>\n",
       "    </tr>\n",
       "    <tr>\n",
       "      <th>min</th>\n",
       "      <td>0.000000</td>\n",
       "      <td>1884.000000</td>\n",
       "      <td>-48.261700</td>\n",
       "      <td>-123.035700</td>\n",
       "      <td>5.000000</td>\n",
       "      <td>5.000000</td>\n",
       "      <td>4.000000</td>\n",
       "      <td>13.100000</td>\n",
       "      <td>0.000000</td>\n",
       "      <td>0.800000</td>\n",
       "    </tr>\n",
       "    <tr>\n",
       "      <th>25%</th>\n",
       "      <td>0.000000</td>\n",
       "      <td>1989.000000</td>\n",
       "      <td>35.031050</td>\n",
       "      <td>-84.552200</td>\n",
       "      <td>40.000000</td>\n",
       "      <td>37.300000</td>\n",
       "      <td>44.000000</td>\n",
       "      <td>51.800000</td>\n",
       "      <td>0.000000</td>\n",
       "      <td>3.400000</td>\n",
       "    </tr>\n",
       "    <tr>\n",
       "      <th>50%</th>\n",
       "      <td>0.000000</td>\n",
       "      <td>2000.000000</td>\n",
       "      <td>40.289800</td>\n",
       "      <td>-76.653600</td>\n",
       "      <td>50.000000</td>\n",
       "      <td>49.700000</td>\n",
       "      <td>79.000000</td>\n",
       "      <td>91.200000</td>\n",
       "      <td>0.000000</td>\n",
       "      <td>4.000000</td>\n",
       "    </tr>\n",
       "    <tr>\n",
       "      <th>75%</th>\n",
       "      <td>3.000000</td>\n",
       "      <td>2010.000000</td>\n",
       "      <td>44.799600</td>\n",
       "      <td>2.778100</td>\n",
       "      <td>63.000000</td>\n",
       "      <td>58.000000</td>\n",
       "      <td>113.000000</td>\n",
       "      <td>131.200000</td>\n",
       "      <td>2.000000</td>\n",
       "      <td>4.500000</td>\n",
       "    </tr>\n",
       "    <tr>\n",
       "      <th>max</th>\n",
       "      <td>14.000000</td>\n",
       "      <td>2022.000000</td>\n",
       "      <td>63.230900</td>\n",
       "      <td>153.426500</td>\n",
       "      <td>240.000000</td>\n",
       "      <td>149.100000</td>\n",
       "      <td>3937.000000</td>\n",
       "      <td>377.300000</td>\n",
       "      <td>14.000000</td>\n",
       "      <td>12.000000</td>\n",
       "    </tr>\n",
       "  </tbody>\n",
       "</table>\n",
       "</div>"
      ],
      "text/plain": [
       "       Inversions  year_introduced    latitude   longitude  speed1_value  \\\n",
       "count  932.000000      1087.000000  812.000000  812.000000    937.000000   \n",
       "mean     1.547210      1994.986201   38.373484  -41.595373     53.850374   \n",
       "std      2.114073        23.475248   15.516596   72.285227     23.385518   \n",
       "min      0.000000      1884.000000  -48.261700 -123.035700      5.000000   \n",
       "25%      0.000000      1989.000000   35.031050  -84.552200     40.000000   \n",
       "50%      0.000000      2000.000000   40.289800  -76.653600     50.000000   \n",
       "75%      3.000000      2010.000000   44.799600    2.778100     63.000000   \n",
       "max     14.000000      2022.000000   63.230900  153.426500    240.000000   \n",
       "\n",
       "        speed_mph  height_value   height_ft  Inversions_clean  Gforce_clean  \n",
       "count  937.000000    965.000000  171.000000       1087.000000    362.000000  \n",
       "mean    48.617289     89.575171  101.996491          1.326587      3.824006  \n",
       "std     16.678031    136.246444   67.329092          2.030854      0.989998  \n",
       "min      5.000000      4.000000   13.100000          0.000000      0.800000  \n",
       "25%     37.300000     44.000000   51.800000          0.000000      3.400000  \n",
       "50%     49.700000     79.000000   91.200000          0.000000      4.000000  \n",
       "75%     58.000000    113.000000  131.200000          2.000000      4.500000  \n",
       "max    149.100000   3937.000000  377.300000         14.000000     12.000000  "
      ]
     },
     "execution_count": 69,
     "metadata": {},
     "output_type": "execute_result"
    }
   ],
   "source": [
    "# Display the summary statistics of the numeric columns using the describe method.\n",
    "df.describe()"
   ]
  },
  {
   "cell_type": "code",
   "execution_count": 70,
   "metadata": {},
   "outputs": [],
   "source": [
    "'''Rename the following columns:\n",
    "coaster_name ➡️  Coaster_Name\n",
    "year_introduced ➡️ Year_Introduced\n",
    "opening_date_clean ➡️ Opening_Date\n",
    "speed_mph ➡️ Speed_mph\n",
    "height_ft ➡️ Height_ft\n",
    "Inversions_clean ➡️ Inversions\n",
    "Gforce_clean ➡️ Gforce'''\n",
    "df.rename(columns={\"coaster_name\":\"Coaster_Name\", \n",
    "                   \"year_introduced\":\"Year_Introduced\", \n",
    "                   \"opening_date_clean\":\"Opening_Date\", \n",
    "                   \"speed_mph\":\"Speed_mph\", \n",
    "                   \"height_ft\":\"Height_ft\",\n",
    "                   \"Inversions_clean\":\"Inversions\",\n",
    "                   \"Gforce_clean\":\"Gforce\"},\n",
    "                   inplace=True)"
   ]
  },
  {
   "cell_type": "code",
   "execution_count": 71,
   "metadata": {},
   "outputs": [
    {
     "name": "stdout",
     "output_type": "stream",
     "text": [
      "There are 0 duplicated rows\n"
     ]
    }
   ],
   "source": [
    "# Are there any duplicated rows?\n",
    "print(f\"There are {df.duplicated().sum()} duplicated rows\")"
   ]
  },
  {
   "cell_type": "code",
   "execution_count": 72,
   "metadata": {},
   "outputs": [
    {
     "name": "stdout",
     "output_type": "stream",
     "text": [
      "The top 3 years with most roller coaster instroduced are:\n",
      "1999.0    38\n",
      "2000.0    36\n",
      "2002.0    26\n",
      "Name: year, dtype: int64\n"
     ]
    }
   ],
   "source": [
    "# What are the top 3 years with the most roller coasters introduced?\n",
    "# df[\"Opening_Date\"].value_counts(ascending=False)\n",
    "df[\"Opening_Date\"] = pd.to_datetime(df[\"Opening_Date\"])\n",
    "df[\"year\"] = df[\"Opening_Date\"].dt.year\n",
    "most_roller_coaster_year = df[\"year\"].value_counts(ascending=False)\n",
    "print(\"The top 3 years with most roller coaster instroduced are:\")\n",
    "print(most_roller_coaster_year.head(3))"
   ]
  },
  {
   "cell_type": "code",
   "execution_count": 81,
   "metadata": {},
   "outputs": [
    {
     "name": "stdout",
     "output_type": "stream",
     "text": [
      "48.617289220917826\n"
     ]
    },
    {
     "data": {
      "application/vnd.plotly.v1+json": {
       "config": {
        "plotlyServerURL": "https://plot.ly"
       },
       "data": [
        {
         "alignmentgroup": "True",
         "bingroup": "x",
         "hovertemplate": "Speed_mph=%{x}<br>count=%{y}<extra></extra>",
         "legendgroup": "",
         "marker": {
          "color": "red",
          "pattern": {
           "shape": ""
          }
         },
         "name": "",
         "offsetgroup": "",
         "orientation": "v",
         "showlegend": false,
         "type": "histogram",
         "x": [
          6,
          null,
          null,
          null,
          null,
          null,
          10,
          null,
          null,
          null,
          null,
          null,
          10,
          40,
          null,
          37.3,
          40,
          null,
          null,
          null,
          53,
          null,
          45,
          42,
          35,
          45,
          40,
          null,
          50,
          55,
          55,
          null,
          45,
          32,
          45,
          48,
          null,
          null,
          null,
          60,
          null,
          null,
          60,
          60,
          null,
          null,
          40,
          48,
          null,
          40,
          31,
          null,
          null,
          35,
          45,
          35,
          null,
          58,
          40,
          50,
          null,
          50,
          25,
          55,
          40,
          null,
          40,
          50,
          55,
          null,
          25,
          null,
          25,
          37.3,
          null,
          null,
          25,
          null,
          35,
          49.7,
          27,
          null,
          40,
          null,
          null,
          49.7,
          35,
          50,
          50,
          29,
          null,
          55,
          42,
          null,
          14,
          44.7,
          null,
          31.1,
          null,
          35,
          10,
          37,
          46,
          27,
          null,
          53,
          45,
          35,
          null,
          30,
          57,
          null,
          null,
          null,
          null,
          35,
          35,
          46,
          null,
          56,
          null,
          36,
          27,
          50,
          10,
          48,
          50,
          50,
          null,
          50,
          null,
          50,
          5,
          null,
          40,
          55,
          62,
          null,
          58,
          42,
          36,
          45,
          null,
          45,
          35,
          null,
          50,
          57,
          60,
          null,
          45,
          60,
          55,
          32.9,
          60,
          50,
          58,
          null,
          64.8,
          35,
          35,
          null,
          46.6,
          45,
          56,
          40,
          6,
          35,
          41,
          40,
          50,
          45,
          50,
          41,
          57,
          35,
          66,
          34,
          52,
          49.7,
          34.8,
          16.2,
          55.9,
          46.6,
          39.8,
          39.8,
          55.9,
          51,
          40,
          43.5,
          40.4,
          54.1,
          50,
          null,
          null,
          17,
          32,
          55,
          55,
          50,
          null,
          55.9,
          null,
          30,
          null,
          28,
          35,
          37,
          48,
          47,
          16.8,
          50,
          47,
          45,
          31.1,
          null,
          32,
          34.1,
          55.9,
          40,
          35,
          51,
          22.4,
          null,
          43.5,
          60,
          59.7,
          45,
          null,
          37.3,
          null,
          null,
          30,
          29.8,
          55,
          50,
          47.8,
          39.8,
          44,
          32,
          null,
          35,
          35,
          45,
          null,
          40,
          40,
          49.7,
          40,
          22.4,
          22.4,
          40,
          32,
          55,
          null,
          45,
          41,
          68.3,
          null,
          47,
          48,
          28.9,
          35,
          55.9,
          55,
          50,
          65,
          45,
          50,
          55,
          35,
          null,
          37.3,
          54.5,
          47,
          55.9,
          68,
          65,
          72,
          54.7,
          52,
          53,
          null,
          31.1,
          47.8,
          46,
          55,
          47,
          55,
          23,
          50,
          65,
          null,
          53,
          24.9,
          50,
          44,
          45,
          70,
          35,
          45,
          50,
          34.2,
          50,
          47,
          85,
          null,
          35.4,
          50,
          55,
          45,
          46,
          50,
          35,
          52,
          15,
          null,
          60,
          15,
          40,
          35,
          null,
          56.5,
          40,
          40,
          15,
          70,
          22.4,
          62.1,
          null,
          50,
          55,
          50,
          37.3,
          41,
          null,
          50,
          21.7,
          18.6,
          36,
          60,
          45,
          35,
          48,
          null,
          48,
          51,
          30,
          50,
          55,
          49.7,
          40,
          80,
          48.5,
          66.5,
          51,
          50,
          50.3,
          57,
          21.7,
          53,
          74,
          71.5,
          52.4,
          null,
          54.7,
          null,
          50,
          52.8,
          null,
          34,
          43,
          48,
          null,
          58,
          65,
          50.2,
          49.7,
          55,
          35,
          50,
          45,
          44,
          47,
          49.7,
          55,
          48,
          50,
          null,
          21.7,
          25,
          31.1,
          54,
          81,
          21.7,
          50,
          30,
          48,
          60,
          40,
          60,
          null,
          35,
          33,
          25,
          40,
          47,
          27.7,
          55,
          null,
          75,
          50,
          28,
          67,
          50,
          47,
          63,
          49.7,
          50,
          63,
          50,
          null,
          53,
          62.1,
          35,
          67,
          28,
          46,
          75,
          100,
          52,
          100,
          40,
          60,
          47,
          35,
          65,
          49.7,
          47,
          null,
          55,
          56,
          58,
          50,
          null,
          49.7,
          null,
          25,
          75,
          50,
          70,
          68.4,
          56,
          28,
          65,
          50.5,
          43.5,
          8,
          57,
          21.7,
          52,
          49.7,
          27,
          40,
          70,
          28,
          15,
          62,
          73,
          49.7,
          50,
          61,
          47,
          10,
          60,
          29.1,
          54,
          11,
          22.4,
          16,
          67,
          50,
          76,
          60,
          null,
          null,
          49.7,
          33,
          30,
          56,
          41.2,
          64,
          31,
          60,
          64,
          null,
          null,
          73,
          null,
          50.5,
          57,
          27,
          50,
          65,
          73,
          63,
          34,
          49.7,
          50,
          49.7,
          51,
          50,
          28,
          25,
          15,
          21.7,
          49.7,
          47,
          66.3,
          60,
          22.4,
          50,
          68.3,
          65,
          47,
          28,
          30,
          28.5,
          28,
          85,
          28,
          55,
          31.1,
          65,
          65,
          59,
          51,
          24.9,
          65,
          57,
          93,
          25,
          70,
          null,
          null,
          28,
          21.7,
          28.5,
          22.4,
          43.5,
          78.4,
          70,
          47,
          95,
          73,
          77,
          70,
          21.7,
          57.2,
          59,
          13,
          55.9,
          47,
          50,
          55,
          52,
          68.4,
          45,
          65.6,
          111.8,
          74.6,
          26,
          65.6,
          52.8,
          27,
          80,
          55,
          53.4,
          35,
          49.7,
          27,
          80,
          85,
          26,
          58,
          65,
          57.8,
          85,
          70,
          37.3,
          66,
          null,
          50,
          35,
          54.7,
          55,
          49.7,
          45,
          26,
          25.7,
          46.6,
          65.9,
          63,
          35,
          20,
          47,
          29.1,
          28,
          57,
          20.5,
          26,
          27.7,
          78.9,
          null,
          62.1,
          51,
          null,
          22,
          50,
          72,
          37.2,
          76,
          82,
          46.6,
          55.9,
          50,
          45,
          null,
          null,
          null,
          43.5,
          null,
          40,
          26,
          49.7,
          45,
          63,
          37.3,
          68,
          51,
          26,
          80.8,
          120,
          41,
          45,
          34.2,
          46.6,
          47.8,
          null,
          31,
          43.5,
          56,
          30,
          null,
          53,
          51,
          29.1,
          40,
          28,
          null,
          55,
          37.3,
          31,
          37.3,
          75,
          28,
          74.6,
          49.7,
          53.7,
          25.7,
          36,
          49.7,
          37.3,
          49.7,
          null,
          37.3,
          47,
          36,
          null,
          43.5,
          60,
          53,
          40,
          40,
          46.6,
          128,
          53,
          31,
          64,
          37.3,
          61.1,
          null,
          70,
          44,
          62.1,
          29.1,
          45,
          49.7,
          51,
          78.3,
          50,
          35,
          53.7,
          70,
          68.4,
          null,
          40,
          30.1,
          47,
          54.9,
          60,
          55.9,
          59,
          80,
          28,
          62,
          48,
          70,
          67,
          65,
          51,
          37.7,
          42.9,
          50,
          16.8,
          45,
          83.9,
          24.9,
          71,
          55.9,
          50,
          null,
          null,
          37,
          40,
          34.2,
          70,
          44.7,
          53,
          43.5,
          31,
          55.9,
          43.5,
          51.3,
          37,
          null,
          null,
          54,
          55,
          50,
          48,
          40,
          77.1,
          43.5,
          30,
          68.4,
          65,
          65,
          58,
          51,
          28.5,
          50,
          43.5,
          52.8,
          31.1,
          38,
          49.7,
          31,
          38,
          70,
          60,
          46.6,
          null,
          37.3,
          null,
          43.5,
          41,
          30,
          64.6,
          55,
          62,
          50.1,
          62,
          30,
          80,
          68.4,
          62.1,
          43.5,
          26.5,
          65,
          null,
          37.3,
          74.6,
          null,
          56,
          41,
          51.2,
          22.4,
          55,
          77,
          52,
          47,
          45.6,
          24.9,
          56,
          null,
          51,
          null,
          60,
          49.7,
          28.5,
          59,
          149.1,
          52.8,
          75,
          90,
          46.6,
          25,
          55.9,
          40,
          null,
          40,
          50,
          null,
          42,
          null,
          36,
          35,
          37.3,
          37,
          null,
          null,
          31,
          65.2,
          60,
          15,
          52,
          43.5,
          28,
          63,
          41,
          54.7,
          64,
          35,
          65,
          55.9,
          null,
          21.7,
          54.7,
          25.7,
          62.1,
          28,
          41,
          44,
          22.4,
          37,
          61.2,
          35,
          40,
          54.7,
          25,
          44.7,
          34,
          null,
          78.3,
          31.1,
          55,
          65.6,
          52,
          35,
          92,
          43,
          56,
          40.4,
          83.3,
          75,
          50,
          62,
          59,
          27.7,
          50,
          53,
          61,
          16,
          62.1,
          55,
          52.8,
          47,
          null,
          null,
          42.5,
          24,
          34.2,
          70,
          67,
          53.7,
          60,
          70,
          31,
          55.9,
          65.2,
          46.6,
          68,
          99.4,
          52.8,
          27,
          43.5,
          44.3,
          null,
          35,
          51.6,
          19.3,
          68,
          51,
          null,
          30.4,
          34.5,
          28.5,
          62.1,
          72,
          null,
          62.1,
          55,
          45,
          58,
          67,
          29.1,
          33,
          22.4,
          34,
          70,
          60,
          56,
          38.5,
          null,
          55,
          55.9,
          55.9,
          38,
          70,
          51,
          95,
          52.8,
          55,
          null,
          64.9,
          null,
          40,
          62.2,
          null,
          null,
          31.1,
          60,
          49.7,
          62,
          55.9,
          78.9,
          40,
          57,
          55,
          40.4,
          40,
          28.5,
          74.6,
          62,
          49.2,
          53,
          73,
          54.1,
          73,
          65.2,
          62.8,
          38.5,
          47,
          34,
          52,
          72.7,
          38,
          59.3,
          75,
          71.5,
          24.9,
          71.5,
          65,
          59,
          45,
          48,
          65,
          59,
          48.5,
          53,
          45,
          32.3,
          111.8,
          55.9,
          44,
          38,
          38,
          38,
          44,
          45,
          62,
          59,
          57,
          88.2,
          52.8,
          55,
          null,
          52,
          null,
          40,
          74,
          52.8,
          34.2,
          50.3,
          50,
          54,
          65.2,
          43.6,
          38,
          52,
          38,
          50,
          49.7,
          46.6,
          62.1,
          50.2,
          55,
          null,
          66.2,
          50,
          66.5,
          null,
          35,
          78,
          52.8,
          37,
          18.6,
          28.6,
          75,
          28,
          65.9,
          62,
          62.1,
          57.2,
          80.8,
          75.2,
          76,
          48.5,
          22.4,
          34.2,
          91,
          62.1,
          47.8,
          55,
          31.1,
          55,
          62.1,
          34,
          28.5,
          58,
          70.2,
          49,
          null,
          null,
          null,
          55.9,
          65.2,
          null,
          52,
          55.9,
          70,
          62.1,
          64,
          56,
          60,
          63,
          59,
          null,
          52,
          76,
          49.7,
          53,
          73,
          59.3,
          34,
          58
         ],
         "xaxis": "x",
         "yaxis": "y"
        }
       ],
       "layout": {
        "barmode": "relative",
        "legend": {
         "tracegroupgap": 0
        },
        "margin": {
         "t": 60
        },
        "template": {
         "data": {
          "bar": [
           {
            "error_x": {
             "color": "#2a3f5f"
            },
            "error_y": {
             "color": "#2a3f5f"
            },
            "marker": {
             "line": {
              "color": "#E5ECF6",
              "width": 0.5
             },
             "pattern": {
              "fillmode": "overlay",
              "size": 10,
              "solidity": 0.2
             }
            },
            "type": "bar"
           }
          ],
          "barpolar": [
           {
            "marker": {
             "line": {
              "color": "#E5ECF6",
              "width": 0.5
             },
             "pattern": {
              "fillmode": "overlay",
              "size": 10,
              "solidity": 0.2
             }
            },
            "type": "barpolar"
           }
          ],
          "carpet": [
           {
            "aaxis": {
             "endlinecolor": "#2a3f5f",
             "gridcolor": "white",
             "linecolor": "white",
             "minorgridcolor": "white",
             "startlinecolor": "#2a3f5f"
            },
            "baxis": {
             "endlinecolor": "#2a3f5f",
             "gridcolor": "white",
             "linecolor": "white",
             "minorgridcolor": "white",
             "startlinecolor": "#2a3f5f"
            },
            "type": "carpet"
           }
          ],
          "choropleth": [
           {
            "colorbar": {
             "outlinewidth": 0,
             "ticks": ""
            },
            "type": "choropleth"
           }
          ],
          "contour": [
           {
            "colorbar": {
             "outlinewidth": 0,
             "ticks": ""
            },
            "colorscale": [
             [
              0,
              "#0d0887"
             ],
             [
              0.1111111111111111,
              "#46039f"
             ],
             [
              0.2222222222222222,
              "#7201a8"
             ],
             [
              0.3333333333333333,
              "#9c179e"
             ],
             [
              0.4444444444444444,
              "#bd3786"
             ],
             [
              0.5555555555555556,
              "#d8576b"
             ],
             [
              0.6666666666666666,
              "#ed7953"
             ],
             [
              0.7777777777777778,
              "#fb9f3a"
             ],
             [
              0.8888888888888888,
              "#fdca26"
             ],
             [
              1,
              "#f0f921"
             ]
            ],
            "type": "contour"
           }
          ],
          "contourcarpet": [
           {
            "colorbar": {
             "outlinewidth": 0,
             "ticks": ""
            },
            "type": "contourcarpet"
           }
          ],
          "heatmap": [
           {
            "colorbar": {
             "outlinewidth": 0,
             "ticks": ""
            },
            "colorscale": [
             [
              0,
              "#0d0887"
             ],
             [
              0.1111111111111111,
              "#46039f"
             ],
             [
              0.2222222222222222,
              "#7201a8"
             ],
             [
              0.3333333333333333,
              "#9c179e"
             ],
             [
              0.4444444444444444,
              "#bd3786"
             ],
             [
              0.5555555555555556,
              "#d8576b"
             ],
             [
              0.6666666666666666,
              "#ed7953"
             ],
             [
              0.7777777777777778,
              "#fb9f3a"
             ],
             [
              0.8888888888888888,
              "#fdca26"
             ],
             [
              1,
              "#f0f921"
             ]
            ],
            "type": "heatmap"
           }
          ],
          "heatmapgl": [
           {
            "colorbar": {
             "outlinewidth": 0,
             "ticks": ""
            },
            "colorscale": [
             [
              0,
              "#0d0887"
             ],
             [
              0.1111111111111111,
              "#46039f"
             ],
             [
              0.2222222222222222,
              "#7201a8"
             ],
             [
              0.3333333333333333,
              "#9c179e"
             ],
             [
              0.4444444444444444,
              "#bd3786"
             ],
             [
              0.5555555555555556,
              "#d8576b"
             ],
             [
              0.6666666666666666,
              "#ed7953"
             ],
             [
              0.7777777777777778,
              "#fb9f3a"
             ],
             [
              0.8888888888888888,
              "#fdca26"
             ],
             [
              1,
              "#f0f921"
             ]
            ],
            "type": "heatmapgl"
           }
          ],
          "histogram": [
           {
            "marker": {
             "pattern": {
              "fillmode": "overlay",
              "size": 10,
              "solidity": 0.2
             }
            },
            "type": "histogram"
           }
          ],
          "histogram2d": [
           {
            "colorbar": {
             "outlinewidth": 0,
             "ticks": ""
            },
            "colorscale": [
             [
              0,
              "#0d0887"
             ],
             [
              0.1111111111111111,
              "#46039f"
             ],
             [
              0.2222222222222222,
              "#7201a8"
             ],
             [
              0.3333333333333333,
              "#9c179e"
             ],
             [
              0.4444444444444444,
              "#bd3786"
             ],
             [
              0.5555555555555556,
              "#d8576b"
             ],
             [
              0.6666666666666666,
              "#ed7953"
             ],
             [
              0.7777777777777778,
              "#fb9f3a"
             ],
             [
              0.8888888888888888,
              "#fdca26"
             ],
             [
              1,
              "#f0f921"
             ]
            ],
            "type": "histogram2d"
           }
          ],
          "histogram2dcontour": [
           {
            "colorbar": {
             "outlinewidth": 0,
             "ticks": ""
            },
            "colorscale": [
             [
              0,
              "#0d0887"
             ],
             [
              0.1111111111111111,
              "#46039f"
             ],
             [
              0.2222222222222222,
              "#7201a8"
             ],
             [
              0.3333333333333333,
              "#9c179e"
             ],
             [
              0.4444444444444444,
              "#bd3786"
             ],
             [
              0.5555555555555556,
              "#d8576b"
             ],
             [
              0.6666666666666666,
              "#ed7953"
             ],
             [
              0.7777777777777778,
              "#fb9f3a"
             ],
             [
              0.8888888888888888,
              "#fdca26"
             ],
             [
              1,
              "#f0f921"
             ]
            ],
            "type": "histogram2dcontour"
           }
          ],
          "mesh3d": [
           {
            "colorbar": {
             "outlinewidth": 0,
             "ticks": ""
            },
            "type": "mesh3d"
           }
          ],
          "parcoords": [
           {
            "line": {
             "colorbar": {
              "outlinewidth": 0,
              "ticks": ""
             }
            },
            "type": "parcoords"
           }
          ],
          "pie": [
           {
            "automargin": true,
            "type": "pie"
           }
          ],
          "scatter": [
           {
            "fillpattern": {
             "fillmode": "overlay",
             "size": 10,
             "solidity": 0.2
            },
            "type": "scatter"
           }
          ],
          "scatter3d": [
           {
            "line": {
             "colorbar": {
              "outlinewidth": 0,
              "ticks": ""
             }
            },
            "marker": {
             "colorbar": {
              "outlinewidth": 0,
              "ticks": ""
             }
            },
            "type": "scatter3d"
           }
          ],
          "scattercarpet": [
           {
            "marker": {
             "colorbar": {
              "outlinewidth": 0,
              "ticks": ""
             }
            },
            "type": "scattercarpet"
           }
          ],
          "scattergeo": [
           {
            "marker": {
             "colorbar": {
              "outlinewidth": 0,
              "ticks": ""
             }
            },
            "type": "scattergeo"
           }
          ],
          "scattergl": [
           {
            "marker": {
             "colorbar": {
              "outlinewidth": 0,
              "ticks": ""
             }
            },
            "type": "scattergl"
           }
          ],
          "scattermapbox": [
           {
            "marker": {
             "colorbar": {
              "outlinewidth": 0,
              "ticks": ""
             }
            },
            "type": "scattermapbox"
           }
          ],
          "scatterpolar": [
           {
            "marker": {
             "colorbar": {
              "outlinewidth": 0,
              "ticks": ""
             }
            },
            "type": "scatterpolar"
           }
          ],
          "scatterpolargl": [
           {
            "marker": {
             "colorbar": {
              "outlinewidth": 0,
              "ticks": ""
             }
            },
            "type": "scatterpolargl"
           }
          ],
          "scatterternary": [
           {
            "marker": {
             "colorbar": {
              "outlinewidth": 0,
              "ticks": ""
             }
            },
            "type": "scatterternary"
           }
          ],
          "surface": [
           {
            "colorbar": {
             "outlinewidth": 0,
             "ticks": ""
            },
            "colorscale": [
             [
              0,
              "#0d0887"
             ],
             [
              0.1111111111111111,
              "#46039f"
             ],
             [
              0.2222222222222222,
              "#7201a8"
             ],
             [
              0.3333333333333333,
              "#9c179e"
             ],
             [
              0.4444444444444444,
              "#bd3786"
             ],
             [
              0.5555555555555556,
              "#d8576b"
             ],
             [
              0.6666666666666666,
              "#ed7953"
             ],
             [
              0.7777777777777778,
              "#fb9f3a"
             ],
             [
              0.8888888888888888,
              "#fdca26"
             ],
             [
              1,
              "#f0f921"
             ]
            ],
            "type": "surface"
           }
          ],
          "table": [
           {
            "cells": {
             "fill": {
              "color": "#EBF0F8"
             },
             "line": {
              "color": "white"
             }
            },
            "header": {
             "fill": {
              "color": "#C8D4E3"
             },
             "line": {
              "color": "white"
             }
            },
            "type": "table"
           }
          ]
         },
         "layout": {
          "annotationdefaults": {
           "arrowcolor": "#2a3f5f",
           "arrowhead": 0,
           "arrowwidth": 1
          },
          "autotypenumbers": "strict",
          "coloraxis": {
           "colorbar": {
            "outlinewidth": 0,
            "ticks": ""
           }
          },
          "colorscale": {
           "diverging": [
            [
             0,
             "#8e0152"
            ],
            [
             0.1,
             "#c51b7d"
            ],
            [
             0.2,
             "#de77ae"
            ],
            [
             0.3,
             "#f1b6da"
            ],
            [
             0.4,
             "#fde0ef"
            ],
            [
             0.5,
             "#f7f7f7"
            ],
            [
             0.6,
             "#e6f5d0"
            ],
            [
             0.7,
             "#b8e186"
            ],
            [
             0.8,
             "#7fbc41"
            ],
            [
             0.9,
             "#4d9221"
            ],
            [
             1,
             "#276419"
            ]
           ],
           "sequential": [
            [
             0,
             "#0d0887"
            ],
            [
             0.1111111111111111,
             "#46039f"
            ],
            [
             0.2222222222222222,
             "#7201a8"
            ],
            [
             0.3333333333333333,
             "#9c179e"
            ],
            [
             0.4444444444444444,
             "#bd3786"
            ],
            [
             0.5555555555555556,
             "#d8576b"
            ],
            [
             0.6666666666666666,
             "#ed7953"
            ],
            [
             0.7777777777777778,
             "#fb9f3a"
            ],
            [
             0.8888888888888888,
             "#fdca26"
            ],
            [
             1,
             "#f0f921"
            ]
           ],
           "sequentialminus": [
            [
             0,
             "#0d0887"
            ],
            [
             0.1111111111111111,
             "#46039f"
            ],
            [
             0.2222222222222222,
             "#7201a8"
            ],
            [
             0.3333333333333333,
             "#9c179e"
            ],
            [
             0.4444444444444444,
             "#bd3786"
            ],
            [
             0.5555555555555556,
             "#d8576b"
            ],
            [
             0.6666666666666666,
             "#ed7953"
            ],
            [
             0.7777777777777778,
             "#fb9f3a"
            ],
            [
             0.8888888888888888,
             "#fdca26"
            ],
            [
             1,
             "#f0f921"
            ]
           ]
          },
          "colorway": [
           "#636efa",
           "#EF553B",
           "#00cc96",
           "#ab63fa",
           "#FFA15A",
           "#19d3f3",
           "#FF6692",
           "#B6E880",
           "#FF97FF",
           "#FECB52"
          ],
          "font": {
           "color": "#2a3f5f"
          },
          "geo": {
           "bgcolor": "white",
           "lakecolor": "white",
           "landcolor": "#E5ECF6",
           "showlakes": true,
           "showland": true,
           "subunitcolor": "white"
          },
          "hoverlabel": {
           "align": "left"
          },
          "hovermode": "closest",
          "mapbox": {
           "style": "light"
          },
          "paper_bgcolor": "white",
          "plot_bgcolor": "#E5ECF6",
          "polar": {
           "angularaxis": {
            "gridcolor": "white",
            "linecolor": "white",
            "ticks": ""
           },
           "bgcolor": "#E5ECF6",
           "radialaxis": {
            "gridcolor": "white",
            "linecolor": "white",
            "ticks": ""
           }
          },
          "scene": {
           "xaxis": {
            "backgroundcolor": "#E5ECF6",
            "gridcolor": "white",
            "gridwidth": 2,
            "linecolor": "white",
            "showbackground": true,
            "ticks": "",
            "zerolinecolor": "white"
           },
           "yaxis": {
            "backgroundcolor": "#E5ECF6",
            "gridcolor": "white",
            "gridwidth": 2,
            "linecolor": "white",
            "showbackground": true,
            "ticks": "",
            "zerolinecolor": "white"
           },
           "zaxis": {
            "backgroundcolor": "#E5ECF6",
            "gridcolor": "white",
            "gridwidth": 2,
            "linecolor": "white",
            "showbackground": true,
            "ticks": "",
            "zerolinecolor": "white"
           }
          },
          "shapedefaults": {
           "line": {
            "color": "#2a3f5f"
           }
          },
          "ternary": {
           "aaxis": {
            "gridcolor": "white",
            "linecolor": "white",
            "ticks": ""
           },
           "baxis": {
            "gridcolor": "white",
            "linecolor": "white",
            "ticks": ""
           },
           "bgcolor": "#E5ECF6",
           "caxis": {
            "gridcolor": "white",
            "linecolor": "white",
            "ticks": ""
           }
          },
          "title": {
           "x": 0.05
          },
          "xaxis": {
           "automargin": true,
           "gridcolor": "white",
           "linecolor": "white",
           "ticks": "",
           "title": {
            "standoff": 15
           },
           "zerolinecolor": "white",
           "zerolinewidth": 2
          },
          "yaxis": {
           "automargin": true,
           "gridcolor": "white",
           "linecolor": "white",
           "ticks": "",
           "title": {
            "standoff": 15
           },
           "zerolinecolor": "white",
           "zerolinewidth": 2
          }
         }
        },
        "xaxis": {
         "anchor": "y",
         "domain": [
          0,
          1
         ],
         "title": {
          "text": "Speed_mph"
         }
        },
        "yaxis": {
         "anchor": "x",
         "domain": [
          0,
          1
         ],
         "title": {
          "text": "count"
         }
        }
       }
      }
     },
     "metadata": {},
     "output_type": "display_data"
    }
   ],
   "source": [
    "# What is the average speed? Also display a plot to show it’s distribution.\n",
    "avg_speed = df[\"Speed_mph\"].mean()\n",
    "print(avg_speed)\n",
    "fig = px.histogram(df, x=\"Speed_mph\", color_discrete_sequence=[\"red\"])\n",
    "fig.show()"
   ]
  },
  {
   "cell_type": "code",
   "execution_count": null,
   "metadata": {},
   "outputs": [
    {
     "name": "stdout",
     "output_type": "stream",
     "text": [
      "                 Inversions  Year_Introduced  latitude  longitude  \\\n",
      "Inversions         1.000000         0.211003 -0.009815   0.061589   \n",
      "Year_Introduced    0.211003         1.000000 -0.070982   0.175913   \n",
      "latitude          -0.009815        -0.070982  1.000000  -0.298488   \n",
      "longitude          0.061589         0.175913 -0.298488   1.000000   \n",
      "speed1_value       0.163419         0.210191 -0.121847   0.301179   \n",
      "Speed_mph          0.252209         0.204853 -0.063757   0.051063   \n",
      "height_value       0.094811         0.087687 -0.004265  -0.092764   \n",
      "Height_ft          0.171330         0.232150  0.011492   0.159733   \n",
      "Inversions         1.000000         0.228758 -0.014043   0.087160   \n",
      "Gforce             0.356865        -0.066657  0.042871   0.016485   \n",
      "year               0.238472         0.963965 -0.070100   0.179283   \n",
      "\n",
      "                 speed1_value  Speed_mph  height_value  Height_ft  Inversions  \\\n",
      "Inversions           0.163419   0.252209      0.094811   0.171330    1.000000   \n",
      "Year_Introduced      0.210191   0.204853      0.087687   0.232150    0.228758   \n",
      "latitude            -0.121847  -0.063757     -0.004265   0.011492   -0.014043   \n",
      "longitude            0.301179   0.051063     -0.092764   0.159733    0.087160   \n",
      "speed1_value         1.000000   0.851667      0.088761   0.815103    0.176105   \n",
      "Speed_mph            0.851667   1.000000      0.241461   0.829404    0.265763   \n",
      "height_value         0.088761   0.241461      1.000000   1.000000    0.108199   \n",
      "Height_ft            0.815103   0.829404      1.000000   1.000000    0.164246   \n",
      "Inversions           0.176105   0.265763      0.108199   0.164246    1.000000   \n",
      "Gforce               0.379962   0.489337      0.337386   0.475020    0.345106   \n",
      "year                 0.265422   0.266891      0.102731   0.285280    0.250249   \n",
      "\n",
      "                   Gforce      year  \n",
      "Inversions       0.356865  0.238472  \n",
      "Year_Introduced -0.066657  0.963965  \n",
      "latitude         0.042871 -0.070100  \n",
      "longitude        0.016485  0.179283  \n",
      "speed1_value     0.379962  0.265422  \n",
      "Speed_mph        0.489337  0.266891  \n",
      "height_value     0.337386  0.102731  \n",
      "Height_ft        0.475020  0.285280  \n",
      "Inversions       0.345106  0.250249  \n",
      "Gforce           1.000000 -0.075810  \n",
      "year            -0.075810  1.000000  \n"
     ]
    },
    {
     "name": "stderr",
     "output_type": "stream",
     "text": [
      "C:\\Users\\riain\\AppData\\Local\\Temp\\ipykernel_3552\\3633877177.py:2: FutureWarning:\n",
      "\n",
      "The default value of numeric_only in DataFrame.corr is deprecated. In a future version, it will default to False. Select only valid columns or specify the value of numeric_only to silence this warning.\n",
      "\n"
     ]
    },
    {
     "data": {
      "text/plain": [
       "<Axes: >"
      ]
     },
     "execution_count": 63,
     "metadata": {},
     "output_type": "execute_result"
    },
    {
     "data": {
      "image/png": "[encoded data removed]",
      "text/plain": [
       "<Figure size 640x480 with 2 Axes>"
      ]
     },
     "metadata": {},
     "output_type": "display_data"
    }
   ],
   "source": [
    "# Explore the feature relationships. Are there any positively or negatively correlated relationships?\n",
    "corr = df.corr()\n",
    "print(corr)\n",
    "sns.heatmap(corr, annot=True, fmt=\".1f\", linewidth=.5)\n",
    "print()\n"
   ]
  },
  {
   "cell_type": "code",
   "execution_count": 85,
   "metadata": {},
   "outputs": [
    {
     "name": "stderr",
     "output_type": "stream",
     "text": [
      "C:\\Users\\riain\\AppData\\Local\\Temp\\ipykernel_3552\\1858285088.py:2: FutureWarning:\n",
      "\n",
      "The default value of numeric_only in DataFrame.corr is deprecated. In a future version, it will default to False. Select only valid columns or specify the value of numeric_only to silence this warning.\n",
      "\n"
     ]
    },
    {
     "data": {
      "application/vnd.plotly.v1+json": {
       "config": {
        "plotlyServerURL": "https://plot.ly"
       },
       "data": [
        {
         "colorscale": [
          [
           0,
           "#440154"
          ],
          [
           0.1111111111111111,
           "#482878"
          ],
          [
           0.2222222222222222,
           "#3e4989"
          ],
          [
           0.3333333333333333,
           "#31688e"
          ],
          [
           0.4444444444444444,
           "#26828e"
          ],
          [
           0.5555555555555556,
           "#1f9e89"
          ],
          [
           0.6666666666666666,
           "#35b779"
          ],
          [
           0.7777777777777778,
           "#6ece58"
          ],
          [
           0.8888888888888888,
           "#b5de2b"
          ],
          [
           1,
           "#fde725"
          ]
         ],
         "type": "heatmap",
         "x": [
          "Inversions",
          "Year_Introduced",
          "latitude",
          "longitude",
          "speed1_value",
          "Speed_mph",
          "height_value",
          "Height_ft",
          "Inversions",
          "Gforce",
          "year"
         ],
         "y": [
          "Inversions",
          "Year_Introduced",
          "latitude",
          "longitude",
          "speed1_value",
          "Speed_mph",
          "height_value",
          "Height_ft",
          "Inversions",
          "Gforce",
          "year"
         ],
         "z": [
          [
           1,
           0.21100327641542452,
           -0.009815136322287544,
           0.06158859074324398,
           0.16341944890555368,
           0.2522091185831383,
           0.0948108651352453,
           0.1713303659746088,
           1,
           0.35686526139174357,
           0.2384723737140358
          ],
          [
           0.21100327641542452,
           1,
           -0.0709819162260715,
           0.17591275514909235,
           0.21019145469383657,
           0.20485323137152373,
           0.08768724927900848,
           0.23214954316224837,
           0.2287578783702928,
           -0.06665693268403323,
           0.9639647471804702
          ],
          [
           -0.009815136322287544,
           -0.0709819162260715,
           1,
           -0.2984881649818827,
           -0.12184655801386458,
           -0.06375711844022755,
           -0.004265466486283257,
           0.011492097511048741,
           -0.014043277354548859,
           0.042870978497241786,
           -0.07010036320449214
          ],
          [
           0.06158859074324398,
           0.17591275514909235,
           -0.2984881649818827,
           1,
           0.3011794693106325,
           0.05106331951453471,
           -0.09276435742628834,
           0.15973260705878295,
           0.08715983783600909,
           0.016484738774653562,
           0.1792826796750674
          ],
          [
           0.16341944890555368,
           0.21019145469383657,
           -0.12184655801386458,
           0.3011794693106325,
           1,
           0.8516672688694527,
           0.08876098735782012,
           0.8151032086276022,
           0.17610525551638215,
           0.3799616924018164,
           0.2654219942183356
          ],
          [
           0.2522091185831383,
           0.20485323137152373,
           -0.06375711844022755,
           0.05106331951453471,
           0.8516672688694527,
           1,
           0.24146059166188247,
           0.8294043224733185,
           0.2657631222138213,
           0.4893366809640032,
           0.26689143447164443
          ],
          [
           0.0948108651352453,
           0.08768724927900848,
           -0.004265466486283257,
           -0.09276435742628834,
           0.08876098735782012,
           0.24146059166188247,
           1,
           0.9999998993618572,
           0.10819890040544411,
           0.33738647880332234,
           0.1027312977421818
          ],
          [
           0.1713303659746088,
           0.23214954316224837,
           0.011492097511048741,
           0.15973260705878295,
           0.8151032086276022,
           0.8294043224733185,
           0.9999998993618572,
           1,
           0.1642464608032275,
           0.4750195804328366,
           0.28528019919153413
          ],
          [
           1,
           0.2287578783702928,
           -0.014043277354548859,
           0.08715983783600909,
           0.17610525551638215,
           0.2657631222138213,
           0.10819890040544411,
           0.1642464608032275,
           1,
           0.34510648187790627,
           0.25024860536583526
          ],
          [
           0.35686526139174357,
           -0.06665693268403323,
           0.042870978497241786,
           0.016484738774653562,
           0.3799616924018164,
           0.4893366809640032,
           0.33738647880332234,
           0.4750195804328366,
           0.34510648187790627,
           1,
           -0.07580970219834478
          ],
          [
           0.2384723737140358,
           0.9639647471804702,
           -0.07010036320449214,
           0.1792826796750674,
           0.2654219942183356,
           0.26689143447164443,
           0.1027312977421818,
           0.28528019919153413,
           0.25024860536583526,
           -0.07580970219834478,
           1
          ]
         ]
        }
       ],
       "layout": {
        "template": {
         "data": {
          "bar": [
           {
            "error_x": {
             "color": "#2a3f5f"
            },
            "error_y": {
             "color": "#2a3f5f"
            },
            "marker": {
             "line": {
              "color": "#E5ECF6",
              "width": 0.5
             },
             "pattern": {
              "fillmode": "overlay",
              "size": 10,
              "solidity": 0.2
             }
            },
            "type": "bar"
           }
          ],
          "barpolar": [
           {
            "marker": {
             "line": {
              "color": "#E5ECF6",
              "width": 0.5
             },
             "pattern": {
              "fillmode": "overlay",
              "size": 10,
              "solidity": 0.2
             }
            },
            "type": "barpolar"
           }
          ],
          "carpet": [
           {
            "aaxis": {
             "endlinecolor": "#2a3f5f",
             "gridcolor": "white",
             "linecolor": "white",
             "minorgridcolor": "white",
             "startlinecolor": "#2a3f5f"
            },
            "baxis": {
             "endlinecolor": "#2a3f5f",
             "gridcolor": "white",
             "linecolor": "white",
             "minorgridcolor": "white",
             "startlinecolor": "#2a3f5f"
            },
            "type": "carpet"
           }
          ],
          "choropleth": [
           {
            "colorbar": {
             "outlinewidth": 0,
             "ticks": ""
            },
            "type": "choropleth"
           }
          ],
          "contour": [
           {
            "colorbar": {
             "outlinewidth": 0,
             "ticks": ""
            },
            "colorscale": [
             [
              0,
              "#0d0887"
             ],
             [
              0.1111111111111111,
              "#46039f"
             ],
             [
              0.2222222222222222,
              "#7201a8"
             ],
             [
              0.3333333333333333,
              "#9c179e"
             ],
             [
              0.4444444444444444,
              "#bd3786"
             ],
             [
              0.5555555555555556,
              "#d8576b"
             ],
             [
              0.6666666666666666,
              "#ed7953"
             ],
             [
              0.7777777777777778,
              "#fb9f3a"
             ],
             [
              0.8888888888888888,
              "#fdca26"
             ],
             [
              1,
              "#f0f921"
             ]
            ],
            "type": "contour"
           }
          ],
          "contourcarpet": [
           {
            "colorbar": {
             "outlinewidth": 0,
             "ticks": ""
            },
            "type": "contourcarpet"
           }
          ],
          "heatmap": [
           {
            "colorbar": {
             "outlinewidth": 0,
             "ticks": ""
            },
            "colorscale": [
             [
              0,
              "#0d0887"
             ],
             [
              0.1111111111111111,
              "#46039f"
             ],
             [
              0.2222222222222222,
              "#7201a8"
             ],
             [
              0.3333333333333333,
              "#9c179e"
             ],
             [
              0.4444444444444444,
              "#bd3786"
             ],
             [
              0.5555555555555556,
              "#d8576b"
             ],
             [
              0.6666666666666666,
              "#ed7953"
             ],
             [
              0.7777777777777778,
              "#fb9f3a"
             ],
             [
              0.8888888888888888,
              "#fdca26"
             ],
             [
              1,
              "#f0f921"
             ]
            ],
            "type": "heatmap"
           }
          ],
          "heatmapgl": [
           {
            "colorbar": {
             "outlinewidth": 0,
             "ticks": ""
            },
            "colorscale": [
             [
              0,
              "#0d0887"
             ],
             [
              0.1111111111111111,
              "#46039f"
             ],
             [
              0.2222222222222222,
              "#7201a8"
             ],
             [
              0.3333333333333333,
              "#9c179e"
             ],
             [
              0.4444444444444444,
              "#bd3786"
             ],
             [
              0.5555555555555556,
              "#d8576b"
             ],
             [
              0.6666666666666666,
              "#ed7953"
             ],
             [
              0.7777777777777778,
              "#fb9f3a"
             ],
             [
              0.8888888888888888,
              "#fdca26"
             ],
             [
              1,
              "#f0f921"
             ]
            ],
            "type": "heatmapgl"
           }
          ],
          "histogram": [
           {
            "marker": {
             "pattern": {
              "fillmode": "overlay",
              "size": 10,
              "solidity": 0.2
             }
            },
            "type": "histogram"
           }
          ],
          "histogram2d": [
           {
            "colorbar": {
             "outlinewidth": 0,
             "ticks": ""
            },
            "colorscale": [
             [
              0,
              "#0d0887"
             ],
             [
              0.1111111111111111,
              "#46039f"
             ],
             [
              0.2222222222222222,
              "#7201a8"
             ],
             [
              0.3333333333333333,
              "#9c179e"
             ],
             [
              0.4444444444444444,
              "#bd3786"
             ],
             [
              0.5555555555555556,
              "#d8576b"
             ],
             [
              0.6666666666666666,
              "#ed7953"
             ],
             [
              0.7777777777777778,
              "#fb9f3a"
             ],
             [
              0.8888888888888888,
              "#fdca26"
             ],
             [
              1,
              "#f0f921"
             ]
            ],
            "type": "histogram2d"
           }
          ],
          "histogram2dcontour": [
           {
            "colorbar": {
             "outlinewidth": 0,
             "ticks": ""
            },
            "colorscale": [
             [
              0,
              "#0d0887"
             ],
             [
              0.1111111111111111,
              "#46039f"
             ],
             [
              0.2222222222222222,
              "#7201a8"
             ],
             [
              0.3333333333333333,
              "#9c179e"
             ],
             [
              0.4444444444444444,
              "#bd3786"
             ],
             [
              0.5555555555555556,
              "#d8576b"
             ],
             [
              0.6666666666666666,
              "#ed7953"
             ],
             [
              0.7777777777777778,
              "#fb9f3a"
             ],
             [
              0.8888888888888888,
              "#fdca26"
             ],
             [
              1,
              "#f0f921"
             ]
            ],
            "type": "histogram2dcontour"
           }
          ],
          "mesh3d": [
           {
            "colorbar": {
             "outlinewidth": 0,
             "ticks": ""
            },
            "type": "mesh3d"
           }
          ],
          "parcoords": [
           {
            "line": {
             "colorbar": {
              "outlinewidth": 0,
              "ticks": ""
             }
            },
            "type": "parcoords"
           }
          ],
          "pie": [
           {
            "automargin": true,
            "type": "pie"
           }
          ],
          "scatter": [
           {
            "fillpattern": {
             "fillmode": "overlay",
             "size": 10,
             "solidity": 0.2
            },
            "type": "scatter"
           }
          ],
          "scatter3d": [
           {
            "line": {
             "colorbar": {
              "outlinewidth": 0,
              "ticks": ""
             }
            },
            "marker": {
             "colorbar": {
              "outlinewidth": 0,
              "ticks": ""
             }
            },
            "type": "scatter3d"
           }
          ],
          "scattercarpet": [
           {
            "marker": {
             "colorbar": {
              "outlinewidth": 0,
              "ticks": ""
             }
            },
            "type": "scattercarpet"
           }
          ],
          "scattergeo": [
           {
            "marker": {
             "colorbar": {
              "outlinewidth": 0,
              "ticks": ""
             }
            },
            "type": "scattergeo"
           }
          ],
          "scattergl": [
           {
            "marker": {
             "colorbar": {
              "outlinewidth": 0,
              "ticks": ""
             }
            },
            "type": "scattergl"
           }
          ],
          "scattermapbox": [
           {
            "marker": {
             "colorbar": {
              "outlinewidth": 0,
              "ticks": ""
             }
            },
            "type": "scattermapbox"
           }
          ],
          "scatterpolar": [
           {
            "marker": {
             "colorbar": {
              "outlinewidth": 0,
              "ticks": ""
             }
            },
            "type": "scatterpolar"
           }
          ],
          "scatterpolargl": [
           {
            "marker": {
             "colorbar": {
              "outlinewidth": 0,
              "ticks": ""
             }
            },
            "type": "scatterpolargl"
           }
          ],
          "scatterternary": [
           {
            "marker": {
             "colorbar": {
              "outlinewidth": 0,
              "ticks": ""
             }
            },
            "type": "scatterternary"
           }
          ],
          "surface": [
           {
            "colorbar": {
             "outlinewidth": 0,
             "ticks": ""
            },
            "colorscale": [
             [
              0,
              "#0d0887"
             ],
             [
              0.1111111111111111,
              "#46039f"
             ],
             [
              0.2222222222222222,
              "#7201a8"
             ],
             [
              0.3333333333333333,
              "#9c179e"
             ],
             [
              0.4444444444444444,
              "#bd3786"
             ],
             [
              0.5555555555555556,
              "#d8576b"
             ],
             [
              0.6666666666666666,
              "#ed7953"
             ],
             [
              0.7777777777777778,
              "#fb9f3a"
             ],
             [
              0.8888888888888888,
              "#fdca26"
             ],
             [
              1,
              "#f0f921"
             ]
            ],
            "type": "surface"
           }
          ],
          "table": [
           {
            "cells": {
             "fill": {
              "color": "#EBF0F8"
             },
             "line": {
              "color": "white"
             }
            },
            "header": {
             "fill": {
              "color": "#C8D4E3"
             },
             "line": {
              "color": "white"
             }
            },
            "type": "table"
           }
          ]
         },
         "layout": {
          "annotationdefaults": {
           "arrowcolor": "#2a3f5f",
           "arrowhead": 0,
           "arrowwidth": 1
          },
          "autotypenumbers": "strict",
          "coloraxis": {
           "colorbar": {
            "outlinewidth": 0,
            "ticks": ""
           }
          },
          "colorscale": {
           "diverging": [
            [
             0,
             "#8e0152"
            ],
            [
             0.1,
             "#c51b7d"
            ],
            [
             0.2,
             "#de77ae"
            ],
            [
             0.3,
             "#f1b6da"
            ],
            [
             0.4,
             "#fde0ef"
            ],
            [
             0.5,
             "#f7f7f7"
            ],
            [
             0.6,
             "#e6f5d0"
            ],
            [
             0.7,
             "#b8e186"
            ],
            [
             0.8,
             "#7fbc41"
            ],
            [
             0.9,
             "#4d9221"
            ],
            [
             1,
             "#276419"
            ]
           ],
           "sequential": [
            [
             0,
             "#0d0887"
            ],
            [
             0.1111111111111111,
             "#46039f"
            ],
            [
             0.2222222222222222,
             "#7201a8"
            ],
            [
             0.3333333333333333,
             "#9c179e"
            ],
            [
             0.4444444444444444,
             "#bd3786"
            ],
            [
             0.5555555555555556,
             "#d8576b"
            ],
            [
             0.6666666666666666,
             "#ed7953"
            ],
            [
             0.7777777777777778,
             "#fb9f3a"
            ],
            [
             0.8888888888888888,
             "#fdca26"
            ],
            [
             1,
             "#f0f921"
            ]
           ],
           "sequentialminus": [
            [
             0,
             "#0d0887"
            ],
            [
             0.1111111111111111,
             "#46039f"
            ],
            [
             0.2222222222222222,
             "#7201a8"
            ],
            [
             0.3333333333333333,
             "#9c179e"
            ],
            [
             0.4444444444444444,
             "#bd3786"
            ],
            [
             0.5555555555555556,
             "#d8576b"
            ],
            [
             0.6666666666666666,
             "#ed7953"
            ],
            [
             0.7777777777777778,
             "#fb9f3a"
            ],
            [
             0.8888888888888888,
             "#fdca26"
            ],
            [
             1,
             "#f0f921"
            ]
           ]
          },
          "colorway": [
           "#636efa",
           "#EF553B",
           "#00cc96",
           "#ab63fa",
           "#FFA15A",
           "#19d3f3",
           "#FF6692",
           "#B6E880",
           "#FF97FF",
           "#FECB52"
          ],
          "font": {
           "color": "#2a3f5f"
          },
          "geo": {
           "bgcolor": "white",
           "lakecolor": "white",
           "landcolor": "#E5ECF6",
           "showlakes": true,
           "showland": true,
           "subunitcolor": "white"
          },
          "hoverlabel": {
           "align": "left"
          },
          "hovermode": "closest",
          "mapbox": {
           "style": "light"
          },
          "paper_bgcolor": "white",
          "plot_bgcolor": "#E5ECF6",
          "polar": {
           "angularaxis": {
            "gridcolor": "white",
            "linecolor": "white",
            "ticks": ""
           },
           "bgcolor": "#E5ECF6",
           "radialaxis": {
            "gridcolor": "white",
            "linecolor": "white",
            "ticks": ""
           }
          },
          "scene": {
           "xaxis": {
            "backgroundcolor": "#E5ECF6",
            "gridcolor": "white",
            "gridwidth": 2,
            "linecolor": "white",
            "showbackground": true,
            "ticks": "",
            "zerolinecolor": "white"
           },
           "yaxis": {
            "backgroundcolor": "#E5ECF6",
            "gridcolor": "white",
            "gridwidth": 2,
            "linecolor": "white",
            "showbackground": true,
            "ticks": "",
            "zerolinecolor": "white"
           },
           "zaxis": {
            "backgroundcolor": "#E5ECF6",
            "gridcolor": "white",
            "gridwidth": 2,
            "linecolor": "white",
            "showbackground": true,
            "ticks": "",
            "zerolinecolor": "white"
           }
          },
          "shapedefaults": {
           "line": {
            "color": "#2a3f5f"
           }
          },
          "ternary": {
           "aaxis": {
            "gridcolor": "white",
            "linecolor": "white",
            "ticks": ""
           },
           "baxis": {
            "gridcolor": "white",
            "linecolor": "white",
            "ticks": ""
           },
           "bgcolor": "#E5ECF6",
           "caxis": {
            "gridcolor": "white",
            "linecolor": "white",
            "ticks": ""
           }
          },
          "title": {
           "x": 0.05
          },
          "xaxis": {
           "automargin": true,
           "gridcolor": "white",
           "linecolor": "white",
           "ticks": "",
           "title": {
            "standoff": 15
           },
           "zerolinecolor": "white",
           "zerolinewidth": 2
          },
          "yaxis": {
           "automargin": true,
           "gridcolor": "white",
           "linecolor": "white",
           "ticks": "",
           "title": {
            "standoff": 15
           },
           "zerolinecolor": "white",
           "zerolinewidth": 2
          }
         }
        },
        "title": {
         "text": "Correlation Heatmap"
        }
       }
      }
     },
     "metadata": {},
     "output_type": "display_data"
    }
   ],
   "source": [
    "# Calculate the correlation matrix\n",
    "corr_matrix = df.corr()\n",
    "\n",
    "# Create the heatmap trace\n",
    "trace = go.Heatmap(\n",
    "    z=corr_matrix.values,  # Use the correlation matrix as the values\n",
    "    x=corr_matrix.columns,  # Use the column names as x-axis labels\n",
    "    y=corr_matrix.columns,  # Use the column names as y-axis labels\n",
    "    colorscale='Viridis',  # Specify the color scale\n",
    "    \n",
    ")\n",
    "\n",
    "# Create the layout\n",
    "layout = go.Layout(title='Correlation Heatmap')\n",
    "\n",
    "# Create the figure and add the trace\n",
    "fig = go.Figure(data=[trace], layout=layout)\n",
    "\n",
    "# Show the figure\n",
    "fig.show()"
   ]
  }
 ],
 "metadata": {
  "kernelspec": {
   "display_name": "stonks",
   "language": "python",
   "name": "python3"
  },
  "language_info": {
   "codemirror_mode": {
    "name": "ipython",
    "version": 3
   },
   "file_extension": ".py",
   "mimetype": "text/x-python",
   "name": "python",
   "nbconvert_exporter": "python",
   "pygments_lexer": "ipython3",
   "version": "3.10.9"
  },
  "orig_nbformat": 4,
  "vscode": {
   "interpreter": {
    "hash": "ba9f635ef5a1156dfe8e4e58cc18228784b536dedaa4056e5757a06bcbce2a41"
   }
  }
 },
 "nbformat": 4,
 "nbformat_minor": 2
}
