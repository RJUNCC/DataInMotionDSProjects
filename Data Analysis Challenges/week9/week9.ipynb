{
 "cells": [
  {
   "cell_type": "code",
   "execution_count": 34,
   "metadata": {},
   "outputs": [],
   "source": [
    "import polars as pl\n",
    "import pandas as pd\n",
    "import plotly.express as px\n",
    "import plotly.graph_objects as go\n",
    "import matplotlib.pyplot as plt\n",
    "import seaborn as sns\n",
    "from matplotlib.animation import FuncAnimation\n",
    "import dash\n",
    "import dash_core_components as dcc\n",
    "import dash_html_components as html\n",
    "from datetime import datetime\n",
    "from dash.dependencies import Input, Output"
   ]
  },
  {
   "cell_type": "code",
   "execution_count": 3,
   "metadata": {},
   "outputs": [
    {
     "data": {
      "text/html": [
       "<div><style>\n",
       ".dataframe > thead > tr > th,\n",
       ".dataframe > tbody > tr > td {\n",
       "  text-align: right;\n",
       "}\n",
       "</style>\n",
       "<small>shape: (5, 46)</small><table border=\"1\" class=\"dataframe\"><thead><tr><th>ID</th><th>Source</th><th>Severity</th><th>Start_Time</th><th>End_Time</th><th>Start_Lat</th><th>Start_Lng</th><th>End_Lat</th><th>End_Lng</th><th>Distance(mi)</th><th>Description</th><th>Street</th><th>City</th><th>County</th><th>State</th><th>Zipcode</th><th>Country</th><th>Timezone</th><th>Airport_Code</th><th>Weather_Timestamp</th><th>Temperature(F)</th><th>Wind_Chill(F)</th><th>Humidity(%)</th><th>Pressure(in)</th><th>Visibility(mi)</th><th>Wind_Direction</th><th>Wind_Speed(mph)</th><th>Precipitation(in)</th><th>Weather_Condition</th><th>Amenity</th><th>Bump</th><th>Crossing</th><th>Give_Way</th><th>Junction</th><th>No_Exit</th><th>Railway</th><th>Roundabout</th><th>Station</th><th>Stop</th><th>Traffic_Calming</th><th>Traffic_Signal</th><th>Turning_Loop</th><th>Sunrise_Sunset</th><th>Civil_Twilight</th><th>Nautical_Twilight</th><th>Astronomical_Twilight</th></tr><tr><td>str</td><td>str</td><td>i64</td><td>str</td><td>str</td><td>f64</td><td>f64</td><td>str</td><td>str</td><td>f64</td><td>str</td><td>str</td><td>str</td><td>str</td><td>str</td><td>str</td><td>str</td><td>str</td><td>str</td><td>str</td><td>f64</td><td>f64</td><td>f64</td><td>f64</td><td>f64</td><td>str</td><td>f64</td><td>f64</td><td>str</td><td>bool</td><td>bool</td><td>bool</td><td>bool</td><td>bool</td><td>bool</td><td>bool</td><td>bool</td><td>bool</td><td>bool</td><td>bool</td><td>bool</td><td>bool</td><td>str</td><td>str</td><td>str</td><td>str</td></tr></thead><tbody><tr><td>&quot;A-1&quot;</td><td>&quot;Source2&quot;</td><td>3</td><td>&quot;2016-02-08 05:…</td><td>&quot;2016-02-08 11:…</td><td>39.865147</td><td>-84.058723</td><td>null</td><td>null</td><td>0.01</td><td>&quot;Right lane blo…</td><td>&quot;I-70 E&quot;</td><td>&quot;Dayton&quot;</td><td>&quot;Montgomery&quot;</td><td>&quot;OH&quot;</td><td>&quot;45424&quot;</td><td>&quot;US&quot;</td><td>&quot;US/Eastern&quot;</td><td>&quot;KFFO&quot;</td><td>&quot;2016-02-08 05:…</td><td>36.9</td><td>null</td><td>91.0</td><td>29.68</td><td>10.0</td><td>&quot;Calm&quot;</td><td>null</td><td>0.02</td><td>&quot;Light Rain&quot;</td><td>false</td><td>false</td><td>false</td><td>false</td><td>false</td><td>false</td><td>false</td><td>false</td><td>false</td><td>false</td><td>false</td><td>false</td><td>false</td><td>&quot;Night&quot;</td><td>&quot;Night&quot;</td><td>&quot;Night&quot;</td><td>&quot;Night&quot;</td></tr><tr><td>&quot;A-2&quot;</td><td>&quot;Source2&quot;</td><td>2</td><td>&quot;2016-02-08 06:…</td><td>&quot;2016-02-08 06:…</td><td>39.928059</td><td>-82.831184</td><td>null</td><td>null</td><td>0.01</td><td>&quot;Accident on Br…</td><td>&quot;Brice Rd&quot;</td><td>&quot;Reynoldsburg&quot;</td><td>&quot;Franklin&quot;</td><td>&quot;OH&quot;</td><td>&quot;43068-3402&quot;</td><td>&quot;US&quot;</td><td>&quot;US/Eastern&quot;</td><td>&quot;KCMH&quot;</td><td>&quot;2016-02-08 05:…</td><td>37.9</td><td>null</td><td>100.0</td><td>29.65</td><td>10.0</td><td>&quot;Calm&quot;</td><td>null</td><td>0.0</td><td>&quot;Light Rain&quot;</td><td>false</td><td>false</td><td>false</td><td>false</td><td>false</td><td>false</td><td>false</td><td>false</td><td>false</td><td>false</td><td>false</td><td>false</td><td>false</td><td>&quot;Night&quot;</td><td>&quot;Night&quot;</td><td>&quot;Night&quot;</td><td>&quot;Day&quot;</td></tr><tr><td>&quot;A-3&quot;</td><td>&quot;Source2&quot;</td><td>2</td><td>&quot;2016-02-08 06:…</td><td>&quot;2016-02-08 07:…</td><td>39.063148</td><td>-84.032608</td><td>null</td><td>null</td><td>0.01</td><td>&quot;Accident on OH…</td><td>&quot;State Route 32…</td><td>&quot;Williamsburg&quot;</td><td>&quot;Clermont&quot;</td><td>&quot;OH&quot;</td><td>&quot;45176&quot;</td><td>&quot;US&quot;</td><td>&quot;US/Eastern&quot;</td><td>&quot;KI69&quot;</td><td>&quot;2016-02-08 06:…</td><td>36.0</td><td>33.3</td><td>100.0</td><td>29.67</td><td>10.0</td><td>&quot;SW&quot;</td><td>3.5</td><td>null</td><td>&quot;Overcast&quot;</td><td>false</td><td>false</td><td>false</td><td>false</td><td>false</td><td>false</td><td>false</td><td>false</td><td>false</td><td>false</td><td>false</td><td>true</td><td>false</td><td>&quot;Night&quot;</td><td>&quot;Night&quot;</td><td>&quot;Day&quot;</td><td>&quot;Day&quot;</td></tr><tr><td>&quot;A-4&quot;</td><td>&quot;Source2&quot;</td><td>3</td><td>&quot;2016-02-08 07:…</td><td>&quot;2016-02-08 07:…</td><td>39.747753</td><td>-84.205582</td><td>null</td><td>null</td><td>0.01</td><td>&quot;Accident on I-…</td><td>&quot;I-75 S&quot;</td><td>&quot;Dayton&quot;</td><td>&quot;Montgomery&quot;</td><td>&quot;OH&quot;</td><td>&quot;45417&quot;</td><td>&quot;US&quot;</td><td>&quot;US/Eastern&quot;</td><td>&quot;KDAY&quot;</td><td>&quot;2016-02-08 07:…</td><td>35.1</td><td>31.0</td><td>96.0</td><td>29.64</td><td>9.0</td><td>&quot;SW&quot;</td><td>4.6</td><td>null</td><td>&quot;Mostly Cloudy&quot;</td><td>false</td><td>false</td><td>false</td><td>false</td><td>false</td><td>false</td><td>false</td><td>false</td><td>false</td><td>false</td><td>false</td><td>false</td><td>false</td><td>&quot;Night&quot;</td><td>&quot;Day&quot;</td><td>&quot;Day&quot;</td><td>&quot;Day&quot;</td></tr><tr><td>&quot;A-5&quot;</td><td>&quot;Source2&quot;</td><td>2</td><td>&quot;2016-02-08 07:…</td><td>&quot;2016-02-08 08:…</td><td>39.627781</td><td>-84.188354</td><td>null</td><td>null</td><td>0.01</td><td>&quot;Accident on Mc…</td><td>&quot;Miamisburg Cen…</td><td>&quot;Dayton&quot;</td><td>&quot;Montgomery&quot;</td><td>&quot;OH&quot;</td><td>&quot;45459&quot;</td><td>&quot;US&quot;</td><td>&quot;US/Eastern&quot;</td><td>&quot;KMGY&quot;</td><td>&quot;2016-02-08 07:…</td><td>36.0</td><td>33.3</td><td>89.0</td><td>29.65</td><td>6.0</td><td>&quot;SW&quot;</td><td>3.5</td><td>null</td><td>&quot;Mostly Cloudy&quot;</td><td>false</td><td>false</td><td>false</td><td>false</td><td>false</td><td>false</td><td>false</td><td>false</td><td>false</td><td>false</td><td>false</td><td>true</td><td>false</td><td>&quot;Day&quot;</td><td>&quot;Day&quot;</td><td>&quot;Day&quot;</td><td>&quot;Day&quot;</td></tr></tbody></table></div>"
      ],
      "text/plain": [
       "shape: (5, 46)\n",
       "┌─────┬──────┬────────┬──────────┬────────┬─────────┬─────────┬───────┬───────┬────────────┬───────────┬──────┬─────┬──────┬─────┬───────┬───────┬────────┬────────────┬────────────┬────────────┬────────────┬───────────┬────────────┬────────────┬────────────┬────────────┬────────────┬────────────┬───────┬─────┬────────┬────────┬────────┬───────┬───────┬──────────┬───────┬─────┬────────────┬────────────┬────────────┬────────────┬────────────┬────────────┬────────────┐\n",
       "│ ID  ┆ Sour ┆ Severi ┆ Start_Ti ┆ End_Ti ┆ Start_L ┆ Start_L ┆ End_L ┆ End_L ┆ Distance(m ┆ Descripti ┆ Stre ┆ Cit ┆ Coun ┆ Sta ┆ Zipco ┆ Count ┆ Timezo ┆ Airport_Co ┆ Weather_Ti ┆ Temperatur ┆ Wind_Chill ┆ Humidity( ┆ Pressure(i ┆ Visibility ┆ Wind_Direc ┆ Wind_Speed ┆ Precipitat ┆ Weather_Co ┆ Ameni ┆ Bum ┆ Crossi ┆ Give_W ┆ Juncti ┆ No_Ex ┆ Railw ┆ Roundabo ┆ Stati ┆ Sto ┆ Traffic_Ca ┆ Traffic_Si ┆ Turning_Lo ┆ Sunrise_Su ┆ Civil_Twil ┆ Nautical_T ┆ Astronomic │\n",
       "│ --- ┆ ce   ┆ ty     ┆ me       ┆ me     ┆ at      ┆ ng      ┆ at    ┆ ng    ┆ i)         ┆ on        ┆ et   ┆ y   ┆ ty   ┆ te  ┆ de    ┆ ry    ┆ ne     ┆ de         ┆ mestamp    ┆ e(F)       ┆ (F)        ┆ %)        ┆ n)         ┆ (mi)       ┆ tion       ┆ (mph)      ┆ ion(in)    ┆ ndition    ┆ ty    ┆ p   ┆ ng     ┆ ay     ┆ on     ┆ it    ┆ ay    ┆ ut       ┆ on    ┆ p   ┆ lming      ┆ gnal       ┆ op         ┆ nset       ┆ ight       ┆ wilight    ┆ al_Twiligh │\n",
       "│ str ┆ ---  ┆ ---    ┆ ---      ┆ ---    ┆ ---     ┆ ---     ┆ ---   ┆ ---   ┆ ---        ┆ ---       ┆ ---  ┆ --- ┆ ---  ┆ --- ┆ ---   ┆ ---   ┆ ---    ┆ ---        ┆ ---        ┆ ---        ┆ ---        ┆ ---       ┆ ---        ┆ ---        ┆ ---        ┆ ---        ┆ ---        ┆ ---        ┆ ---   ┆ --- ┆ ---    ┆ ---    ┆ ---    ┆ ---   ┆ ---   ┆ ---      ┆ ---   ┆ --- ┆ ---        ┆ ---        ┆ ---        ┆ ---        ┆ ---        ┆ ---        ┆ t          │\n",
       "│     ┆ str  ┆ i64    ┆ str      ┆ str    ┆ f64     ┆ f64     ┆ str   ┆ str   ┆ f64        ┆ str       ┆ str  ┆ str ┆ str  ┆ str ┆ str   ┆ str   ┆ str    ┆ str        ┆ str        ┆ f64        ┆ f64        ┆ f64       ┆ f64        ┆ f64        ┆ str        ┆ f64        ┆ f64        ┆ str        ┆ bool  ┆ boo ┆ bool   ┆ bool   ┆ bool   ┆ bool  ┆ bool  ┆ bool     ┆ bool  ┆ boo ┆ bool       ┆ bool       ┆ bool       ┆ str        ┆ str        ┆ str        ┆ ---        │\n",
       "│     ┆      ┆        ┆          ┆        ┆         ┆         ┆       ┆       ┆            ┆           ┆      ┆     ┆      ┆     ┆       ┆       ┆        ┆            ┆            ┆            ┆            ┆           ┆            ┆            ┆            ┆            ┆            ┆            ┆       ┆ l   ┆        ┆        ┆        ┆       ┆       ┆          ┆       ┆ l   ┆            ┆            ┆            ┆            ┆            ┆            ┆ str        │\n",
       "╞═════╪══════╪════════╪══════════╪════════╪═════════╪═════════╪═══════╪═══════╪════════════╪═══════════╪══════╪═════╪══════╪═════╪═══════╪═══════╪════════╪════════════╪════════════╪════════════╪════════════╪═══════════╪════════════╪════════════╪════════════╪════════════╪════════════╪════════════╪═══════╪═════╪════════╪════════╪════════╪═══════╪═══════╪══════════╪═══════╪═════╪════════════╪════════════╪════════════╪════════════╪════════════╪════════════╪════════════╡\n",
       "│ A-1 ┆ Sour ┆ 3      ┆ 2016-02- ┆ 2016-0 ┆ 39.8651 ┆ -84.058 ┆ null  ┆ null  ┆ 0.01       ┆ Right     ┆ I-70 ┆ Day ┆ Mont ┆ OH  ┆ 45424 ┆ US    ┆ US/Eas ┆ KFFO       ┆ 2016-02-08 ┆ 36.9       ┆ null       ┆ 91.0      ┆ 29.68      ┆ 10.0       ┆ Calm       ┆ null       ┆ 0.02       ┆ Light Rain ┆ false ┆ fal ┆ false  ┆ false  ┆ false  ┆ false ┆ false ┆ false    ┆ false ┆ fal ┆ false      ┆ false      ┆ false      ┆ Night      ┆ Night      ┆ Night      ┆ Night      │\n",
       "│     ┆ ce2  ┆        ┆ 08       ┆ 2-08   ┆ 47      ┆ 723     ┆       ┆       ┆            ┆ lane      ┆ E    ┆ ton ┆ gome ┆     ┆       ┆       ┆ tern   ┆            ┆ 05:58:00   ┆            ┆            ┆           ┆            ┆            ┆            ┆            ┆            ┆            ┆       ┆ se  ┆        ┆        ┆        ┆       ┆       ┆          ┆       ┆ se  ┆            ┆            ┆            ┆            ┆            ┆            ┆            │\n",
       "│     ┆      ┆        ┆ 05:46:00 ┆ 11:00: ┆         ┆         ┆       ┆       ┆            ┆ blocked   ┆      ┆     ┆ ry   ┆     ┆       ┆       ┆        ┆            ┆            ┆            ┆            ┆           ┆            ┆            ┆            ┆            ┆            ┆            ┆       ┆     ┆        ┆        ┆        ┆       ┆       ┆          ┆       ┆     ┆            ┆            ┆            ┆            ┆            ┆            ┆            │\n",
       "│     ┆      ┆        ┆          ┆ 00     ┆         ┆         ┆       ┆       ┆            ┆ due to    ┆      ┆     ┆      ┆     ┆       ┆       ┆        ┆            ┆            ┆            ┆            ┆           ┆            ┆            ┆            ┆            ┆            ┆            ┆       ┆     ┆        ┆        ┆        ┆       ┆       ┆          ┆       ┆     ┆            ┆            ┆            ┆            ┆            ┆            ┆            │\n",
       "│     ┆      ┆        ┆          ┆        ┆         ┆         ┆       ┆       ┆            ┆ accide…   ┆      ┆     ┆      ┆     ┆       ┆       ┆        ┆            ┆            ┆            ┆            ┆           ┆            ┆            ┆            ┆            ┆            ┆            ┆       ┆     ┆        ┆        ┆        ┆       ┆       ┆          ┆       ┆     ┆            ┆            ┆            ┆            ┆            ┆            ┆            │\n",
       "│ A-2 ┆ Sour ┆ 2      ┆ 2016-02- ┆ 2016-0 ┆ 39.9280 ┆ -82.831 ┆ null  ┆ null  ┆ 0.01       ┆ Accident  ┆ Bric ┆ Rey ┆ Fran ┆ OH  ┆ 43068 ┆ US    ┆ US/Eas ┆ KCMH       ┆ 2016-02-08 ┆ 37.9       ┆ null       ┆ 100.0     ┆ 29.65      ┆ 10.0       ┆ Calm       ┆ null       ┆ 0.0        ┆ Light Rain ┆ false ┆ fal ┆ false  ┆ false  ┆ false  ┆ false ┆ false ┆ false    ┆ false ┆ fal ┆ false      ┆ false      ┆ false      ┆ Night      ┆ Night      ┆ Night      ┆ Day        │\n",
       "│     ┆ ce2  ┆        ┆ 08       ┆ 2-08   ┆ 59      ┆ 184     ┆       ┆       ┆            ┆ on Brice  ┆ e Rd ┆ nol ┆ klin ┆     ┆ -3402 ┆       ┆ tern   ┆            ┆ 05:51:00   ┆            ┆            ┆           ┆            ┆            ┆            ┆            ┆            ┆            ┆       ┆ se  ┆        ┆        ┆        ┆       ┆       ┆          ┆       ┆ se  ┆            ┆            ┆            ┆            ┆            ┆            ┆            │\n",
       "│     ┆      ┆        ┆ 06:07:59 ┆ 06:37: ┆         ┆         ┆       ┆       ┆            ┆ Rd at     ┆      ┆ dsb ┆      ┆     ┆       ┆       ┆        ┆            ┆            ┆            ┆            ┆           ┆            ┆            ┆            ┆            ┆            ┆            ┆       ┆     ┆        ┆        ┆        ┆       ┆       ┆          ┆       ┆     ┆            ┆            ┆            ┆            ┆            ┆            ┆            │\n",
       "│     ┆      ┆        ┆          ┆ 59     ┆         ┆         ┆       ┆       ┆            ┆ Tussing … ┆      ┆ urg ┆      ┆     ┆       ┆       ┆        ┆            ┆            ┆            ┆            ┆           ┆            ┆            ┆            ┆            ┆            ┆            ┆       ┆     ┆        ┆        ┆        ┆       ┆       ┆          ┆       ┆     ┆            ┆            ┆            ┆            ┆            ┆            ┆            │\n",
       "│ A-3 ┆ Sour ┆ 2      ┆ 2016-02- ┆ 2016-0 ┆ 39.0631 ┆ -84.032 ┆ null  ┆ null  ┆ 0.01       ┆ Accident  ┆ Stat ┆ Wil ┆ Cler ┆ OH  ┆ 45176 ┆ US    ┆ US/Eas ┆ KI69       ┆ 2016-02-08 ┆ 36.0       ┆ 33.3       ┆ 100.0     ┆ 29.67      ┆ 10.0       ┆ SW         ┆ 3.5        ┆ null       ┆ Overcast   ┆ false ┆ fal ┆ false  ┆ false  ┆ false  ┆ false ┆ false ┆ false    ┆ false ┆ fal ┆ false      ┆ true       ┆ false      ┆ Night      ┆ Night      ┆ Day        ┆ Day        │\n",
       "│     ┆ ce2  ┆        ┆ 08       ┆ 2-08   ┆ 48      ┆ 608     ┆       ┆       ┆            ┆ on OH-32  ┆ e    ┆ lia ┆ mont ┆     ┆       ┆       ┆ tern   ┆            ┆ 06:56:00   ┆            ┆            ┆           ┆            ┆            ┆            ┆            ┆            ┆            ┆       ┆ se  ┆        ┆        ┆        ┆       ┆       ┆          ┆       ┆ se  ┆            ┆            ┆            ┆            ┆            ┆            ┆            │\n",
       "│     ┆      ┆        ┆ 06:49:27 ┆ 07:19: ┆         ┆         ┆       ┆       ┆            ┆ State     ┆ Rout ┆ msb ┆      ┆     ┆       ┆       ┆        ┆            ┆            ┆            ┆            ┆           ┆            ┆            ┆            ┆            ┆            ┆            ┆       ┆     ┆        ┆        ┆        ┆       ┆       ┆          ┆       ┆     ┆            ┆            ┆            ┆            ┆            ┆            ┆            │\n",
       "│     ┆      ┆        ┆          ┆ 27     ┆         ┆         ┆       ┆       ┆            ┆ Route 32… ┆ e 32 ┆ urg ┆      ┆     ┆       ┆       ┆        ┆            ┆            ┆            ┆            ┆           ┆            ┆            ┆            ┆            ┆            ┆            ┆       ┆     ┆        ┆        ┆        ┆       ┆       ┆          ┆       ┆     ┆            ┆            ┆            ┆            ┆            ┆            ┆            │\n",
       "│ A-4 ┆ Sour ┆ 3      ┆ 2016-02- ┆ 2016-0 ┆ 39.7477 ┆ -84.205 ┆ null  ┆ null  ┆ 0.01       ┆ Accident  ┆ I-75 ┆ Day ┆ Mont ┆ OH  ┆ 45417 ┆ US    ┆ US/Eas ┆ KDAY       ┆ 2016-02-08 ┆ 35.1       ┆ 31.0       ┆ 96.0      ┆ 29.64      ┆ 9.0        ┆ SW         ┆ 4.6        ┆ null       ┆ Mostly     ┆ false ┆ fal ┆ false  ┆ false  ┆ false  ┆ false ┆ false ┆ false    ┆ false ┆ fal ┆ false      ┆ false      ┆ false      ┆ Night      ┆ Day        ┆ Day        ┆ Day        │\n",
       "│     ┆ ce2  ┆        ┆ 08       ┆ 2-08   ┆ 53      ┆ 582     ┆       ┆       ┆            ┆ on I-75   ┆ S    ┆ ton ┆ gome ┆     ┆       ┆       ┆ tern   ┆            ┆ 07:38:00   ┆            ┆            ┆           ┆            ┆            ┆            ┆            ┆            ┆ Cloudy     ┆       ┆ se  ┆        ┆        ┆        ┆       ┆       ┆          ┆       ┆ se  ┆            ┆            ┆            ┆            ┆            ┆            ┆            │\n",
       "│     ┆      ┆        ┆ 07:23:34 ┆ 07:53: ┆         ┆         ┆       ┆       ┆            ┆ Southboun ┆      ┆     ┆ ry   ┆     ┆       ┆       ┆        ┆            ┆            ┆            ┆            ┆           ┆            ┆            ┆            ┆            ┆            ┆            ┆       ┆     ┆        ┆        ┆        ┆       ┆       ┆          ┆       ┆     ┆            ┆            ┆            ┆            ┆            ┆            ┆            │\n",
       "│     ┆      ┆        ┆          ┆ 34     ┆         ┆         ┆       ┆       ┆            ┆ d at E…   ┆      ┆     ┆      ┆     ┆       ┆       ┆        ┆            ┆            ┆            ┆            ┆           ┆            ┆            ┆            ┆            ┆            ┆            ┆       ┆     ┆        ┆        ┆        ┆       ┆       ┆          ┆       ┆     ┆            ┆            ┆            ┆            ┆            ┆            ┆            │\n",
       "│ A-5 ┆ Sour ┆ 2      ┆ 2016-02- ┆ 2016-0 ┆ 39.6277 ┆ -84.188 ┆ null  ┆ null  ┆ 0.01       ┆ Accident  ┆ Miam ┆ Day ┆ Mont ┆ OH  ┆ 45459 ┆ US    ┆ US/Eas ┆ KMGY       ┆ 2016-02-08 ┆ 36.0       ┆ 33.3       ┆ 89.0      ┆ 29.65      ┆ 6.0        ┆ SW         ┆ 3.5        ┆ null       ┆ Mostly     ┆ false ┆ fal ┆ false  ┆ false  ┆ false  ┆ false ┆ false ┆ false    ┆ false ┆ fal ┆ false      ┆ true       ┆ false      ┆ Day        ┆ Day        ┆ Day        ┆ Day        │\n",
       "│     ┆ ce2  ┆        ┆ 08       ┆ 2-08   ┆ 81      ┆ 354     ┆       ┆       ┆            ┆ on McEwen ┆ isbu ┆ ton ┆ gome ┆     ┆       ┆       ┆ tern   ┆            ┆ 07:53:00   ┆            ┆            ┆           ┆            ┆            ┆            ┆            ┆            ┆ Cloudy     ┆       ┆ se  ┆        ┆        ┆        ┆       ┆       ┆          ┆       ┆ se  ┆            ┆            ┆            ┆            ┆            ┆            ┆            │\n",
       "│     ┆      ┆        ┆ 07:39:07 ┆ 08:09: ┆         ┆         ┆       ┆       ┆            ┆ Rd at     ┆ rg   ┆     ┆ ry   ┆     ┆       ┆       ┆        ┆            ┆            ┆            ┆            ┆           ┆            ┆            ┆            ┆            ┆            ┆            ┆       ┆     ┆        ┆        ┆        ┆       ┆       ┆          ┆       ┆     ┆            ┆            ┆            ┆            ┆            ┆            ┆            │\n",
       "│     ┆      ┆        ┆          ┆ 07     ┆         ┆         ┆       ┆       ┆            ┆ OH-725 …  ┆ Cent ┆     ┆      ┆     ┆       ┆       ┆        ┆            ┆            ┆            ┆            ┆           ┆            ┆            ┆            ┆            ┆            ┆            ┆       ┆     ┆        ┆        ┆        ┆       ┆       ┆          ┆       ┆     ┆            ┆            ┆            ┆            ┆            ┆            ┆            │\n",
       "│     ┆      ┆        ┆          ┆        ┆         ┆         ┆       ┆       ┆            ┆           ┆ ervi ┆     ┆      ┆     ┆       ┆       ┆        ┆            ┆            ┆            ┆            ┆           ┆            ┆            ┆            ┆            ┆            ┆            ┆       ┆     ┆        ┆        ┆        ┆       ┆       ┆          ┆       ┆     ┆            ┆            ┆            ┆            ┆            ┆            ┆            │\n",
       "│     ┆      ┆        ┆          ┆        ┆         ┆         ┆       ┆       ┆            ┆           ┆ lle  ┆     ┆      ┆     ┆       ┆       ┆        ┆            ┆            ┆            ┆            ┆           ┆            ┆            ┆            ┆            ┆            ┆            ┆       ┆     ┆        ┆        ┆        ┆       ┆       ┆          ┆       ┆     ┆            ┆            ┆            ┆            ┆            ┆            ┆            │\n",
       "│     ┆      ┆        ┆          ┆        ┆         ┆         ┆       ┆       ┆            ┆           ┆ Rd   ┆     ┆      ┆     ┆       ┆       ┆        ┆            ┆            ┆            ┆            ┆           ┆            ┆            ┆            ┆            ┆            ┆            ┆       ┆     ┆        ┆        ┆        ┆       ┆       ┆          ┆       ┆     ┆            ┆            ┆            ┆            ┆            ┆            ┆            │\n",
       "└─────┴──────┴────────┴──────────┴────────┴─────────┴─────────┴───────┴───────┴────────────┴───────────┴──────┴─────┴──────┴─────┴───────┴───────┴────────┴────────────┴────────────┴────────────┴────────────┴───────────┴────────────┴────────────┴────────────┴────────────┴────────────┴────────────┴───────┴─────┴────────┴────────┴────────┴───────┴───────┴──────────┴───────┴─────┴────────────┴────────────┴────────────┴────────────┴────────────┴────────────┴────────────┘"
      ]
     },
     "execution_count": 3,
     "metadata": {},
     "output_type": "execute_result"
    }
   ],
   "source": [
    "# read_csv reads data into a DataFrame. scan_csv reads data into a \"LazyFrame\". :)\n",
    "df = pl.read_csv(\"US_Accidents_March23.csv\")\n",
    "pl.Config(tbl_rows=100)\n",
    "pl.Config(tbl_cols=100)\n",
    "df.head()"
   ]
  },
  {
   "cell_type": "code",
   "execution_count": 4,
   "metadata": {},
   "outputs": [],
   "source": [
    "# df = pd.read_csv(\"US_Accidents_March23.csv\")\n",
    "# df\n",
    "# Im going to use polars because it read the data about 21 times faster than pandas (2s vs 42.5s).\n",
    "# i also just want to try polars out. and i might need to use pandas if i cant figure something out in polars"
   ]
  },
  {
   "cell_type": "code",
   "execution_count": 5,
   "metadata": {},
   "outputs": [
    {
     "data": {
      "text/html": [
       "<div><style>\n",
       ".dataframe > thead > tr > th,\n",
       ".dataframe > tbody > tr > td {\n",
       "  text-align: right;\n",
       "}\n",
       "</style>\n",
       "<small>shape: (1, 46)</small><table border=\"1\" class=\"dataframe\"><thead><tr><th>ID</th><th>Source</th><th>Severity</th><th>Start_Time</th><th>End_Time</th><th>Start_Lat</th><th>Start_Lng</th><th>End_Lat</th><th>End_Lng</th><th>Distance(mi)</th><th>Description</th><th>Street</th><th>City</th><th>County</th><th>State</th><th>Zipcode</th><th>Country</th><th>Timezone</th><th>Airport_Code</th><th>Weather_Timestamp</th><th>Temperature(F)</th><th>Wind_Chill(F)</th><th>Humidity(%)</th><th>Pressure(in)</th><th>Visibility(mi)</th><th>Wind_Direction</th><th>Wind_Speed(mph)</th><th>Precipitation(in)</th><th>Weather_Condition</th><th>Amenity</th><th>Bump</th><th>Crossing</th><th>Give_Way</th><th>Junction</th><th>No_Exit</th><th>Railway</th><th>Roundabout</th><th>Station</th><th>Stop</th><th>Traffic_Calming</th><th>Traffic_Signal</th><th>Turning_Loop</th><th>Sunrise_Sunset</th><th>Civil_Twilight</th><th>Nautical_Twilight</th><th>Astronomical_Twilight</th></tr><tr><td>u32</td><td>u32</td><td>u32</td><td>u32</td><td>u32</td><td>u32</td><td>u32</td><td>u32</td><td>u32</td><td>u32</td><td>u32</td><td>u32</td><td>u32</td><td>u32</td><td>u32</td><td>u32</td><td>u32</td><td>u32</td><td>u32</td><td>u32</td><td>u32</td><td>u32</td><td>u32</td><td>u32</td><td>u32</td><td>u32</td><td>u32</td><td>u32</td><td>u32</td><td>u32</td><td>u32</td><td>u32</td><td>u32</td><td>u32</td><td>u32</td><td>u32</td><td>u32</td><td>u32</td><td>u32</td><td>u32</td><td>u32</td><td>u32</td><td>u32</td><td>u32</td><td>u32</td><td>u32</td></tr></thead><tbody><tr><td>0</td><td>0</td><td>0</td><td>0</td><td>0</td><td>0</td><td>0</td><td>3402762</td><td>3402762</td><td>0</td><td>5</td><td>10869</td><td>253</td><td>0</td><td>0</td><td>1915</td><td>0</td><td>7808</td><td>22635</td><td>120228</td><td>163853</td><td>1999019</td><td>174144</td><td>140679</td><td>177098</td><td>175206</td><td>571233</td><td>2203586</td><td>173459</td><td>0</td><td>0</td><td>0</td><td>0</td><td>0</td><td>0</td><td>0</td><td>0</td><td>0</td><td>0</td><td>0</td><td>0</td><td>0</td><td>23246</td><td>23246</td><td>23246</td><td>23246</td></tr></tbody></table></div>"
      ],
      "text/plain": [
       "shape: (1, 46)\n",
       "┌─────┬──────┬────────┬──────────┬────────┬─────────┬─────────┬───────┬───────┬────────────┬───────────┬──────┬─────┬──────┬─────┬───────┬───────┬────────┬────────────┬────────────┬────────────┬────────────┬───────────┬────────────┬────────────┬────────────┬────────────┬────────────┬────────────┬───────┬─────┬────────┬────────┬────────┬───────┬───────┬──────────┬───────┬─────┬────────────┬────────────┬────────────┬────────────┬────────────┬────────────┬────────────┐\n",
       "│ ID  ┆ Sour ┆ Severi ┆ Start_Ti ┆ End_Ti ┆ Start_L ┆ Start_L ┆ End_L ┆ End_L ┆ Distance(m ┆ Descripti ┆ Stre ┆ Cit ┆ Coun ┆ Sta ┆ Zipco ┆ Count ┆ Timezo ┆ Airport_Co ┆ Weather_Ti ┆ Temperatur ┆ Wind_Chill ┆ Humidity( ┆ Pressure(i ┆ Visibility ┆ Wind_Direc ┆ Wind_Speed ┆ Precipitat ┆ Weather_Co ┆ Ameni ┆ Bum ┆ Crossi ┆ Give_W ┆ Juncti ┆ No_Ex ┆ Railw ┆ Roundabo ┆ Stati ┆ Sto ┆ Traffic_Ca ┆ Traffic_Si ┆ Turning_Lo ┆ Sunrise_Su ┆ Civil_Twil ┆ Nautical_T ┆ Astronomic │\n",
       "│ --- ┆ ce   ┆ ty     ┆ me       ┆ me     ┆ at      ┆ ng      ┆ at    ┆ ng    ┆ i)         ┆ on        ┆ et   ┆ y   ┆ ty   ┆ te  ┆ de    ┆ ry    ┆ ne     ┆ de         ┆ mestamp    ┆ e(F)       ┆ (F)        ┆ %)        ┆ n)         ┆ (mi)       ┆ tion       ┆ (mph)      ┆ ion(in)    ┆ ndition    ┆ ty    ┆ p   ┆ ng     ┆ ay     ┆ on     ┆ it    ┆ ay    ┆ ut       ┆ on    ┆ p   ┆ lming      ┆ gnal       ┆ op         ┆ nset       ┆ ight       ┆ wilight    ┆ al_Twiligh │\n",
       "│ u32 ┆ ---  ┆ ---    ┆ ---      ┆ ---    ┆ ---     ┆ ---     ┆ ---   ┆ ---   ┆ ---        ┆ ---       ┆ ---  ┆ --- ┆ ---  ┆ --- ┆ ---   ┆ ---   ┆ ---    ┆ ---        ┆ ---        ┆ ---        ┆ ---        ┆ ---       ┆ ---        ┆ ---        ┆ ---        ┆ ---        ┆ ---        ┆ ---        ┆ ---   ┆ --- ┆ ---    ┆ ---    ┆ ---    ┆ ---   ┆ ---   ┆ ---      ┆ ---   ┆ --- ┆ ---        ┆ ---        ┆ ---        ┆ ---        ┆ ---        ┆ ---        ┆ t          │\n",
       "│     ┆ u32  ┆ u32    ┆ u32      ┆ u32    ┆ u32     ┆ u32     ┆ u32   ┆ u32   ┆ u32        ┆ u32       ┆ u32  ┆ u32 ┆ u32  ┆ u32 ┆ u32   ┆ u32   ┆ u32    ┆ u32        ┆ u32        ┆ u32        ┆ u32        ┆ u32       ┆ u32        ┆ u32        ┆ u32        ┆ u32        ┆ u32        ┆ u32        ┆ u32   ┆ u32 ┆ u32    ┆ u32    ┆ u32    ┆ u32   ┆ u32   ┆ u32      ┆ u32   ┆ u32 ┆ u32        ┆ u32        ┆ u32        ┆ u32        ┆ u32        ┆ u32        ┆ ---        │\n",
       "│     ┆      ┆        ┆          ┆        ┆         ┆         ┆       ┆       ┆            ┆           ┆      ┆     ┆      ┆     ┆       ┆       ┆        ┆            ┆            ┆            ┆            ┆           ┆            ┆            ┆            ┆            ┆            ┆            ┆       ┆     ┆        ┆        ┆        ┆       ┆       ┆          ┆       ┆     ┆            ┆            ┆            ┆            ┆            ┆            ┆ u32        │\n",
       "╞═════╪══════╪════════╪══════════╪════════╪═════════╪═════════╪═══════╪═══════╪════════════╪═══════════╪══════╪═════╪══════╪═════╪═══════╪═══════╪════════╪════════════╪════════════╪════════════╪════════════╪═══════════╪════════════╪════════════╪════════════╪════════════╪════════════╪════════════╪═══════╪═════╪════════╪════════╪════════╪═══════╪═══════╪══════════╪═══════╪═════╪════════════╪════════════╪════════════╪════════════╪════════════╪════════════╪════════════╡\n",
       "│ 0   ┆ 0    ┆ 0      ┆ 0        ┆ 0      ┆ 0       ┆ 0       ┆ 34027 ┆ 34027 ┆ 0          ┆ 5         ┆ 1086 ┆ 253 ┆ 0    ┆ 0   ┆ 1915  ┆ 0     ┆ 7808   ┆ 22635      ┆ 120228     ┆ 163853     ┆ 1999019    ┆ 174144    ┆ 140679     ┆ 177098     ┆ 175206     ┆ 571233     ┆ 2203586    ┆ 173459     ┆ 0     ┆ 0   ┆ 0      ┆ 0      ┆ 0      ┆ 0     ┆ 0     ┆ 0        ┆ 0     ┆ 0   ┆ 0          ┆ 0          ┆ 0          ┆ 23246      ┆ 23246      ┆ 23246      ┆ 23246      │\n",
       "│     ┆      ┆        ┆          ┆        ┆         ┆         ┆ 62    ┆ 62    ┆            ┆           ┆ 9    ┆     ┆      ┆     ┆       ┆       ┆        ┆            ┆            ┆            ┆            ┆           ┆            ┆            ┆            ┆            ┆            ┆            ┆       ┆     ┆        ┆        ┆        ┆       ┆       ┆          ┆       ┆     ┆            ┆            ┆            ┆            ┆            ┆            ┆            │\n",
       "└─────┴──────┴────────┴──────────┴────────┴─────────┴─────────┴───────┴───────┴────────────┴───────────┴──────┴─────┴──────┴─────┴───────┴───────┴────────┴────────────┴────────────┴────────────┴────────────┴───────────┴────────────┴────────────┴────────────┴────────────┴────────────┴────────────┴───────┴─────┴────────┴────────┴────────┴───────┴───────┴──────────┴───────┴─────┴────────────┴────────────┴────────────┴────────────┴────────────┴────────────┴────────────┘"
      ]
     },
     "execution_count": 5,
     "metadata": {},
     "output_type": "execute_result"
    }
   ],
   "source": [
    "# Is there any missing data? If so, visualize it in a plot.\n",
    "missing = df.null_count()\n",
    "missing"
   ]
  },
  {
   "cell_type": "code",
   "execution_count": 6,
   "metadata": {},
   "outputs": [
    {
     "data": {
      "text/html": [
       "<div>\n",
       "<style scoped>\n",
       "    .dataframe tbody tr th:only-of-type {\n",
       "        vertical-align: middle;\n",
       "    }\n",
       "\n",
       "    .dataframe tbody tr th {\n",
       "        vertical-align: top;\n",
       "    }\n",
       "\n",
       "    .dataframe thead th {\n",
       "        text-align: right;\n",
       "    }\n",
       "</style>\n",
       "<table border=\"1\" class=\"dataframe\">\n",
       "  <thead>\n",
       "    <tr style=\"text-align: right;\">\n",
       "      <th></th>\n",
       "      <th>ID</th>\n",
       "      <th>Source</th>\n",
       "      <th>Severity</th>\n",
       "      <th>Start_Time</th>\n",
       "      <th>End_Time</th>\n",
       "      <th>Start_Lat</th>\n",
       "      <th>Start_Lng</th>\n",
       "      <th>End_Lat</th>\n",
       "      <th>End_Lng</th>\n",
       "      <th>Distance(mi)</th>\n",
       "      <th>...</th>\n",
       "      <th>Roundabout</th>\n",
       "      <th>Station</th>\n",
       "      <th>Stop</th>\n",
       "      <th>Traffic_Calming</th>\n",
       "      <th>Traffic_Signal</th>\n",
       "      <th>Turning_Loop</th>\n",
       "      <th>Sunrise_Sunset</th>\n",
       "      <th>Civil_Twilight</th>\n",
       "      <th>Nautical_Twilight</th>\n",
       "      <th>Astronomical_Twilight</th>\n",
       "    </tr>\n",
       "  </thead>\n",
       "  <tbody>\n",
       "    <tr>\n",
       "      <th>0</th>\n",
       "      <td>0</td>\n",
       "      <td>0</td>\n",
       "      <td>0</td>\n",
       "      <td>0</td>\n",
       "      <td>0</td>\n",
       "      <td>0</td>\n",
       "      <td>0</td>\n",
       "      <td>3402762</td>\n",
       "      <td>3402762</td>\n",
       "      <td>0</td>\n",
       "      <td>...</td>\n",
       "      <td>0</td>\n",
       "      <td>0</td>\n",
       "      <td>0</td>\n",
       "      <td>0</td>\n",
       "      <td>0</td>\n",
       "      <td>0</td>\n",
       "      <td>23246</td>\n",
       "      <td>23246</td>\n",
       "      <td>23246</td>\n",
       "      <td>23246</td>\n",
       "    </tr>\n",
       "  </tbody>\n",
       "</table>\n",
       "<p>1 rows × 46 columns</p>\n",
       "</div>"
      ],
      "text/plain": [
       "   ID  Source  Severity  Start_Time  End_Time  Start_Lat  Start_Lng  End_Lat  \\\n",
       "0   0       0         0           0         0          0          0  3402762   \n",
       "\n",
       "   End_Lng  Distance(mi)  ...  Roundabout  Station  Stop  Traffic_Calming  \\\n",
       "0  3402762             0  ...           0        0     0                0   \n",
       "\n",
       "   Traffic_Signal  Turning_Loop  Sunrise_Sunset  Civil_Twilight  \\\n",
       "0               0             0           23246           23246   \n",
       "\n",
       "   Nautical_Twilight  Astronomical_Twilight  \n",
       "0              23246                  23246  \n",
       "\n",
       "[1 rows x 46 columns]"
      ]
     },
     "execution_count": 6,
     "metadata": {},
     "output_type": "execute_result"
    }
   ],
   "source": [
    "missing_df = missing.to_pandas()\n",
    "missing_df.head()"
   ]
  },
  {
   "cell_type": "code",
   "execution_count": 7,
   "metadata": {},
   "outputs": [
    {
     "data": {
      "application/vnd.plotly.v1+json": {
       "config": {
        "plotlyServerURL": "https://plot.ly"
       },
       "data": [
        {
         "coloraxis": "coloraxis",
         "hovertemplate": "x: %{x}<br>y: %{y}<br>color: %{z}<extra></extra>",
         "name": "0",
         "type": "heatmap",
         "x": [
          "ID",
          "Source",
          "Severity",
          "Start_Time",
          "End_Time",
          "Start_Lat",
          "Start_Lng",
          "End_Lat",
          "End_Lng",
          "Distance(mi)",
          "Description",
          "Street",
          "City",
          "County",
          "State",
          "Zipcode",
          "Country",
          "Timezone",
          "Airport_Code",
          "Weather_Timestamp",
          "Temperature(F)",
          "Wind_Chill(F)",
          "Humidity(%)",
          "Pressure(in)",
          "Visibility(mi)",
          "Wind_Direction",
          "Wind_Speed(mph)",
          "Precipitation(in)",
          "Weather_Condition",
          "Amenity",
          "Bump",
          "Crossing",
          "Give_Way",
          "Junction",
          "No_Exit",
          "Railway",
          "Roundabout",
          "Station",
          "Stop",
          "Traffic_Calming",
          "Traffic_Signal",
          "Turning_Loop",
          "Sunrise_Sunset",
          "Civil_Twilight",
          "Nautical_Twilight",
          "Astronomical_Twilight"
         ],
         "xaxis": "x",
         "y": [
          0
         ],
         "yaxis": "y",
         "z": [
          [
           0,
           0,
           0,
           0,
           0,
           0,
           0,
           3402762,
           3402762,
           0,
           5,
           10869,
           253,
           0,
           0,
           1915,
           0,
           7808,
           22635,
           120228,
           163853,
           1999019,
           174144,
           140679,
           177098,
           175206,
           571233,
           2203586,
           173459,
           0,
           0,
           0,
           0,
           0,
           0,
           0,
           0,
           0,
           0,
           0,
           0,
           0,
           23246,
           23246,
           23246,
           23246
          ]
         ]
        }
       ],
       "layout": {
        "coloraxis": {
         "colorscale": [
          [
           0,
           "#30123b"
          ],
          [
           0.07142857142857142,
           "#4145ab"
          ],
          [
           0.14285714285714285,
           "#4675ed"
          ],
          [
           0.21428571428571427,
           "#39a2fc"
          ],
          [
           0.2857142857142857,
           "#1bcfd4"
          ],
          [
           0.35714285714285715,
           "#24eca6"
          ],
          [
           0.42857142857142855,
           "#61fc6c"
          ],
          [
           0.5,
           "#a4fc3b"
          ],
          [
           0.5714285714285714,
           "#d1e834"
          ],
          [
           0.6428571428571429,
           "#f3c63a"
          ],
          [
           0.7142857142857143,
           "#fe9b2d"
          ],
          [
           0.7857142857142857,
           "#f36315"
          ],
          [
           0.8571428571428571,
           "#d93806"
          ],
          [
           0.9285714285714286,
           "#b11901"
          ],
          [
           1,
           "#7a0402"
          ]
         ]
        },
        "margin": {
         "t": 60
        },
        "template": {
         "data": {
          "bar": [
           {
            "error_x": {
             "color": "#2a3f5f"
            },
            "error_y": {
             "color": "#2a3f5f"
            },
            "marker": {
             "line": {
              "color": "#E5ECF6",
              "width": 0.5
             },
             "pattern": {
              "fillmode": "overlay",
              "size": 10,
              "solidity": 0.2
             }
            },
            "type": "bar"
           }
          ],
          "barpolar": [
           {
            "marker": {
             "line": {
              "color": "#E5ECF6",
              "width": 0.5
             },
             "pattern": {
              "fillmode": "overlay",
              "size": 10,
              "solidity": 0.2
             }
            },
            "type": "barpolar"
           }
          ],
          "carpet": [
           {
            "aaxis": {
             "endlinecolor": "#2a3f5f",
             "gridcolor": "white",
             "linecolor": "white",
             "minorgridcolor": "white",
             "startlinecolor": "#2a3f5f"
            },
            "baxis": {
             "endlinecolor": "#2a3f5f",
             "gridcolor": "white",
             "linecolor": "white",
             "minorgridcolor": "white",
             "startlinecolor": "#2a3f5f"
            },
            "type": "carpet"
           }
          ],
          "choropleth": [
           {
            "colorbar": {
             "outlinewidth": 0,
             "ticks": ""
            },
            "type": "choropleth"
           }
          ],
          "contour": [
           {
            "colorbar": {
             "outlinewidth": 0,
             "ticks": ""
            },
            "colorscale": [
             [
              0,
              "#0d0887"
             ],
             [
              0.1111111111111111,
              "#46039f"
             ],
             [
              0.2222222222222222,
              "#7201a8"
             ],
             [
              0.3333333333333333,
              "#9c179e"
             ],
             [
              0.4444444444444444,
              "#bd3786"
             ],
             [
              0.5555555555555556,
              "#d8576b"
             ],
             [
              0.6666666666666666,
              "#ed7953"
             ],
             [
              0.7777777777777778,
              "#fb9f3a"
             ],
             [
              0.8888888888888888,
              "#fdca26"
             ],
             [
              1,
              "#f0f921"
             ]
            ],
            "type": "contour"
           }
          ],
          "contourcarpet": [
           {
            "colorbar": {
             "outlinewidth": 0,
             "ticks": ""
            },
            "type": "contourcarpet"
           }
          ],
          "heatmap": [
           {
            "colorbar": {
             "outlinewidth": 0,
             "ticks": ""
            },
            "colorscale": [
             [
              0,
              "#0d0887"
             ],
             [
              0.1111111111111111,
              "#46039f"
             ],
             [
              0.2222222222222222,
              "#7201a8"
             ],
             [
              0.3333333333333333,
              "#9c179e"
             ],
             [
              0.4444444444444444,
              "#bd3786"
             ],
             [
              0.5555555555555556,
              "#d8576b"
             ],
             [
              0.6666666666666666,
              "#ed7953"
             ],
             [
              0.7777777777777778,
              "#fb9f3a"
             ],
             [
              0.8888888888888888,
              "#fdca26"
             ],
             [
              1,
              "#f0f921"
             ]
            ],
            "type": "heatmap"
           }
          ],
          "heatmapgl": [
           {
            "colorbar": {
             "outlinewidth": 0,
             "ticks": ""
            },
            "colorscale": [
             [
              0,
              "#0d0887"
             ],
             [
              0.1111111111111111,
              "#46039f"
             ],
             [
              0.2222222222222222,
              "#7201a8"
             ],
             [
              0.3333333333333333,
              "#9c179e"
             ],
             [
              0.4444444444444444,
              "#bd3786"
             ],
             [
              0.5555555555555556,
              "#d8576b"
             ],
             [
              0.6666666666666666,
              "#ed7953"
             ],
             [
              0.7777777777777778,
              "#fb9f3a"
             ],
             [
              0.8888888888888888,
              "#fdca26"
             ],
             [
              1,
              "#f0f921"
             ]
            ],
            "type": "heatmapgl"
           }
          ],
          "histogram": [
           {
            "marker": {
             "pattern": {
              "fillmode": "overlay",
              "size": 10,
              "solidity": 0.2
             }
            },
            "type": "histogram"
           }
          ],
          "histogram2d": [
           {
            "colorbar": {
             "outlinewidth": 0,
             "ticks": ""
            },
            "colorscale": [
             [
              0,
              "#0d0887"
             ],
             [
              0.1111111111111111,
              "#46039f"
             ],
             [
              0.2222222222222222,
              "#7201a8"
             ],
             [
              0.3333333333333333,
              "#9c179e"
             ],
             [
              0.4444444444444444,
              "#bd3786"
             ],
             [
              0.5555555555555556,
              "#d8576b"
             ],
             [
              0.6666666666666666,
              "#ed7953"
             ],
             [
              0.7777777777777778,
              "#fb9f3a"
             ],
             [
              0.8888888888888888,
              "#fdca26"
             ],
             [
              1,
              "#f0f921"
             ]
            ],
            "type": "histogram2d"
           }
          ],
          "histogram2dcontour": [
           {
            "colorbar": {
             "outlinewidth": 0,
             "ticks": ""
            },
            "colorscale": [
             [
              0,
              "#0d0887"
             ],
             [
              0.1111111111111111,
              "#46039f"
             ],
             [
              0.2222222222222222,
              "#7201a8"
             ],
             [
              0.3333333333333333,
              "#9c179e"
             ],
             [
              0.4444444444444444,
              "#bd3786"
             ],
             [
              0.5555555555555556,
              "#d8576b"
             ],
             [
              0.6666666666666666,
              "#ed7953"
             ],
             [
              0.7777777777777778,
              "#fb9f3a"
             ],
             [
              0.8888888888888888,
              "#fdca26"
             ],
             [
              1,
              "#f0f921"
             ]
            ],
            "type": "histogram2dcontour"
           }
          ],
          "mesh3d": [
           {
            "colorbar": {
             "outlinewidth": 0,
             "ticks": ""
            },
            "type": "mesh3d"
           }
          ],
          "parcoords": [
           {
            "line": {
             "colorbar": {
              "outlinewidth": 0,
              "ticks": ""
             }
            },
            "type": "parcoords"
           }
          ],
          "pie": [
           {
            "automargin": true,
            "type": "pie"
           }
          ],
          "scatter": [
           {
            "fillpattern": {
             "fillmode": "overlay",
             "size": 10,
             "solidity": 0.2
            },
            "type": "scatter"
           }
          ],
          "scatter3d": [
           {
            "line": {
             "colorbar": {
              "outlinewidth": 0,
              "ticks": ""
             }
            },
            "marker": {
             "colorbar": {
              "outlinewidth": 0,
              "ticks": ""
             }
            },
            "type": "scatter3d"
           }
          ],
          "scattercarpet": [
           {
            "marker": {
             "colorbar": {
              "outlinewidth": 0,
              "ticks": ""
             }
            },
            "type": "scattercarpet"
           }
          ],
          "scattergeo": [
           {
            "marker": {
             "colorbar": {
              "outlinewidth": 0,
              "ticks": ""
             }
            },
            "type": "scattergeo"
           }
          ],
          "scattergl": [
           {
            "marker": {
             "colorbar": {
              "outlinewidth": 0,
              "ticks": ""
             }
            },
            "type": "scattergl"
           }
          ],
          "scattermapbox": [
           {
            "marker": {
             "colorbar": {
              "outlinewidth": 0,
              "ticks": ""
             }
            },
            "type": "scattermapbox"
           }
          ],
          "scatterpolar": [
           {
            "marker": {
             "colorbar": {
              "outlinewidth": 0,
              "ticks": ""
             }
            },
            "type": "scatterpolar"
           }
          ],
          "scatterpolargl": [
           {
            "marker": {
             "colorbar": {
              "outlinewidth": 0,
              "ticks": ""
             }
            },
            "type": "scatterpolargl"
           }
          ],
          "scatterternary": [
           {
            "marker": {
             "colorbar": {
              "outlinewidth": 0,
              "ticks": ""
             }
            },
            "type": "scatterternary"
           }
          ],
          "surface": [
           {
            "colorbar": {
             "outlinewidth": 0,
             "ticks": ""
            },
            "colorscale": [
             [
              0,
              "#0d0887"
             ],
             [
              0.1111111111111111,
              "#46039f"
             ],
             [
              0.2222222222222222,
              "#7201a8"
             ],
             [
              0.3333333333333333,
              "#9c179e"
             ],
             [
              0.4444444444444444,
              "#bd3786"
             ],
             [
              0.5555555555555556,
              "#d8576b"
             ],
             [
              0.6666666666666666,
              "#ed7953"
             ],
             [
              0.7777777777777778,
              "#fb9f3a"
             ],
             [
              0.8888888888888888,
              "#fdca26"
             ],
             [
              1,
              "#f0f921"
             ]
            ],
            "type": "surface"
           }
          ],
          "table": [
           {
            "cells": {
             "fill": {
              "color": "#EBF0F8"
             },
             "line": {
              "color": "white"
             }
            },
            "header": {
             "fill": {
              "color": "#C8D4E3"
             },
             "line": {
              "color": "white"
             }
            },
            "type": "table"
           }
          ]
         },
         "layout": {
          "annotationdefaults": {
           "arrowcolor": "#2a3f5f",
           "arrowhead": 0,
           "arrowwidth": 1
          },
          "autotypenumbers": "strict",
          "coloraxis": {
           "colorbar": {
            "outlinewidth": 0,
            "ticks": ""
           }
          },
          "colorscale": {
           "diverging": [
            [
             0,
             "#8e0152"
            ],
            [
             0.1,
             "#c51b7d"
            ],
            [
             0.2,
             "#de77ae"
            ],
            [
             0.3,
             "#f1b6da"
            ],
            [
             0.4,
             "#fde0ef"
            ],
            [
             0.5,
             "#f7f7f7"
            ],
            [
             0.6,
             "#e6f5d0"
            ],
            [
             0.7,
             "#b8e186"
            ],
            [
             0.8,
             "#7fbc41"
            ],
            [
             0.9,
             "#4d9221"
            ],
            [
             1,
             "#276419"
            ]
           ],
           "sequential": [
            [
             0,
             "#0d0887"
            ],
            [
             0.1111111111111111,
             "#46039f"
            ],
            [
             0.2222222222222222,
             "#7201a8"
            ],
            [
             0.3333333333333333,
             "#9c179e"
            ],
            [
             0.4444444444444444,
             "#bd3786"
            ],
            [
             0.5555555555555556,
             "#d8576b"
            ],
            [
             0.6666666666666666,
             "#ed7953"
            ],
            [
             0.7777777777777778,
             "#fb9f3a"
            ],
            [
             0.8888888888888888,
             "#fdca26"
            ],
            [
             1,
             "#f0f921"
            ]
           ],
           "sequentialminus": [
            [
             0,
             "#0d0887"
            ],
            [
             0.1111111111111111,
             "#46039f"
            ],
            [
             0.2222222222222222,
             "#7201a8"
            ],
            [
             0.3333333333333333,
             "#9c179e"
            ],
            [
             0.4444444444444444,
             "#bd3786"
            ],
            [
             0.5555555555555556,
             "#d8576b"
            ],
            [
             0.6666666666666666,
             "#ed7953"
            ],
            [
             0.7777777777777778,
             "#fb9f3a"
            ],
            [
             0.8888888888888888,
             "#fdca26"
            ],
            [
             1,
             "#f0f921"
            ]
           ]
          },
          "colorway": [
           "#636efa",
           "#EF553B",
           "#00cc96",
           "#ab63fa",
           "#FFA15A",
           "#19d3f3",
           "#FF6692",
           "#B6E880",
           "#FF97FF",
           "#FECB52"
          ],
          "font": {
           "color": "#2a3f5f"
          },
          "geo": {
           "bgcolor": "white",
           "lakecolor": "white",
           "landcolor": "#E5ECF6",
           "showlakes": true,
           "showland": true,
           "subunitcolor": "white"
          },
          "hoverlabel": {
           "align": "left"
          },
          "hovermode": "closest",
          "mapbox": {
           "style": "light"
          },
          "paper_bgcolor": "white",
          "plot_bgcolor": "#E5ECF6",
          "polar": {
           "angularaxis": {
            "gridcolor": "white",
            "linecolor": "white",
            "ticks": ""
           },
           "bgcolor": "#E5ECF6",
           "radialaxis": {
            "gridcolor": "white",
            "linecolor": "white",
            "ticks": ""
           }
          },
          "scene": {
           "xaxis": {
            "backgroundcolor": "#E5ECF6",
            "gridcolor": "white",
            "gridwidth": 2,
            "linecolor": "white",
            "showbackground": true,
            "ticks": "",
            "zerolinecolor": "white"
           },
           "yaxis": {
            "backgroundcolor": "#E5ECF6",
            "gridcolor": "white",
            "gridwidth": 2,
            "linecolor": "white",
            "showbackground": true,
            "ticks": "",
            "zerolinecolor": "white"
           },
           "zaxis": {
            "backgroundcolor": "#E5ECF6",
            "gridcolor": "white",
            "gridwidth": 2,
            "linecolor": "white",
            "showbackground": true,
            "ticks": "",
            "zerolinecolor": "white"
           }
          },
          "shapedefaults": {
           "line": {
            "color": "#2a3f5f"
           }
          },
          "ternary": {
           "aaxis": {
            "gridcolor": "white",
            "linecolor": "white",
            "ticks": ""
           },
           "baxis": {
            "gridcolor": "white",
            "linecolor": "white",
            "ticks": ""
           },
           "bgcolor": "#E5ECF6",
           "caxis": {
            "gridcolor": "white",
            "linecolor": "white",
            "ticks": ""
           }
          },
          "title": {
           "x": 0.05
          },
          "xaxis": {
           "automargin": true,
           "gridcolor": "white",
           "linecolor": "white",
           "ticks": "",
           "title": {
            "standoff": 15
           },
           "zerolinecolor": "white",
           "zerolinewidth": 2
          },
          "yaxis": {
           "automargin": true,
           "gridcolor": "white",
           "linecolor": "white",
           "ticks": "",
           "title": {
            "standoff": 15
           },
           "zerolinecolor": "white",
           "zerolinewidth": 2
          }
         }
        },
        "title": {
         "text": "Missing Data"
        },
        "xaxis": {
         "anchor": "y",
         "constrain": "domain",
         "domain": [
          0,
          1
         ],
         "scaleanchor": "y"
        },
        "yaxis": {
         "anchor": "x",
         "autorange": "reversed",
         "constrain": "domain",
         "domain": [
          0,
          1
         ]
        }
       }
      }
     },
     "metadata": {},
     "output_type": "display_data"
    }
   ],
   "source": [
    "# plotting the missing data using plotly express\n",
    "fig100 = px.imshow(missing_df, color_continuous_scale=\"Turbo\")\n",
    "fig100.update_layout(title=\"Missing Data\")\n",
    "fig100.show()"
   ]
  },
  {
   "cell_type": "code",
   "execution_count": 8,
   "metadata": {},
   "outputs": [],
   "source": [
    "# Remove any columns that you may find not useful for your analysis.\n",
    "cols_to_remove = [\"Source\", \"End_Time\", \"Description\", \"Zipcode\", \"Country\", \"Timezone\", \"Weather_Timestamp\", \"Temperature(F)\", \"Wind_Chill(F)\", \"Wind_Direction\", \"Civil_Twilight\", \"Nautical_Twilight\", \"Astronomical_Twilight\", \"Sunrise_Sunset\"]"
   ]
  },
  {
   "cell_type": "code",
   "execution_count": 9,
   "metadata": {},
   "outputs": [
    {
     "data": {
      "text/html": [
       "<div><style>\n",
       ".dataframe > thead > tr > th,\n",
       ".dataframe > tbody > tr > td {\n",
       "  text-align: right;\n",
       "}\n",
       "</style>\n",
       "<small>shape: (5, 32)</small><table border=\"1\" class=\"dataframe\"><thead><tr><th>ID</th><th>Severity</th><th>Start_Time</th><th>Start_Lat</th><th>Start_Lng</th><th>End_Lat</th><th>End_Lng</th><th>Distance(mi)</th><th>Street</th><th>City</th><th>County</th><th>State</th><th>Airport_Code</th><th>Humidity(%)</th><th>Pressure(in)</th><th>Visibility(mi)</th><th>Wind_Speed(mph)</th><th>Precipitation(in)</th><th>Weather_Condition</th><th>Amenity</th><th>Bump</th><th>Crossing</th><th>Give_Way</th><th>Junction</th><th>No_Exit</th><th>Railway</th><th>Roundabout</th><th>Station</th><th>Stop</th><th>Traffic_Calming</th><th>Traffic_Signal</th><th>Turning_Loop</th></tr><tr><td>str</td><td>i64</td><td>str</td><td>f64</td><td>f64</td><td>str</td><td>str</td><td>f64</td><td>str</td><td>str</td><td>str</td><td>str</td><td>str</td><td>f64</td><td>f64</td><td>f64</td><td>f64</td><td>f64</td><td>str</td><td>bool</td><td>bool</td><td>bool</td><td>bool</td><td>bool</td><td>bool</td><td>bool</td><td>bool</td><td>bool</td><td>bool</td><td>bool</td><td>bool</td><td>bool</td></tr></thead><tbody><tr><td>&quot;A-1&quot;</td><td>3</td><td>&quot;2016-02-08 05:…</td><td>39.865147</td><td>-84.058723</td><td>null</td><td>null</td><td>0.01</td><td>&quot;I-70 E&quot;</td><td>&quot;Dayton&quot;</td><td>&quot;Montgomery&quot;</td><td>&quot;OH&quot;</td><td>&quot;KFFO&quot;</td><td>91.0</td><td>29.68</td><td>10.0</td><td>null</td><td>0.02</td><td>&quot;Light Rain&quot;</td><td>false</td><td>false</td><td>false</td><td>false</td><td>false</td><td>false</td><td>false</td><td>false</td><td>false</td><td>false</td><td>false</td><td>false</td><td>false</td></tr><tr><td>&quot;A-2&quot;</td><td>2</td><td>&quot;2016-02-08 06:…</td><td>39.928059</td><td>-82.831184</td><td>null</td><td>null</td><td>0.01</td><td>&quot;Brice Rd&quot;</td><td>&quot;Reynoldsburg&quot;</td><td>&quot;Franklin&quot;</td><td>&quot;OH&quot;</td><td>&quot;KCMH&quot;</td><td>100.0</td><td>29.65</td><td>10.0</td><td>null</td><td>0.0</td><td>&quot;Light Rain&quot;</td><td>false</td><td>false</td><td>false</td><td>false</td><td>false</td><td>false</td><td>false</td><td>false</td><td>false</td><td>false</td><td>false</td><td>false</td><td>false</td></tr><tr><td>&quot;A-3&quot;</td><td>2</td><td>&quot;2016-02-08 06:…</td><td>39.063148</td><td>-84.032608</td><td>null</td><td>null</td><td>0.01</td><td>&quot;State Route 32…</td><td>&quot;Williamsburg&quot;</td><td>&quot;Clermont&quot;</td><td>&quot;OH&quot;</td><td>&quot;KI69&quot;</td><td>100.0</td><td>29.67</td><td>10.0</td><td>3.5</td><td>null</td><td>&quot;Overcast&quot;</td><td>false</td><td>false</td><td>false</td><td>false</td><td>false</td><td>false</td><td>false</td><td>false</td><td>false</td><td>false</td><td>false</td><td>true</td><td>false</td></tr><tr><td>&quot;A-4&quot;</td><td>3</td><td>&quot;2016-02-08 07:…</td><td>39.747753</td><td>-84.205582</td><td>null</td><td>null</td><td>0.01</td><td>&quot;I-75 S&quot;</td><td>&quot;Dayton&quot;</td><td>&quot;Montgomery&quot;</td><td>&quot;OH&quot;</td><td>&quot;KDAY&quot;</td><td>96.0</td><td>29.64</td><td>9.0</td><td>4.6</td><td>null</td><td>&quot;Mostly Cloudy&quot;</td><td>false</td><td>false</td><td>false</td><td>false</td><td>false</td><td>false</td><td>false</td><td>false</td><td>false</td><td>false</td><td>false</td><td>false</td><td>false</td></tr><tr><td>&quot;A-5&quot;</td><td>2</td><td>&quot;2016-02-08 07:…</td><td>39.627781</td><td>-84.188354</td><td>null</td><td>null</td><td>0.01</td><td>&quot;Miamisburg Cen…</td><td>&quot;Dayton&quot;</td><td>&quot;Montgomery&quot;</td><td>&quot;OH&quot;</td><td>&quot;KMGY&quot;</td><td>89.0</td><td>29.65</td><td>6.0</td><td>3.5</td><td>null</td><td>&quot;Mostly Cloudy&quot;</td><td>false</td><td>false</td><td>false</td><td>false</td><td>false</td><td>false</td><td>false</td><td>false</td><td>false</td><td>false</td><td>false</td><td>true</td><td>false</td></tr></tbody></table></div>"
      ],
      "text/plain": [
       "shape: (5, 32)\n",
       "┌─────┬────────┬──────────┬─────────┬─────────┬───────┬───────┬────────────┬──────┬─────┬──────┬─────┬────────────┬───────────┬────────────┬────────────┬────────────┬────────────┬────────────┬───────┬─────┬────────┬────────┬────────┬───────┬───────┬──────────┬───────┬─────┬────────────┬────────────┬────────────┐\n",
       "│ ID  ┆ Severi ┆ Start_Ti ┆ Start_L ┆ Start_L ┆ End_L ┆ End_L ┆ Distance(m ┆ Stre ┆ Cit ┆ Coun ┆ Sta ┆ Airport_Co ┆ Humidity( ┆ Pressure(i ┆ Visibility ┆ Wind_Speed ┆ Precipitat ┆ Weather_Co ┆ Ameni ┆ Bum ┆ Crossi ┆ Give_W ┆ Juncti ┆ No_Ex ┆ Railw ┆ Roundabo ┆ Stati ┆ Sto ┆ Traffic_Ca ┆ Traffic_Si ┆ Turning_Lo │\n",
       "│ --- ┆ ty     ┆ me       ┆ at      ┆ ng      ┆ at    ┆ ng    ┆ i)         ┆ et   ┆ y   ┆ ty   ┆ te  ┆ de         ┆ %)        ┆ n)         ┆ (mi)       ┆ (mph)      ┆ ion(in)    ┆ ndition    ┆ ty    ┆ p   ┆ ng     ┆ ay     ┆ on     ┆ it    ┆ ay    ┆ ut       ┆ on    ┆ p   ┆ lming      ┆ gnal       ┆ op         │\n",
       "│ str ┆ ---    ┆ ---      ┆ ---     ┆ ---     ┆ ---   ┆ ---   ┆ ---        ┆ ---  ┆ --- ┆ ---  ┆ --- ┆ ---        ┆ ---       ┆ ---        ┆ ---        ┆ ---        ┆ ---        ┆ ---        ┆ ---   ┆ --- ┆ ---    ┆ ---    ┆ ---    ┆ ---   ┆ ---   ┆ ---      ┆ ---   ┆ --- ┆ ---        ┆ ---        ┆ ---        │\n",
       "│     ┆ i64    ┆ str      ┆ f64     ┆ f64     ┆ str   ┆ str   ┆ f64        ┆ str  ┆ str ┆ str  ┆ str ┆ str        ┆ f64       ┆ f64        ┆ f64        ┆ f64        ┆ f64        ┆ str        ┆ bool  ┆ boo ┆ bool   ┆ bool   ┆ bool   ┆ bool  ┆ bool  ┆ bool     ┆ bool  ┆ boo ┆ bool       ┆ bool       ┆ bool       │\n",
       "│     ┆        ┆          ┆         ┆         ┆       ┆       ┆            ┆      ┆     ┆      ┆     ┆            ┆           ┆            ┆            ┆            ┆            ┆            ┆       ┆ l   ┆        ┆        ┆        ┆       ┆       ┆          ┆       ┆ l   ┆            ┆            ┆            │\n",
       "╞═════╪════════╪══════════╪═════════╪═════════╪═══════╪═══════╪════════════╪══════╪═════╪══════╪═════╪════════════╪═══════════╪════════════╪════════════╪════════════╪════════════╪════════════╪═══════╪═════╪════════╪════════╪════════╪═══════╪═══════╪══════════╪═══════╪═════╪════════════╪════════════╪════════════╡\n",
       "│ A-1 ┆ 3      ┆ 2016-02- ┆ 39.8651 ┆ -84.058 ┆ null  ┆ null  ┆ 0.01       ┆ I-70 ┆ Day ┆ Mont ┆ OH  ┆ KFFO       ┆ 91.0      ┆ 29.68      ┆ 10.0       ┆ null       ┆ 0.02       ┆ Light Rain ┆ false ┆ fal ┆ false  ┆ false  ┆ false  ┆ false ┆ false ┆ false    ┆ false ┆ fal ┆ false      ┆ false      ┆ false      │\n",
       "│     ┆        ┆ 08       ┆ 47      ┆ 723     ┆       ┆       ┆            ┆ E    ┆ ton ┆ gome ┆     ┆            ┆           ┆            ┆            ┆            ┆            ┆            ┆       ┆ se  ┆        ┆        ┆        ┆       ┆       ┆          ┆       ┆ se  ┆            ┆            ┆            │\n",
       "│     ┆        ┆ 05:46:00 ┆         ┆         ┆       ┆       ┆            ┆      ┆     ┆ ry   ┆     ┆            ┆           ┆            ┆            ┆            ┆            ┆            ┆       ┆     ┆        ┆        ┆        ┆       ┆       ┆          ┆       ┆     ┆            ┆            ┆            │\n",
       "│ A-2 ┆ 2      ┆ 2016-02- ┆ 39.9280 ┆ -82.831 ┆ null  ┆ null  ┆ 0.01       ┆ Bric ┆ Rey ┆ Fran ┆ OH  ┆ KCMH       ┆ 100.0     ┆ 29.65      ┆ 10.0       ┆ null       ┆ 0.0        ┆ Light Rain ┆ false ┆ fal ┆ false  ┆ false  ┆ false  ┆ false ┆ false ┆ false    ┆ false ┆ fal ┆ false      ┆ false      ┆ false      │\n",
       "│     ┆        ┆ 08       ┆ 59      ┆ 184     ┆       ┆       ┆            ┆ e Rd ┆ nol ┆ klin ┆     ┆            ┆           ┆            ┆            ┆            ┆            ┆            ┆       ┆ se  ┆        ┆        ┆        ┆       ┆       ┆          ┆       ┆ se  ┆            ┆            ┆            │\n",
       "│     ┆        ┆ 06:07:59 ┆         ┆         ┆       ┆       ┆            ┆      ┆ dsb ┆      ┆     ┆            ┆           ┆            ┆            ┆            ┆            ┆            ┆       ┆     ┆        ┆        ┆        ┆       ┆       ┆          ┆       ┆     ┆            ┆            ┆            │\n",
       "│     ┆        ┆          ┆         ┆         ┆       ┆       ┆            ┆      ┆ urg ┆      ┆     ┆            ┆           ┆            ┆            ┆            ┆            ┆            ┆       ┆     ┆        ┆        ┆        ┆       ┆       ┆          ┆       ┆     ┆            ┆            ┆            │\n",
       "│ A-3 ┆ 2      ┆ 2016-02- ┆ 39.0631 ┆ -84.032 ┆ null  ┆ null  ┆ 0.01       ┆ Stat ┆ Wil ┆ Cler ┆ OH  ┆ KI69       ┆ 100.0     ┆ 29.67      ┆ 10.0       ┆ 3.5        ┆ null       ┆ Overcast   ┆ false ┆ fal ┆ false  ┆ false  ┆ false  ┆ false ┆ false ┆ false    ┆ false ┆ fal ┆ false      ┆ true       ┆ false      │\n",
       "│     ┆        ┆ 08       ┆ 48      ┆ 608     ┆       ┆       ┆            ┆ e    ┆ lia ┆ mont ┆     ┆            ┆           ┆            ┆            ┆            ┆            ┆            ┆       ┆ se  ┆        ┆        ┆        ┆       ┆       ┆          ┆       ┆ se  ┆            ┆            ┆            │\n",
       "│     ┆        ┆ 06:49:27 ┆         ┆         ┆       ┆       ┆            ┆ Rout ┆ msb ┆      ┆     ┆            ┆           ┆            ┆            ┆            ┆            ┆            ┆       ┆     ┆        ┆        ┆        ┆       ┆       ┆          ┆       ┆     ┆            ┆            ┆            │\n",
       "│     ┆        ┆          ┆         ┆         ┆       ┆       ┆            ┆ e 32 ┆ urg ┆      ┆     ┆            ┆           ┆            ┆            ┆            ┆            ┆            ┆       ┆     ┆        ┆        ┆        ┆       ┆       ┆          ┆       ┆     ┆            ┆            ┆            │\n",
       "│ A-4 ┆ 3      ┆ 2016-02- ┆ 39.7477 ┆ -84.205 ┆ null  ┆ null  ┆ 0.01       ┆ I-75 ┆ Day ┆ Mont ┆ OH  ┆ KDAY       ┆ 96.0      ┆ 29.64      ┆ 9.0        ┆ 4.6        ┆ null       ┆ Mostly     ┆ false ┆ fal ┆ false  ┆ false  ┆ false  ┆ false ┆ false ┆ false    ┆ false ┆ fal ┆ false      ┆ false      ┆ false      │\n",
       "│     ┆        ┆ 08       ┆ 53      ┆ 582     ┆       ┆       ┆            ┆ S    ┆ ton ┆ gome ┆     ┆            ┆           ┆            ┆            ┆            ┆            ┆ Cloudy     ┆       ┆ se  ┆        ┆        ┆        ┆       ┆       ┆          ┆       ┆ se  ┆            ┆            ┆            │\n",
       "│     ┆        ┆ 07:23:34 ┆         ┆         ┆       ┆       ┆            ┆      ┆     ┆ ry   ┆     ┆            ┆           ┆            ┆            ┆            ┆            ┆            ┆       ┆     ┆        ┆        ┆        ┆       ┆       ┆          ┆       ┆     ┆            ┆            ┆            │\n",
       "│ A-5 ┆ 2      ┆ 2016-02- ┆ 39.6277 ┆ -84.188 ┆ null  ┆ null  ┆ 0.01       ┆ Miam ┆ Day ┆ Mont ┆ OH  ┆ KMGY       ┆ 89.0      ┆ 29.65      ┆ 6.0        ┆ 3.5        ┆ null       ┆ Mostly     ┆ false ┆ fal ┆ false  ┆ false  ┆ false  ┆ false ┆ false ┆ false    ┆ false ┆ fal ┆ false      ┆ true       ┆ false      │\n",
       "│     ┆        ┆ 08       ┆ 81      ┆ 354     ┆       ┆       ┆            ┆ isbu ┆ ton ┆ gome ┆     ┆            ┆           ┆            ┆            ┆            ┆            ┆ Cloudy     ┆       ┆ se  ┆        ┆        ┆        ┆       ┆       ┆          ┆       ┆ se  ┆            ┆            ┆            │\n",
       "│     ┆        ┆ 07:39:07 ┆         ┆         ┆       ┆       ┆            ┆ rg   ┆     ┆ ry   ┆     ┆            ┆           ┆            ┆            ┆            ┆            ┆            ┆       ┆     ┆        ┆        ┆        ┆       ┆       ┆          ┆       ┆     ┆            ┆            ┆            │\n",
       "│     ┆        ┆          ┆         ┆         ┆       ┆       ┆            ┆ Cent ┆     ┆      ┆     ┆            ┆           ┆            ┆            ┆            ┆            ┆            ┆       ┆     ┆        ┆        ┆        ┆       ┆       ┆          ┆       ┆     ┆            ┆            ┆            │\n",
       "│     ┆        ┆          ┆         ┆         ┆       ┆       ┆            ┆ ervi ┆     ┆      ┆     ┆            ┆           ┆            ┆            ┆            ┆            ┆            ┆       ┆     ┆        ┆        ┆        ┆       ┆       ┆          ┆       ┆     ┆            ┆            ┆            │\n",
       "│     ┆        ┆          ┆         ┆         ┆       ┆       ┆            ┆ lle  ┆     ┆      ┆     ┆            ┆           ┆            ┆            ┆            ┆            ┆            ┆       ┆     ┆        ┆        ┆        ┆       ┆       ┆          ┆       ┆     ┆            ┆            ┆            │\n",
       "│     ┆        ┆          ┆         ┆         ┆       ┆       ┆            ┆ Rd   ┆     ┆      ┆     ┆            ┆           ┆            ┆            ┆            ┆            ┆            ┆       ┆     ┆        ┆        ┆        ┆       ┆       ┆          ┆       ┆     ┆            ┆            ┆            │\n",
       "└─────┴────────┴──────────┴─────────┴─────────┴───────┴───────┴────────────┴──────┴─────┴──────┴─────┴────────────┴───────────┴────────────┴────────────┴────────────┴────────────┴────────────┴───────┴─────┴────────┴────────┴────────┴───────┴───────┴──────────┴───────┴─────┴────────────┴────────────┴────────────┘"
      ]
     },
     "execution_count": 9,
     "metadata": {},
     "output_type": "execute_result"
    }
   ],
   "source": [
    "df = df.drop(cols_to_remove)\n",
    "df.head()"
   ]
  },
  {
   "cell_type": "code",
   "execution_count": 10,
   "metadata": {},
   "outputs": [
    {
     "name": "stdout",
     "output_type": "stream",
     "text": [
      "shape: (10, 2)\n",
      "┌─────────────┬────────┐\n",
      "│ City        ┆ counts │\n",
      "│ ---         ┆ ---    │\n",
      "│ str         ┆ u32    │\n",
      "╞═════════════╪════════╡\n",
      "│ Miami       ┆ 186917 │\n",
      "│ Houston     ┆ 169609 │\n",
      "│ Los Angeles ┆ 156491 │\n",
      "│ Charlotte   ┆ 138652 │\n",
      "│ Dallas      ┆ 130939 │\n",
      "│ Orlando     ┆ 109733 │\n",
      "│ Austin      ┆ 97359  │\n",
      "│ Raleigh     ┆ 86079  │\n",
      "│ Nashville   ┆ 72930  │\n",
      "│ Baton Rouge ┆ 71588  │\n",
      "└─────────────┴────────┘\n"
     ]
    }
   ],
   "source": [
    "#Plot the top 10 cities with the most accidents.\n",
    "top10 = df[\"City\"].value_counts(sort=True).head(10)\n",
    "print(top10.head(10))"
   ]
  },
  {
   "cell_type": "code",
   "execution_count": 11,
   "metadata": {},
   "outputs": [
    {
     "data": {
      "application/vnd.plotly.v1+json": {
       "config": {
        "plotlyServerURL": "https://plot.ly"
       },
       "data": [
        {
         "alignmentgroup": "True",
         "hovertemplate": "City=%{x}<br>Number of Accidents=%{y}<extra></extra>",
         "legendgroup": "",
         "marker": {
          "color": "#636efa",
          "pattern": {
           "shape": ""
          }
         },
         "name": "",
         "offsetgroup": "",
         "orientation": "v",
         "showlegend": false,
         "textposition": "auto",
         "type": "bar",
         "x": [
          "Miami",
          "Houston",
          "Los Angeles",
          "Charlotte",
          "Dallas",
          "Orlando",
          "Austin",
          "Raleigh",
          "Nashville",
          "Baton Rouge"
         ],
         "xaxis": "x",
         "y": [
          186917,
          169609,
          156491,
          138652,
          130939,
          109733,
          97359,
          86079,
          72930,
          71588
         ],
         "yaxis": "y"
        }
       ],
       "layout": {
        "barmode": "relative",
        "legend": {
         "tracegroupgap": 0
        },
        "template": {
         "data": {
          "bar": [
           {
            "error_x": {
             "color": "#2a3f5f"
            },
            "error_y": {
             "color": "#2a3f5f"
            },
            "marker": {
             "line": {
              "color": "#E5ECF6",
              "width": 0.5
             },
             "pattern": {
              "fillmode": "overlay",
              "size": 10,
              "solidity": 0.2
             }
            },
            "type": "bar"
           }
          ],
          "barpolar": [
           {
            "marker": {
             "line": {
              "color": "#E5ECF6",
              "width": 0.5
             },
             "pattern": {
              "fillmode": "overlay",
              "size": 10,
              "solidity": 0.2
             }
            },
            "type": "barpolar"
           }
          ],
          "carpet": [
           {
            "aaxis": {
             "endlinecolor": "#2a3f5f",
             "gridcolor": "white",
             "linecolor": "white",
             "minorgridcolor": "white",
             "startlinecolor": "#2a3f5f"
            },
            "baxis": {
             "endlinecolor": "#2a3f5f",
             "gridcolor": "white",
             "linecolor": "white",
             "minorgridcolor": "white",
             "startlinecolor": "#2a3f5f"
            },
            "type": "carpet"
           }
          ],
          "choropleth": [
           {
            "colorbar": {
             "outlinewidth": 0,
             "ticks": ""
            },
            "type": "choropleth"
           }
          ],
          "contour": [
           {
            "colorbar": {
             "outlinewidth": 0,
             "ticks": ""
            },
            "colorscale": [
             [
              0,
              "#0d0887"
             ],
             [
              0.1111111111111111,
              "#46039f"
             ],
             [
              0.2222222222222222,
              "#7201a8"
             ],
             [
              0.3333333333333333,
              "#9c179e"
             ],
             [
              0.4444444444444444,
              "#bd3786"
             ],
             [
              0.5555555555555556,
              "#d8576b"
             ],
             [
              0.6666666666666666,
              "#ed7953"
             ],
             [
              0.7777777777777778,
              "#fb9f3a"
             ],
             [
              0.8888888888888888,
              "#fdca26"
             ],
             [
              1,
              "#f0f921"
             ]
            ],
            "type": "contour"
           }
          ],
          "contourcarpet": [
           {
            "colorbar": {
             "outlinewidth": 0,
             "ticks": ""
            },
            "type": "contourcarpet"
           }
          ],
          "heatmap": [
           {
            "colorbar": {
             "outlinewidth": 0,
             "ticks": ""
            },
            "colorscale": [
             [
              0,
              "#0d0887"
             ],
             [
              0.1111111111111111,
              "#46039f"
             ],
             [
              0.2222222222222222,
              "#7201a8"
             ],
             [
              0.3333333333333333,
              "#9c179e"
             ],
             [
              0.4444444444444444,
              "#bd3786"
             ],
             [
              0.5555555555555556,
              "#d8576b"
             ],
             [
              0.6666666666666666,
              "#ed7953"
             ],
             [
              0.7777777777777778,
              "#fb9f3a"
             ],
             [
              0.8888888888888888,
              "#fdca26"
             ],
             [
              1,
              "#f0f921"
             ]
            ],
            "type": "heatmap"
           }
          ],
          "heatmapgl": [
           {
            "colorbar": {
             "outlinewidth": 0,
             "ticks": ""
            },
            "colorscale": [
             [
              0,
              "#0d0887"
             ],
             [
              0.1111111111111111,
              "#46039f"
             ],
             [
              0.2222222222222222,
              "#7201a8"
             ],
             [
              0.3333333333333333,
              "#9c179e"
             ],
             [
              0.4444444444444444,
              "#bd3786"
             ],
             [
              0.5555555555555556,
              "#d8576b"
             ],
             [
              0.6666666666666666,
              "#ed7953"
             ],
             [
              0.7777777777777778,
              "#fb9f3a"
             ],
             [
              0.8888888888888888,
              "#fdca26"
             ],
             [
              1,
              "#f0f921"
             ]
            ],
            "type": "heatmapgl"
           }
          ],
          "histogram": [
           {
            "marker": {
             "pattern": {
              "fillmode": "overlay",
              "size": 10,
              "solidity": 0.2
             }
            },
            "type": "histogram"
           }
          ],
          "histogram2d": [
           {
            "colorbar": {
             "outlinewidth": 0,
             "ticks": ""
            },
            "colorscale": [
             [
              0,
              "#0d0887"
             ],
             [
              0.1111111111111111,
              "#46039f"
             ],
             [
              0.2222222222222222,
              "#7201a8"
             ],
             [
              0.3333333333333333,
              "#9c179e"
             ],
             [
              0.4444444444444444,
              "#bd3786"
             ],
             [
              0.5555555555555556,
              "#d8576b"
             ],
             [
              0.6666666666666666,
              "#ed7953"
             ],
             [
              0.7777777777777778,
              "#fb9f3a"
             ],
             [
              0.8888888888888888,
              "#fdca26"
             ],
             [
              1,
              "#f0f921"
             ]
            ],
            "type": "histogram2d"
           }
          ],
          "histogram2dcontour": [
           {
            "colorbar": {
             "outlinewidth": 0,
             "ticks": ""
            },
            "colorscale": [
             [
              0,
              "#0d0887"
             ],
             [
              0.1111111111111111,
              "#46039f"
             ],
             [
              0.2222222222222222,
              "#7201a8"
             ],
             [
              0.3333333333333333,
              "#9c179e"
             ],
             [
              0.4444444444444444,
              "#bd3786"
             ],
             [
              0.5555555555555556,
              "#d8576b"
             ],
             [
              0.6666666666666666,
              "#ed7953"
             ],
             [
              0.7777777777777778,
              "#fb9f3a"
             ],
             [
              0.8888888888888888,
              "#fdca26"
             ],
             [
              1,
              "#f0f921"
             ]
            ],
            "type": "histogram2dcontour"
           }
          ],
          "mesh3d": [
           {
            "colorbar": {
             "outlinewidth": 0,
             "ticks": ""
            },
            "type": "mesh3d"
           }
          ],
          "parcoords": [
           {
            "line": {
             "colorbar": {
              "outlinewidth": 0,
              "ticks": ""
             }
            },
            "type": "parcoords"
           }
          ],
          "pie": [
           {
            "automargin": true,
            "type": "pie"
           }
          ],
          "scatter": [
           {
            "fillpattern": {
             "fillmode": "overlay",
             "size": 10,
             "solidity": 0.2
            },
            "type": "scatter"
           }
          ],
          "scatter3d": [
           {
            "line": {
             "colorbar": {
              "outlinewidth": 0,
              "ticks": ""
             }
            },
            "marker": {
             "colorbar": {
              "outlinewidth": 0,
              "ticks": ""
             }
            },
            "type": "scatter3d"
           }
          ],
          "scattercarpet": [
           {
            "marker": {
             "colorbar": {
              "outlinewidth": 0,
              "ticks": ""
             }
            },
            "type": "scattercarpet"
           }
          ],
          "scattergeo": [
           {
            "marker": {
             "colorbar": {
              "outlinewidth": 0,
              "ticks": ""
             }
            },
            "type": "scattergeo"
           }
          ],
          "scattergl": [
           {
            "marker": {
             "colorbar": {
              "outlinewidth": 0,
              "ticks": ""
             }
            },
            "type": "scattergl"
           }
          ],
          "scattermapbox": [
           {
            "marker": {
             "colorbar": {
              "outlinewidth": 0,
              "ticks": ""
             }
            },
            "type": "scattermapbox"
           }
          ],
          "scatterpolar": [
           {
            "marker": {
             "colorbar": {
              "outlinewidth": 0,
              "ticks": ""
             }
            },
            "type": "scatterpolar"
           }
          ],
          "scatterpolargl": [
           {
            "marker": {
             "colorbar": {
              "outlinewidth": 0,
              "ticks": ""
             }
            },
            "type": "scatterpolargl"
           }
          ],
          "scatterternary": [
           {
            "marker": {
             "colorbar": {
              "outlinewidth": 0,
              "ticks": ""
             }
            },
            "type": "scatterternary"
           }
          ],
          "surface": [
           {
            "colorbar": {
             "outlinewidth": 0,
             "ticks": ""
            },
            "colorscale": [
             [
              0,
              "#0d0887"
             ],
             [
              0.1111111111111111,
              "#46039f"
             ],
             [
              0.2222222222222222,
              "#7201a8"
             ],
             [
              0.3333333333333333,
              "#9c179e"
             ],
             [
              0.4444444444444444,
              "#bd3786"
             ],
             [
              0.5555555555555556,
              "#d8576b"
             ],
             [
              0.6666666666666666,
              "#ed7953"
             ],
             [
              0.7777777777777778,
              "#fb9f3a"
             ],
             [
              0.8888888888888888,
              "#fdca26"
             ],
             [
              1,
              "#f0f921"
             ]
            ],
            "type": "surface"
           }
          ],
          "table": [
           {
            "cells": {
             "fill": {
              "color": "#EBF0F8"
             },
             "line": {
              "color": "white"
             }
            },
            "header": {
             "fill": {
              "color": "#C8D4E3"
             },
             "line": {
              "color": "white"
             }
            },
            "type": "table"
           }
          ]
         },
         "layout": {
          "annotationdefaults": {
           "arrowcolor": "#2a3f5f",
           "arrowhead": 0,
           "arrowwidth": 1
          },
          "autotypenumbers": "strict",
          "coloraxis": {
           "colorbar": {
            "outlinewidth": 0,
            "ticks": ""
           }
          },
          "colorscale": {
           "diverging": [
            [
             0,
             "#8e0152"
            ],
            [
             0.1,
             "#c51b7d"
            ],
            [
             0.2,
             "#de77ae"
            ],
            [
             0.3,
             "#f1b6da"
            ],
            [
             0.4,
             "#fde0ef"
            ],
            [
             0.5,
             "#f7f7f7"
            ],
            [
             0.6,
             "#e6f5d0"
            ],
            [
             0.7,
             "#b8e186"
            ],
            [
             0.8,
             "#7fbc41"
            ],
            [
             0.9,
             "#4d9221"
            ],
            [
             1,
             "#276419"
            ]
           ],
           "sequential": [
            [
             0,
             "#0d0887"
            ],
            [
             0.1111111111111111,
             "#46039f"
            ],
            [
             0.2222222222222222,
             "#7201a8"
            ],
            [
             0.3333333333333333,
             "#9c179e"
            ],
            [
             0.4444444444444444,
             "#bd3786"
            ],
            [
             0.5555555555555556,
             "#d8576b"
            ],
            [
             0.6666666666666666,
             "#ed7953"
            ],
            [
             0.7777777777777778,
             "#fb9f3a"
            ],
            [
             0.8888888888888888,
             "#fdca26"
            ],
            [
             1,
             "#f0f921"
            ]
           ],
           "sequentialminus": [
            [
             0,
             "#0d0887"
            ],
            [
             0.1111111111111111,
             "#46039f"
            ],
            [
             0.2222222222222222,
             "#7201a8"
            ],
            [
             0.3333333333333333,
             "#9c179e"
            ],
            [
             0.4444444444444444,
             "#bd3786"
            ],
            [
             0.5555555555555556,
             "#d8576b"
            ],
            [
             0.6666666666666666,
             "#ed7953"
            ],
            [
             0.7777777777777778,
             "#fb9f3a"
            ],
            [
             0.8888888888888888,
             "#fdca26"
            ],
            [
             1,
             "#f0f921"
            ]
           ]
          },
          "colorway": [
           "#636efa",
           "#EF553B",
           "#00cc96",
           "#ab63fa",
           "#FFA15A",
           "#19d3f3",
           "#FF6692",
           "#B6E880",
           "#FF97FF",
           "#FECB52"
          ],
          "font": {
           "color": "#2a3f5f"
          },
          "geo": {
           "bgcolor": "white",
           "lakecolor": "white",
           "landcolor": "#E5ECF6",
           "showlakes": true,
           "showland": true,
           "subunitcolor": "white"
          },
          "hoverlabel": {
           "align": "left"
          },
          "hovermode": "closest",
          "mapbox": {
           "style": "light"
          },
          "paper_bgcolor": "white",
          "plot_bgcolor": "#E5ECF6",
          "polar": {
           "angularaxis": {
            "gridcolor": "white",
            "linecolor": "white",
            "ticks": ""
           },
           "bgcolor": "#E5ECF6",
           "radialaxis": {
            "gridcolor": "white",
            "linecolor": "white",
            "ticks": ""
           }
          },
          "scene": {
           "xaxis": {
            "backgroundcolor": "#E5ECF6",
            "gridcolor": "white",
            "gridwidth": 2,
            "linecolor": "white",
            "showbackground": true,
            "ticks": "",
            "zerolinecolor": "white"
           },
           "yaxis": {
            "backgroundcolor": "#E5ECF6",
            "gridcolor": "white",
            "gridwidth": 2,
            "linecolor": "white",
            "showbackground": true,
            "ticks": "",
            "zerolinecolor": "white"
           },
           "zaxis": {
            "backgroundcolor": "#E5ECF6",
            "gridcolor": "white",
            "gridwidth": 2,
            "linecolor": "white",
            "showbackground": true,
            "ticks": "",
            "zerolinecolor": "white"
           }
          },
          "shapedefaults": {
           "line": {
            "color": "#2a3f5f"
           }
          },
          "ternary": {
           "aaxis": {
            "gridcolor": "white",
            "linecolor": "white",
            "ticks": ""
           },
           "baxis": {
            "gridcolor": "white",
            "linecolor": "white",
            "ticks": ""
           },
           "bgcolor": "#E5ECF6",
           "caxis": {
            "gridcolor": "white",
            "linecolor": "white",
            "ticks": ""
           }
          },
          "title": {
           "x": 0.05
          },
          "xaxis": {
           "automargin": true,
           "gridcolor": "white",
           "linecolor": "white",
           "ticks": "",
           "title": {
            "standoff": 15
           },
           "zerolinecolor": "white",
           "zerolinewidth": 2
          },
          "yaxis": {
           "automargin": true,
           "gridcolor": "white",
           "linecolor": "white",
           "ticks": "",
           "title": {
            "standoff": 15
           },
           "zerolinecolor": "white",
           "zerolinewidth": 2
          }
         }
        },
        "title": {
         "text": "Top 10 Cities with the Most Accidents"
        },
        "xaxis": {
         "anchor": "y",
         "domain": [
          0,
          1
         ],
         "title": {
          "text": "City"
         }
        },
        "yaxis": {
         "anchor": "x",
         "domain": [
          0,
          1
         ],
         "title": {
          "text": "Number of Accidents"
         }
        }
       }
      }
     },
     "metadata": {},
     "output_type": "display_data"
    }
   ],
   "source": [
    "fig3 = px.bar(top10, x=top10[\"City\"], y=top10[\"counts\"], labels={\"x\": \"City\", \"y\": \"Number of Accidents\"}, title=\"Top 10 Cities with the Most Accidents\")\n",
    "fig3.show()"
   ]
  },
  {
   "cell_type": "code",
   "execution_count": 12,
   "metadata": {},
   "outputs": [],
   "source": [
    "# # Plot the distribution of the start time.\n",
    "# from datetime import datetime\n",
    "\n",
    "# # Extract the 'Start_Time' column\n",
    "# start_times = df['Start_Time']\n",
    "\n",
    "# # Iterate over unique values to identify the datetime format\n",
    "# unique_formats = set()\n",
    "# for value in start_times.unique().to_list():\n",
    "#     try:\n",
    "#         datetime.strptime(value, '%Y-%m-%d %H:%M:%S')\n",
    "#         unique_formats.add('%Y-%m-%d %H:%M:%S')\n",
    "#     except ValueError:\n",
    "#         pass\n",
    "\n",
    "# # Print the identified datetime formats\n",
    "# print(unique_formats)\n",
    "\n"
   ]
  },
  {
   "cell_type": "code",
   "execution_count": 13,
   "metadata": {},
   "outputs": [],
   "source": [
    "# # Convert the 'Start_Time' column to datetime\n",
    "# start_times_dt = start_times.apply(\n",
    "#     lambda x: datetime.strptime(x, '%Y-%m-%d %H:%M:%S') if len(x) > 0 else None\n",
    "# )\n",
    "\n",
    "# # Update the 'Start_Time' column in the DataFrame\n",
    "# df = df.with_column('Start_Time', start_times_dt.cast(pl.Date))\n",
    "\n",
    "# # Print the updated DataFrame\n",
    "# print(df)"
   ]
  },
  {
   "attachments": {},
   "cell_type": "markdown",
   "metadata": {},
   "source": [
    "Welp... datetime in polars is kind of hard"
   ]
  },
  {
   "cell_type": "code",
   "execution_count": 14,
   "metadata": {},
   "outputs": [],
   "source": [
    "# # Plot the distribution of the start time.\n",
    "# make start_time a datetime\n",
    "df1 = df.to_pandas()\n",
    "df1[\"Start_Time\"] = pd.to_datetime(df1[\"Start_Time\"])\n",
    "\n",
    "# plot distrubution of start time\n",
    "# fig4 = px.histogram(df1, x=\"Start_Time\", title=\"Distribution of Start Time\")\n",
    "# fig4.show()"
   ]
  },
  {
   "cell_type": "code",
   "execution_count": 15,
   "metadata": {},
   "outputs": [
    {
     "data": {
      "application/vnd.plotly.v1+json": {
       "config": {
        "plotlyServerURL": "https://plot.ly"
       },
       "data": [
        {
         "hovertemplate": "variable=Weekday_Counts<br>Hour_of_Day=%{x}<br>Accident Count=%{y}<extra></extra>",
         "legendgroup": "Weekday_Counts",
         "line": {
          "color": "#636efa",
          "dash": "solid"
         },
         "marker": {
          "symbol": "circle"
         },
         "mode": "lines",
         "name": "Weekday_Counts",
         "orientation": "v",
         "showlegend": true,
         "type": "scatter",
         "x": [
          0,
          1,
          2,
          3,
          4,
          5,
          6,
          7,
          8,
          9,
          10,
          11,
          12,
          13,
          14,
          15,
          16,
          17,
          18,
          19,
          20,
          21,
          22,
          23
         ],
         "xaxis": "x",
         "y": [
          75579,
          63862,
          58845,
          55667,
          132423,
          200048,
          371445,
          547547,
          536040,
          313455,
          283073,
          285561,
          280472,
          317634,
          368561,
          450151,
          509307,
          508507,
          367560,
          238512,
          174060,
          142093,
          125139,
          91426
         ],
         "yaxis": "y"
        },
        {
         "hovertemplate": "variable=Weekend_Counts<br>Hour_of_Day=%{x}<br>Accident Count=%{y}<extra></extra>",
         "legendgroup": "Weekend_Counts",
         "line": {
          "color": "#EF553B",
          "dash": "solid"
         },
         "marker": {
          "symbol": "circle"
         },
         "mode": "lines",
         "name": "Weekend_Counts",
         "orientation": "v",
         "showlegend": true,
         "type": "scatter",
         "x": [
          0,
          1,
          2,
          3,
          4,
          5,
          6,
          7,
          8,
          9,
          10,
          11,
          12,
          13,
          14,
          15,
          16,
          17,
          18,
          19,
          20,
          21,
          22,
          23
         ],
         "xaxis": "x",
         "y": [
          36799,
          33209,
          34382,
          28196,
          27429,
          28134,
          34392,
          39925,
          41536,
          49579,
          59633,
          69479,
          74529,
          78811,
          80285,
          75704,
          72662,
          67508,
          64482,
          56609,
          51166,
          49359,
          42506,
          35113
         ],
         "yaxis": "y"
        }
       ],
       "layout": {
        "legend": {
         "title": {
          "text": "variable"
         },
         "tracegroupgap": 0
        },
        "template": {
         "data": {
          "bar": [
           {
            "error_x": {
             "color": "#2a3f5f"
            },
            "error_y": {
             "color": "#2a3f5f"
            },
            "marker": {
             "line": {
              "color": "#E5ECF6",
              "width": 0.5
             },
             "pattern": {
              "fillmode": "overlay",
              "size": 10,
              "solidity": 0.2
             }
            },
            "type": "bar"
           }
          ],
          "barpolar": [
           {
            "marker": {
             "line": {
              "color": "#E5ECF6",
              "width": 0.5
             },
             "pattern": {
              "fillmode": "overlay",
              "size": 10,
              "solidity": 0.2
             }
            },
            "type": "barpolar"
           }
          ],
          "carpet": [
           {
            "aaxis": {
             "endlinecolor": "#2a3f5f",
             "gridcolor": "white",
             "linecolor": "white",
             "minorgridcolor": "white",
             "startlinecolor": "#2a3f5f"
            },
            "baxis": {
             "endlinecolor": "#2a3f5f",
             "gridcolor": "white",
             "linecolor": "white",
             "minorgridcolor": "white",
             "startlinecolor": "#2a3f5f"
            },
            "type": "carpet"
           }
          ],
          "choropleth": [
           {
            "colorbar": {
             "outlinewidth": 0,
             "ticks": ""
            },
            "type": "choropleth"
           }
          ],
          "contour": [
           {
            "colorbar": {
             "outlinewidth": 0,
             "ticks": ""
            },
            "colorscale": [
             [
              0,
              "#0d0887"
             ],
             [
              0.1111111111111111,
              "#46039f"
             ],
             [
              0.2222222222222222,
              "#7201a8"
             ],
             [
              0.3333333333333333,
              "#9c179e"
             ],
             [
              0.4444444444444444,
              "#bd3786"
             ],
             [
              0.5555555555555556,
              "#d8576b"
             ],
             [
              0.6666666666666666,
              "#ed7953"
             ],
             [
              0.7777777777777778,
              "#fb9f3a"
             ],
             [
              0.8888888888888888,
              "#fdca26"
             ],
             [
              1,
              "#f0f921"
             ]
            ],
            "type": "contour"
           }
          ],
          "contourcarpet": [
           {
            "colorbar": {
             "outlinewidth": 0,
             "ticks": ""
            },
            "type": "contourcarpet"
           }
          ],
          "heatmap": [
           {
            "colorbar": {
             "outlinewidth": 0,
             "ticks": ""
            },
            "colorscale": [
             [
              0,
              "#0d0887"
             ],
             [
              0.1111111111111111,
              "#46039f"
             ],
             [
              0.2222222222222222,
              "#7201a8"
             ],
             [
              0.3333333333333333,
              "#9c179e"
             ],
             [
              0.4444444444444444,
              "#bd3786"
             ],
             [
              0.5555555555555556,
              "#d8576b"
             ],
             [
              0.6666666666666666,
              "#ed7953"
             ],
             [
              0.7777777777777778,
              "#fb9f3a"
             ],
             [
              0.8888888888888888,
              "#fdca26"
             ],
             [
              1,
              "#f0f921"
             ]
            ],
            "type": "heatmap"
           }
          ],
          "heatmapgl": [
           {
            "colorbar": {
             "outlinewidth": 0,
             "ticks": ""
            },
            "colorscale": [
             [
              0,
              "#0d0887"
             ],
             [
              0.1111111111111111,
              "#46039f"
             ],
             [
              0.2222222222222222,
              "#7201a8"
             ],
             [
              0.3333333333333333,
              "#9c179e"
             ],
             [
              0.4444444444444444,
              "#bd3786"
             ],
             [
              0.5555555555555556,
              "#d8576b"
             ],
             [
              0.6666666666666666,
              "#ed7953"
             ],
             [
              0.7777777777777778,
              "#fb9f3a"
             ],
             [
              0.8888888888888888,
              "#fdca26"
             ],
             [
              1,
              "#f0f921"
             ]
            ],
            "type": "heatmapgl"
           }
          ],
          "histogram": [
           {
            "marker": {
             "pattern": {
              "fillmode": "overlay",
              "size": 10,
              "solidity": 0.2
             }
            },
            "type": "histogram"
           }
          ],
          "histogram2d": [
           {
            "colorbar": {
             "outlinewidth": 0,
             "ticks": ""
            },
            "colorscale": [
             [
              0,
              "#0d0887"
             ],
             [
              0.1111111111111111,
              "#46039f"
             ],
             [
              0.2222222222222222,
              "#7201a8"
             ],
             [
              0.3333333333333333,
              "#9c179e"
             ],
             [
              0.4444444444444444,
              "#bd3786"
             ],
             [
              0.5555555555555556,
              "#d8576b"
             ],
             [
              0.6666666666666666,
              "#ed7953"
             ],
             [
              0.7777777777777778,
              "#fb9f3a"
             ],
             [
              0.8888888888888888,
              "#fdca26"
             ],
             [
              1,
              "#f0f921"
             ]
            ],
            "type": "histogram2d"
           }
          ],
          "histogram2dcontour": [
           {
            "colorbar": {
             "outlinewidth": 0,
             "ticks": ""
            },
            "colorscale": [
             [
              0,
              "#0d0887"
             ],
             [
              0.1111111111111111,
              "#46039f"
             ],
             [
              0.2222222222222222,
              "#7201a8"
             ],
             [
              0.3333333333333333,
              "#9c179e"
             ],
             [
              0.4444444444444444,
              "#bd3786"
             ],
             [
              0.5555555555555556,
              "#d8576b"
             ],
             [
              0.6666666666666666,
              "#ed7953"
             ],
             [
              0.7777777777777778,
              "#fb9f3a"
             ],
             [
              0.8888888888888888,
              "#fdca26"
             ],
             [
              1,
              "#f0f921"
             ]
            ],
            "type": "histogram2dcontour"
           }
          ],
          "mesh3d": [
           {
            "colorbar": {
             "outlinewidth": 0,
             "ticks": ""
            },
            "type": "mesh3d"
           }
          ],
          "parcoords": [
           {
            "line": {
             "colorbar": {
              "outlinewidth": 0,
              "ticks": ""
             }
            },
            "type": "parcoords"
           }
          ],
          "pie": [
           {
            "automargin": true,
            "type": "pie"
           }
          ],
          "scatter": [
           {
            "fillpattern": {
             "fillmode": "overlay",
             "size": 10,
             "solidity": 0.2
            },
            "type": "scatter"
           }
          ],
          "scatter3d": [
           {
            "line": {
             "colorbar": {
              "outlinewidth": 0,
              "ticks": ""
             }
            },
            "marker": {
             "colorbar": {
              "outlinewidth": 0,
              "ticks": ""
             }
            },
            "type": "scatter3d"
           }
          ],
          "scattercarpet": [
           {
            "marker": {
             "colorbar": {
              "outlinewidth": 0,
              "ticks": ""
             }
            },
            "type": "scattercarpet"
           }
          ],
          "scattergeo": [
           {
            "marker": {
             "colorbar": {
              "outlinewidth": 0,
              "ticks": ""
             }
            },
            "type": "scattergeo"
           }
          ],
          "scattergl": [
           {
            "marker": {
             "colorbar": {
              "outlinewidth": 0,
              "ticks": ""
             }
            },
            "type": "scattergl"
           }
          ],
          "scattermapbox": [
           {
            "marker": {
             "colorbar": {
              "outlinewidth": 0,
              "ticks": ""
             }
            },
            "type": "scattermapbox"
           }
          ],
          "scatterpolar": [
           {
            "marker": {
             "colorbar": {
              "outlinewidth": 0,
              "ticks": ""
             }
            },
            "type": "scatterpolar"
           }
          ],
          "scatterpolargl": [
           {
            "marker": {
             "colorbar": {
              "outlinewidth": 0,
              "ticks": ""
             }
            },
            "type": "scatterpolargl"
           }
          ],
          "scatterternary": [
           {
            "marker": {
             "colorbar": {
              "outlinewidth": 0,
              "ticks": ""
             }
            },
            "type": "scatterternary"
           }
          ],
          "surface": [
           {
            "colorbar": {
             "outlinewidth": 0,
             "ticks": ""
            },
            "colorscale": [
             [
              0,
              "#0d0887"
             ],
             [
              0.1111111111111111,
              "#46039f"
             ],
             [
              0.2222222222222222,
              "#7201a8"
             ],
             [
              0.3333333333333333,
              "#9c179e"
             ],
             [
              0.4444444444444444,
              "#bd3786"
             ],
             [
              0.5555555555555556,
              "#d8576b"
             ],
             [
              0.6666666666666666,
              "#ed7953"
             ],
             [
              0.7777777777777778,
              "#fb9f3a"
             ],
             [
              0.8888888888888888,
              "#fdca26"
             ],
             [
              1,
              "#f0f921"
             ]
            ],
            "type": "surface"
           }
          ],
          "table": [
           {
            "cells": {
             "fill": {
              "color": "#EBF0F8"
             },
             "line": {
              "color": "white"
             }
            },
            "header": {
             "fill": {
              "color": "#C8D4E3"
             },
             "line": {
              "color": "white"
             }
            },
            "type": "table"
           }
          ]
         },
         "layout": {
          "annotationdefaults": {
           "arrowcolor": "#2a3f5f",
           "arrowhead": 0,
           "arrowwidth": 1
          },
          "autotypenumbers": "strict",
          "coloraxis": {
           "colorbar": {
            "outlinewidth": 0,
            "ticks": ""
           }
          },
          "colorscale": {
           "diverging": [
            [
             0,
             "#8e0152"
            ],
            [
             0.1,
             "#c51b7d"
            ],
            [
             0.2,
             "#de77ae"
            ],
            [
             0.3,
             "#f1b6da"
            ],
            [
             0.4,
             "#fde0ef"
            ],
            [
             0.5,
             "#f7f7f7"
            ],
            [
             0.6,
             "#e6f5d0"
            ],
            [
             0.7,
             "#b8e186"
            ],
            [
             0.8,
             "#7fbc41"
            ],
            [
             0.9,
             "#4d9221"
            ],
            [
             1,
             "#276419"
            ]
           ],
           "sequential": [
            [
             0,
             "#0d0887"
            ],
            [
             0.1111111111111111,
             "#46039f"
            ],
            [
             0.2222222222222222,
             "#7201a8"
            ],
            [
             0.3333333333333333,
             "#9c179e"
            ],
            [
             0.4444444444444444,
             "#bd3786"
            ],
            [
             0.5555555555555556,
             "#d8576b"
            ],
            [
             0.6666666666666666,
             "#ed7953"
            ],
            [
             0.7777777777777778,
             "#fb9f3a"
            ],
            [
             0.8888888888888888,
             "#fdca26"
            ],
            [
             1,
             "#f0f921"
            ]
           ],
           "sequentialminus": [
            [
             0,
             "#0d0887"
            ],
            [
             0.1111111111111111,
             "#46039f"
            ],
            [
             0.2222222222222222,
             "#7201a8"
            ],
            [
             0.3333333333333333,
             "#9c179e"
            ],
            [
             0.4444444444444444,
             "#bd3786"
            ],
            [
             0.5555555555555556,
             "#d8576b"
            ],
            [
             0.6666666666666666,
             "#ed7953"
            ],
            [
             0.7777777777777778,
             "#fb9f3a"
            ],
            [
             0.8888888888888888,
             "#fdca26"
            ],
            [
             1,
             "#f0f921"
            ]
           ]
          },
          "colorway": [
           "#636efa",
           "#EF553B",
           "#00cc96",
           "#ab63fa",
           "#FFA15A",
           "#19d3f3",
           "#FF6692",
           "#B6E880",
           "#FF97FF",
           "#FECB52"
          ],
          "font": {
           "color": "#2a3f5f"
          },
          "geo": {
           "bgcolor": "white",
           "lakecolor": "white",
           "landcolor": "#E5ECF6",
           "showlakes": true,
           "showland": true,
           "subunitcolor": "white"
          },
          "hoverlabel": {
           "align": "left"
          },
          "hovermode": "closest",
          "mapbox": {
           "style": "light"
          },
          "paper_bgcolor": "white",
          "plot_bgcolor": "#E5ECF6",
          "polar": {
           "angularaxis": {
            "gridcolor": "white",
            "linecolor": "white",
            "ticks": ""
           },
           "bgcolor": "#E5ECF6",
           "radialaxis": {
            "gridcolor": "white",
            "linecolor": "white",
            "ticks": ""
           }
          },
          "scene": {
           "xaxis": {
            "backgroundcolor": "#E5ECF6",
            "gridcolor": "white",
            "gridwidth": 2,
            "linecolor": "white",
            "showbackground": true,
            "ticks": "",
            "zerolinecolor": "white"
           },
           "yaxis": {
            "backgroundcolor": "#E5ECF6",
            "gridcolor": "white",
            "gridwidth": 2,
            "linecolor": "white",
            "showbackground": true,
            "ticks": "",
            "zerolinecolor": "white"
           },
           "zaxis": {
            "backgroundcolor": "#E5ECF6",
            "gridcolor": "white",
            "gridwidth": 2,
            "linecolor": "white",
            "showbackground": true,
            "ticks": "",
            "zerolinecolor": "white"
           }
          },
          "shapedefaults": {
           "line": {
            "color": "#2a3f5f"
           }
          },
          "ternary": {
           "aaxis": {
            "gridcolor": "white",
            "linecolor": "white",
            "ticks": ""
           },
           "baxis": {
            "gridcolor": "white",
            "linecolor": "white",
            "ticks": ""
           },
           "bgcolor": "#E5ECF6",
           "caxis": {
            "gridcolor": "white",
            "linecolor": "white",
            "ticks": ""
           }
          },
          "title": {
           "x": 0.05
          },
          "xaxis": {
           "automargin": true,
           "gridcolor": "white",
           "linecolor": "white",
           "ticks": "",
           "title": {
            "standoff": 15
           },
           "zerolinecolor": "white",
           "zerolinewidth": 2
          },
          "yaxis": {
           "automargin": true,
           "gridcolor": "white",
           "linecolor": "white",
           "ticks": "",
           "title": {
            "standoff": 15
           },
           "zerolinecolor": "white",
           "zerolinewidth": 2
          }
         }
        },
        "title": {
         "text": "Distribution of Accidents by Hour (Weekdays vs Weekends)"
        },
        "xaxis": {
         "anchor": "y",
         "domain": [
          0,
          1
         ],
         "title": {
          "text": "Hour_of_Day"
         }
        },
        "yaxis": {
         "anchor": "x",
         "domain": [
          0,
          1
         ],
         "title": {
          "text": "Accident Count"
         }
        }
       }
      }
     },
     "metadata": {},
     "output_type": "display_data"
    }
   ],
   "source": [
    "# Is the distribution of accidents by hour the same on weekends as on weekdays?\n",
    "# make a new column for days of the week\n",
    "df1[\"Day_of_Week\"] = df1[\"Start_Time\"].dt.weekday #.day_name()\n",
    "df1[\"Hour_of_Day\"] = df1[\"Start_Time\"].dt.hour\n",
    "\n",
    "weekday_data = df1[df1[\"Day_of_Week\"] < 5]\n",
    "weekend_data = df1[df1[\"Day_of_Week\"] >= 5] \n",
    "\n",
    "weekday_counts = weekday_data[\"Hour_of_Day\"].value_counts().sort_index()\n",
    "weekend_counts = weekend_data[\"Hour_of_Day\"].value_counts().sort_index()\n",
    "# day_of_week_count = df1[\"Day_of_Week\"].value_counts(sort=True)\n",
    "plot_data = pl.DataFrame({\n",
    "    \"Hour_of_Day\": weekday_counts.index.tolist(),\n",
    "    \"Weekday_Counts\": weekday_counts.values.tolist(),\n",
    "    \"Weekend_Counts\": weekend_counts.values.tolist()\n",
    "})\n",
    "\n",
    "fig4 = px.line(plot_data.to_pandas(), x=\"Hour_of_Day\", y=['Weekday_Counts', 'Weekend_Counts'],\n",
    "               title=\"Distribution of Accidents by Hour (Weekdays vs Weekends)\",\n",
    "               labels={\"value\":\"Accident Count\"})\n",
    "fig4.show()\n"
   ]
  },
  {
   "attachments": {},
   "cell_type": "markdown",
   "metadata": {},
   "source": [
    "The distribution of accidents by hours is not the same on weekends as on weekdays. The distribution of accidents on weekends is lower than the distribution of accidents on weekdays."
   ]
  },
  {
   "cell_type": "code",
   "execution_count": 16,
   "metadata": {},
   "outputs": [
    {
     "data": {
      "application/vnd.plotly.v1+json": {
       "config": {
        "plotlyServerURL": "https://plot.ly"
       },
       "data": [
        {
         "alignmentgroup": "True",
         "hovertemplate": "x=%{x}<br>y=%{y}<extra></extra>",
         "legendgroup": "",
         "marker": {
          "color": "#636efa",
          "pattern": {
           "shape": ""
          }
         },
         "name": "",
         "offsetgroup": "",
         "orientation": "v",
         "showlegend": false,
         "textposition": "auto",
         "type": "bar",
         "x": [
          0,
          1,
          2,
          3,
          4,
          5,
          6,
          7,
          8,
          9,
          10,
          11,
          12,
          13,
          14,
          15,
          16,
          17,
          18,
          19,
          20,
          21,
          22,
          23
         ],
         "xaxis": "x",
         "y": [
          18356,
          16628,
          16862,
          14463,
          13690,
          13616,
          16167,
          18238,
          18069,
          20866,
          25804,
          30287,
          32637,
          34910,
          35873,
          34017,
          32947,
          31238,
          29751,
          26534,
          23975,
          22922,
          19137,
          15757
         ],
         "yaxis": "y"
        }
       ],
       "layout": {
        "barmode": "relative",
        "legend": {
         "tracegroupgap": 0
        },
        "template": {
         "data": {
          "bar": [
           {
            "error_x": {
             "color": "#2a3f5f"
            },
            "error_y": {
             "color": "#2a3f5f"
            },
            "marker": {
             "line": {
              "color": "#E5ECF6",
              "width": 0.5
             },
             "pattern": {
              "fillmode": "overlay",
              "size": 10,
              "solidity": 0.2
             }
            },
            "type": "bar"
           }
          ],
          "barpolar": [
           {
            "marker": {
             "line": {
              "color": "#E5ECF6",
              "width": 0.5
             },
             "pattern": {
              "fillmode": "overlay",
              "size": 10,
              "solidity": 0.2
             }
            },
            "type": "barpolar"
           }
          ],
          "carpet": [
           {
            "aaxis": {
             "endlinecolor": "#2a3f5f",
             "gridcolor": "white",
             "linecolor": "white",
             "minorgridcolor": "white",
             "startlinecolor": "#2a3f5f"
            },
            "baxis": {
             "endlinecolor": "#2a3f5f",
             "gridcolor": "white",
             "linecolor": "white",
             "minorgridcolor": "white",
             "startlinecolor": "#2a3f5f"
            },
            "type": "carpet"
           }
          ],
          "choropleth": [
           {
            "colorbar": {
             "outlinewidth": 0,
             "ticks": ""
            },
            "type": "choropleth"
           }
          ],
          "contour": [
           {
            "colorbar": {
             "outlinewidth": 0,
             "ticks": ""
            },
            "colorscale": [
             [
              0,
              "#0d0887"
             ],
             [
              0.1111111111111111,
              "#46039f"
             ],
             [
              0.2222222222222222,
              "#7201a8"
             ],
             [
              0.3333333333333333,
              "#9c179e"
             ],
             [
              0.4444444444444444,
              "#bd3786"
             ],
             [
              0.5555555555555556,
              "#d8576b"
             ],
             [
              0.6666666666666666,
              "#ed7953"
             ],
             [
              0.7777777777777778,
              "#fb9f3a"
             ],
             [
              0.8888888888888888,
              "#fdca26"
             ],
             [
              1,
              "#f0f921"
             ]
            ],
            "type": "contour"
           }
          ],
          "contourcarpet": [
           {
            "colorbar": {
             "outlinewidth": 0,
             "ticks": ""
            },
            "type": "contourcarpet"
           }
          ],
          "heatmap": [
           {
            "colorbar": {
             "outlinewidth": 0,
             "ticks": ""
            },
            "colorscale": [
             [
              0,
              "#0d0887"
             ],
             [
              0.1111111111111111,
              "#46039f"
             ],
             [
              0.2222222222222222,
              "#7201a8"
             ],
             [
              0.3333333333333333,
              "#9c179e"
             ],
             [
              0.4444444444444444,
              "#bd3786"
             ],
             [
              0.5555555555555556,
              "#d8576b"
             ],
             [
              0.6666666666666666,
              "#ed7953"
             ],
             [
              0.7777777777777778,
              "#fb9f3a"
             ],
             [
              0.8888888888888888,
              "#fdca26"
             ],
             [
              1,
              "#f0f921"
             ]
            ],
            "type": "heatmap"
           }
          ],
          "heatmapgl": [
           {
            "colorbar": {
             "outlinewidth": 0,
             "ticks": ""
            },
            "colorscale": [
             [
              0,
              "#0d0887"
             ],
             [
              0.1111111111111111,
              "#46039f"
             ],
             [
              0.2222222222222222,
              "#7201a8"
             ],
             [
              0.3333333333333333,
              "#9c179e"
             ],
             [
              0.4444444444444444,
              "#bd3786"
             ],
             [
              0.5555555555555556,
              "#d8576b"
             ],
             [
              0.6666666666666666,
              "#ed7953"
             ],
             [
              0.7777777777777778,
              "#fb9f3a"
             ],
             [
              0.8888888888888888,
              "#fdca26"
             ],
             [
              1,
              "#f0f921"
             ]
            ],
            "type": "heatmapgl"
           }
          ],
          "histogram": [
           {
            "marker": {
             "pattern": {
              "fillmode": "overlay",
              "size": 10,
              "solidity": 0.2
             }
            },
            "type": "histogram"
           }
          ],
          "histogram2d": [
           {
            "colorbar": {
             "outlinewidth": 0,
             "ticks": ""
            },
            "colorscale": [
             [
              0,
              "#0d0887"
             ],
             [
              0.1111111111111111,
              "#46039f"
             ],
             [
              0.2222222222222222,
              "#7201a8"
             ],
             [
              0.3333333333333333,
              "#9c179e"
             ],
             [
              0.4444444444444444,
              "#bd3786"
             ],
             [
              0.5555555555555556,
              "#d8576b"
             ],
             [
              0.6666666666666666,
              "#ed7953"
             ],
             [
              0.7777777777777778,
              "#fb9f3a"
             ],
             [
              0.8888888888888888,
              "#fdca26"
             ],
             [
              1,
              "#f0f921"
             ]
            ],
            "type": "histogram2d"
           }
          ],
          "histogram2dcontour": [
           {
            "colorbar": {
             "outlinewidth": 0,
             "ticks": ""
            },
            "colorscale": [
             [
              0,
              "#0d0887"
             ],
             [
              0.1111111111111111,
              "#46039f"
             ],
             [
              0.2222222222222222,
              "#7201a8"
             ],
             [
              0.3333333333333333,
              "#9c179e"
             ],
             [
              0.4444444444444444,
              "#bd3786"
             ],
             [
              0.5555555555555556,
              "#d8576b"
             ],
             [
              0.6666666666666666,
              "#ed7953"
             ],
             [
              0.7777777777777778,
              "#fb9f3a"
             ],
             [
              0.8888888888888888,
              "#fdca26"
             ],
             [
              1,
              "#f0f921"
             ]
            ],
            "type": "histogram2dcontour"
           }
          ],
          "mesh3d": [
           {
            "colorbar": {
             "outlinewidth": 0,
             "ticks": ""
            },
            "type": "mesh3d"
           }
          ],
          "parcoords": [
           {
            "line": {
             "colorbar": {
              "outlinewidth": 0,
              "ticks": ""
             }
            },
            "type": "parcoords"
           }
          ],
          "pie": [
           {
            "automargin": true,
            "type": "pie"
           }
          ],
          "scatter": [
           {
            "fillpattern": {
             "fillmode": "overlay",
             "size": 10,
             "solidity": 0.2
            },
            "type": "scatter"
           }
          ],
          "scatter3d": [
           {
            "line": {
             "colorbar": {
              "outlinewidth": 0,
              "ticks": ""
             }
            },
            "marker": {
             "colorbar": {
              "outlinewidth": 0,
              "ticks": ""
             }
            },
            "type": "scatter3d"
           }
          ],
          "scattercarpet": [
           {
            "marker": {
             "colorbar": {
              "outlinewidth": 0,
              "ticks": ""
             }
            },
            "type": "scattercarpet"
           }
          ],
          "scattergeo": [
           {
            "marker": {
             "colorbar": {
              "outlinewidth": 0,
              "ticks": ""
             }
            },
            "type": "scattergeo"
           }
          ],
          "scattergl": [
           {
            "marker": {
             "colorbar": {
              "outlinewidth": 0,
              "ticks": ""
             }
            },
            "type": "scattergl"
           }
          ],
          "scattermapbox": [
           {
            "marker": {
             "colorbar": {
              "outlinewidth": 0,
              "ticks": ""
             }
            },
            "type": "scattermapbox"
           }
          ],
          "scatterpolar": [
           {
            "marker": {
             "colorbar": {
              "outlinewidth": 0,
              "ticks": ""
             }
            },
            "type": "scatterpolar"
           }
          ],
          "scatterpolargl": [
           {
            "marker": {
             "colorbar": {
              "outlinewidth": 0,
              "ticks": ""
             }
            },
            "type": "scatterpolargl"
           }
          ],
          "scatterternary": [
           {
            "marker": {
             "colorbar": {
              "outlinewidth": 0,
              "ticks": ""
             }
            },
            "type": "scatterternary"
           }
          ],
          "surface": [
           {
            "colorbar": {
             "outlinewidth": 0,
             "ticks": ""
            },
            "colorscale": [
             [
              0,
              "#0d0887"
             ],
             [
              0.1111111111111111,
              "#46039f"
             ],
             [
              0.2222222222222222,
              "#7201a8"
             ],
             [
              0.3333333333333333,
              "#9c179e"
             ],
             [
              0.4444444444444444,
              "#bd3786"
             ],
             [
              0.5555555555555556,
              "#d8576b"
             ],
             [
              0.6666666666666666,
              "#ed7953"
             ],
             [
              0.7777777777777778,
              "#fb9f3a"
             ],
             [
              0.8888888888888888,
              "#fdca26"
             ],
             [
              1,
              "#f0f921"
             ]
            ],
            "type": "surface"
           }
          ],
          "table": [
           {
            "cells": {
             "fill": {
              "color": "#EBF0F8"
             },
             "line": {
              "color": "white"
             }
            },
            "header": {
             "fill": {
              "color": "#C8D4E3"
             },
             "line": {
              "color": "white"
             }
            },
            "type": "table"
           }
          ]
         },
         "layout": {
          "annotationdefaults": {
           "arrowcolor": "#2a3f5f",
           "arrowhead": 0,
           "arrowwidth": 1
          },
          "autotypenumbers": "strict",
          "coloraxis": {
           "colorbar": {
            "outlinewidth": 0,
            "ticks": ""
           }
          },
          "colorscale": {
           "diverging": [
            [
             0,
             "#8e0152"
            ],
            [
             0.1,
             "#c51b7d"
            ],
            [
             0.2,
             "#de77ae"
            ],
            [
             0.3,
             "#f1b6da"
            ],
            [
             0.4,
             "#fde0ef"
            ],
            [
             0.5,
             "#f7f7f7"
            ],
            [
             0.6,
             "#e6f5d0"
            ],
            [
             0.7,
             "#b8e186"
            ],
            [
             0.8,
             "#7fbc41"
            ],
            [
             0.9,
             "#4d9221"
            ],
            [
             1,
             "#276419"
            ]
           ],
           "sequential": [
            [
             0,
             "#0d0887"
            ],
            [
             0.1111111111111111,
             "#46039f"
            ],
            [
             0.2222222222222222,
             "#7201a8"
            ],
            [
             0.3333333333333333,
             "#9c179e"
            ],
            [
             0.4444444444444444,
             "#bd3786"
            ],
            [
             0.5555555555555556,
             "#d8576b"
            ],
            [
             0.6666666666666666,
             "#ed7953"
            ],
            [
             0.7777777777777778,
             "#fb9f3a"
            ],
            [
             0.8888888888888888,
             "#fdca26"
            ],
            [
             1,
             "#f0f921"
            ]
           ],
           "sequentialminus": [
            [
             0,
             "#0d0887"
            ],
            [
             0.1111111111111111,
             "#46039f"
            ],
            [
             0.2222222222222222,
             "#7201a8"
            ],
            [
             0.3333333333333333,
             "#9c179e"
            ],
            [
             0.4444444444444444,
             "#bd3786"
            ],
            [
             0.5555555555555556,
             "#d8576b"
            ],
            [
             0.6666666666666666,
             "#ed7953"
            ],
            [
             0.7777777777777778,
             "#fb9f3a"
            ],
            [
             0.8888888888888888,
             "#fdca26"
            ],
            [
             1,
             "#f0f921"
            ]
           ]
          },
          "colorway": [
           "#636efa",
           "#EF553B",
           "#00cc96",
           "#ab63fa",
           "#FFA15A",
           "#19d3f3",
           "#FF6692",
           "#B6E880",
           "#FF97FF",
           "#FECB52"
          ],
          "font": {
           "color": "#2a3f5f"
          },
          "geo": {
           "bgcolor": "white",
           "lakecolor": "white",
           "landcolor": "#E5ECF6",
           "showlakes": true,
           "showland": true,
           "subunitcolor": "white"
          },
          "hoverlabel": {
           "align": "left"
          },
          "hovermode": "closest",
          "mapbox": {
           "style": "light"
          },
          "paper_bgcolor": "white",
          "plot_bgcolor": "#E5ECF6",
          "polar": {
           "angularaxis": {
            "gridcolor": "white",
            "linecolor": "white",
            "ticks": ""
           },
           "bgcolor": "#E5ECF6",
           "radialaxis": {
            "gridcolor": "white",
            "linecolor": "white",
            "ticks": ""
           }
          },
          "scene": {
           "xaxis": {
            "backgroundcolor": "#E5ECF6",
            "gridcolor": "white",
            "gridwidth": 2,
            "linecolor": "white",
            "showbackground": true,
            "ticks": "",
            "zerolinecolor": "white"
           },
           "yaxis": {
            "backgroundcolor": "#E5ECF6",
            "gridcolor": "white",
            "gridwidth": 2,
            "linecolor": "white",
            "showbackground": true,
            "ticks": "",
            "zerolinecolor": "white"
           },
           "zaxis": {
            "backgroundcolor": "#E5ECF6",
            "gridcolor": "white",
            "gridwidth": 2,
            "linecolor": "white",
            "showbackground": true,
            "ticks": "",
            "zerolinecolor": "white"
           }
          },
          "shapedefaults": {
           "line": {
            "color": "#2a3f5f"
           }
          },
          "ternary": {
           "aaxis": {
            "gridcolor": "white",
            "linecolor": "white",
            "ticks": ""
           },
           "baxis": {
            "gridcolor": "white",
            "linecolor": "white",
            "ticks": ""
           },
           "bgcolor": "#E5ECF6",
           "caxis": {
            "gridcolor": "white",
            "linecolor": "white",
            "ticks": ""
           }
          },
          "title": {
           "x": 0.05
          },
          "xaxis": {
           "automargin": true,
           "gridcolor": "white",
           "linecolor": "white",
           "ticks": "",
           "title": {
            "standoff": 15
           },
           "zerolinecolor": "white",
           "zerolinewidth": 2
          },
          "yaxis": {
           "automargin": true,
           "gridcolor": "white",
           "linecolor": "white",
           "ticks": "",
           "title": {
            "standoff": 15
           },
           "zerolinecolor": "white",
           "zerolinewidth": 2
          }
         }
        },
        "title": {
         "text": "Distribution of Start Time on Sundays"
        },
        "xaxis": {
         "anchor": "y",
         "domain": [
          0,
          1
         ],
         "title": {
          "text": "x"
         }
        },
        "yaxis": {
         "anchor": "x",
         "domain": [
          0,
          1
         ],
         "title": {
          "text": "y"
         }
        }
       }
      }
     },
     "metadata": {},
     "output_type": "display_data"
    }
   ],
   "source": [
    "# What is the distribution of start time on Sundays?\n",
    "sunday_data = df1[df1[\"Day_of_Week\"] == 6] # 6 = Sunday\n",
    "sunday_counts = sunday_data[\"Hour_of_Day\"].value_counts().sort_index()\n",
    "fig5 = px.bar(sunday_counts, x=sunday_counts.index.tolist(), y=sunday_counts.values.tolist(), title=\"Distribution of Start Time on Sundays\")\n",
    "fig5.show()"
   ]
  },
  {
   "cell_type": "code",
   "execution_count": 17,
   "metadata": {},
   "outputs": [],
   "source": [
    "# # Create a geographical plot to show accidents across a map of the United States.\n",
    "# df78 = df1[['Start_Lng', 'Start_Lat']]\n",
    "\n",
    "# # Create a scatter map plot\n",
    "# fig = px.scatter_mapbox(df78,\n",
    "#                         lat=\"Start_Lat\",\n",
    "#                         lon=\"Start_Lng\",\n",
    "#                         mapbox_style=\"carto-positron\",\n",
    "#                         zoom=3)\n",
    "\n",
    "# # Set the map center\n",
    "# fig.update_layout(mapbox_center={\"lat\": 37.0902, \"lon\": -95.7129})\n",
    "\n",
    "# # Show the plot\n",
    "# fig.show()"
   ]
  },
  {
   "cell_type": "code",
   "execution_count": 18,
   "metadata": {},
   "outputs": [
    {
     "data": {
      "image/png": "[encoded data removed]",
      "text/plain": [
       "<Figure size 640x480 with 1 Axes>"
      ]
     },
     "metadata": {},
     "output_type": "display_data"
    }
   ],
   "source": [
    "# Among the top 100 cities in number of accidents, which states do they belong to most frequently?\\\n",
    "df1[\"Year\"] = df1[\"Start_Time\"].dt.year\n",
    "df2 = df1[[\"City\", \"Year\"]]\n",
    "city_year_counts = df2.groupby([\"City\", \"Year\"]).size().reset_index(name=\"AccidentCount\")\n",
    "\n",
    "# Get the top 100 cities based on the total number of accidents\n",
    "top_cities = city_year_counts.groupby('City')['AccidentCount'].sum().nlargest(100).index\n",
    "\n",
    "# Filter data for the top 100 cities\n",
    "top_city_year_counts = city_year_counts[city_year_counts['City'].isin(top_cities)]\n",
    "\n",
    "# Create an empty figure\n",
    "fig = plt.figure()\n",
    "\n",
    "# Get the unique years in the data\n",
    "years = top_city_year_counts['Year'].unique()\n",
    "\n",
    "# Define the update function\n",
    "def update(frame):\n",
    "    # Filter data for the current year\n",
    "    current_data = top_city_year_counts[top_city_year_counts['Year'] == years[frame]]\n",
    "    \n",
    "    # Sort the data by the number of accidents\n",
    "    current_data = current_data.sort_values('AccidentCount', ascending=False)\n",
    "    \n",
    "    # Get the top 10 cities for the current year\n",
    "    top_10_cities = current_data.head(10)\n",
    "    \n",
    "    # Clear the current plot\n",
    "    plt.cla()\n",
    "    \n",
    "    # Plot the updated data\n",
    "    plt.bar(top_10_cities['City'], top_10_cities['AccidentCount'])\n",
    "    \n",
    "    # Set plot title and labels\n",
    "    plt.title(f'Top 10 Cities by Accidents - Year {years[frame]}')\n",
    "    plt.xlabel('City')\n",
    "    plt.ylabel('Number of Accidents')\n",
    "    plt.xticks(rotation=45, ha='right')\n",
    "    \n",
    "\n",
    "# Create the initial plot\n",
    "initial_data = top_city_year_counts[top_city_year_counts['Year'] == years[0]]\n",
    "initial_data = initial_data.sort_values('AccidentCount', ascending=False)\n",
    "initial_data = initial_data.head(10)\n",
    "plt.bar(initial_data['City'], initial_data['AccidentCount'])\n",
    "plt.title(f'Top 10 Cities by Accidents - Year {years[0]}')\n",
    "plt.xlabel('City')\n",
    "plt.ylabel('Number of Accidents')\n",
    "# Rotate x-axis ticks\n",
    "plt.xticks(rotation=90, ha='right')\n",
    "\n",
    "# Create the animation\n",
    "ani = FuncAnimation(fig, update, frames=len(years), interval=500, repeat=True)\n",
    "\n",
    "# Show the animation\n",
    "ani.save(\"animation.mp4\")\n",
    "plt.show()"
   ]
  },
  {
   "cell_type": "code",
   "execution_count": 19,
   "metadata": {},
   "outputs": [
    {
     "data": {
      "application/vnd.plotly.v1+json": {
       "config": {
        "plotlyServerURL": "https://plot.ly"
       },
       "data": [
        {
         "alignmentgroup": "True",
         "hovertemplate": "Year=2016<br>City=%{x}<br>Number of Accidents=%{y}<extra></extra>",
         "legendgroup": "",
         "marker": {
          "color": "#636efa",
          "pattern": {
           "shape": ""
          }
         },
         "name": "",
         "offsetgroup": "",
         "orientation": "v",
         "showlegend": false,
         "textposition": "auto",
         "type": "bar",
         "x": [
          "Albany",
          "Anaheim",
          "Anderson",
          "Antioch",
          "Arlington",
          "Atlanta",
          "Augusta",
          "Austin",
          "Bakersfield",
          "Baldwin Park",
          "Baton Rouge",
          "Birmingham",
          "Bradenton",
          "Bronx",
          "Brooklyn",
          "Charlotte",
          "Chattanooga",
          "Chicago",
          "Cincinnati",
          "Cleveland",
          "Columbia",
          "Columbus",
          "Corona",
          "Dallas",
          "Dayton",
          "Denver",
          "Detroit",
          "El Paso",
          "Flint",
          "Fort Lauderdale",
          "Fort Myers",
          "Fort Worth",
          "Fresno",
          "Glendale",
          "Grand Rapids",
          "Greenville",
          "Hayward",
          "Hialeah",
          "Hollywood",
          "Houston",
          "Indianapolis",
          "Irvine",
          "Jacksonville",
          "Kansas City",
          "Kissimmee",
          "Lafayette",
          "Lancaster",
          "Lexington",
          "Long Beach",
          "Los Angeles",
          "Louisville",
          "Madison",
          "Memphis",
          "Miami",
          "Milwaukee",
          "Minneapolis",
          "Montgomery",
          "Nashville",
          "New Orleans",
          "New York",
          "Newark",
          "Norfolk",
          "Oakland",
          "Oklahoma City",
          "Omaha",
          "Ontario",
          "Orlando",
          "Pasadena",
          "Pensacola",
          "Philadelphia",
          "Phoenix",
          "Pittsburgh",
          "Portland",
          "Raleigh",
          "Richmond",
          "Riverside",
          "Rochester",
          "Sacramento",
          "Saint Louis",
          "Saint Paul",
          "Saint Petersburg",
          "Salt Lake City",
          "San Antonio",
          "San Bernardino",
          "San Diego",
          "San Francisco",
          "San Jose",
          "Sarasota",
          "Seattle",
          "Shreveport",
          "Spartanburg",
          "Springfield",
          "Stockton",
          "Tampa",
          "Tracy",
          "Tucson",
          "Tulsa",
          "Washington",
          "Whittier",
          "York"
         ],
         "xaxis": "x",
         "y": [
          779,
          1517,
          222,
          387,
          887,
          6312,
          875,
          10739,
          154,
          1104,
          281,
          29,
          987,
          1670,
          1438,
          4236,
          119,
          2619,
          559,
          516,
          380,
          2409,
          1882,
          11881,
          3902,
          466,
          2287,
          66,
          2488,
          1486,
          631,
          1603,
          112,
          637,
          3020,
          134,
          1217,
          758,
          617,
          15567,
          524,
          973,
          518,
          994,
          722,
          211,
          1869,
          273,
          2175,
          15064,
          402,
          233,
          275,
          5147,
          643,
          992,
          51,
          618,
          167,
          1272,
          899,
          144,
          2266,
          364,
          4821,
          1212,
          5913,
          997,
          32,
          1380,
          915,
          984,
          335,
          593,
          748,
          2077,
          138,
          5985,
          1559,
          748,
          1030,
          307,
          2864,
          1462,
          5057,
          1655,
          3853,
          1021,
          3986,
          32,
          42,
          553,
          978,
          2468,
          856,
          177,
          43,
          558,
          1569,
          1270
         ],
         "yaxis": "y"
        }
       ],
       "frames": [
        {
         "data": [
          {
           "alignmentgroup": "True",
           "hovertemplate": "Year=2016<br>City=%{x}<br>Number of Accidents=%{y}<extra></extra>",
           "legendgroup": "",
           "marker": {
            "color": "#636efa",
            "pattern": {
             "shape": ""
            }
           },
           "name": "",
           "offsetgroup": "",
           "orientation": "v",
           "showlegend": false,
           "textposition": "auto",
           "type": "bar",
           "x": [
            "Albany",
            "Anaheim",
            "Anderson",
            "Antioch",
            "Arlington",
            "Atlanta",
            "Augusta",
            "Austin",
            "Bakersfield",
            "Baldwin Park",
            "Baton Rouge",
            "Birmingham",
            "Bradenton",
            "Bronx",
            "Brooklyn",
            "Charlotte",
            "Chattanooga",
            "Chicago",
            "Cincinnati",
            "Cleveland",
            "Columbia",
            "Columbus",
            "Corona",
            "Dallas",
            "Dayton",
            "Denver",
            "Detroit",
            "El Paso",
            "Flint",
            "Fort Lauderdale",
            "Fort Myers",
            "Fort Worth",
            "Fresno",
            "Glendale",
            "Grand Rapids",
            "Greenville",
            "Hayward",
            "Hialeah",
            "Hollywood",
            "Houston",
            "Indianapolis",
            "Irvine",
            "Jacksonville",
            "Kansas City",
            "Kissimmee",
            "Lafayette",
            "Lancaster",
            "Lexington",
            "Long Beach",
            "Los Angeles",
            "Louisville",
            "Madison",
            "Memphis",
            "Miami",
            "Milwaukee",
            "Minneapolis",
            "Montgomery",
            "Nashville",
            "New Orleans",
            "New York",
            "Newark",
            "Norfolk",
            "Oakland",
            "Oklahoma City",
            "Omaha",
            "Ontario",
            "Orlando",
            "Pasadena",
            "Pensacola",
            "Philadelphia",
            "Phoenix",
            "Pittsburgh",
            "Portland",
            "Raleigh",
            "Richmond",
            "Riverside",
            "Rochester",
            "Sacramento",
            "Saint Louis",
            "Saint Paul",
            "Saint Petersburg",
            "Salt Lake City",
            "San Antonio",
            "San Bernardino",
            "San Diego",
            "San Francisco",
            "San Jose",
            "Sarasota",
            "Seattle",
            "Shreveport",
            "Spartanburg",
            "Springfield",
            "Stockton",
            "Tampa",
            "Tracy",
            "Tucson",
            "Tulsa",
            "Washington",
            "Whittier",
            "York"
           ],
           "xaxis": "x",
           "y": [
            779,
            1517,
            222,
            387,
            887,
            6312,
            875,
            10739,
            154,
            1104,
            281,
            29,
            987,
            1670,
            1438,
            4236,
            119,
            2619,
            559,
            516,
            380,
            2409,
            1882,
            11881,
            3902,
            466,
            2287,
            66,
            2488,
            1486,
            631,
            1603,
            112,
            637,
            3020,
            134,
            1217,
            758,
            617,
            15567,
            524,
            973,
            518,
            994,
            722,
            211,
            1869,
            273,
            2175,
            15064,
            402,
            233,
            275,
            5147,
            643,
            992,
            51,
            618,
            167,
            1272,
            899,
            144,
            2266,
            364,
            4821,
            1212,
            5913,
            997,
            32,
            1380,
            915,
            984,
            335,
            593,
            748,
            2077,
            138,
            5985,
            1559,
            748,
            1030,
            307,
            2864,
            1462,
            5057,
            1655,
            3853,
            1021,
            3986,
            32,
            42,
            553,
            978,
            2468,
            856,
            177,
            43,
            558,
            1569,
            1270
           ],
           "yaxis": "y"
          }
         ],
         "name": "2016"
        },
        {
         "data": [
          {
           "alignmentgroup": "True",
           "hovertemplate": "Year=2017<br>City=%{x}<br>Number of Accidents=%{y}<extra></extra>",
           "legendgroup": "",
           "marker": {
            "color": "#636efa",
            "pattern": {
             "shape": ""
            }
           },
           "name": "",
           "offsetgroup": "",
           "orientation": "v",
           "showlegend": false,
           "textposition": "auto",
           "type": "bar",
           "x": [
            "Albany",
            "Anaheim",
            "Anderson",
            "Antioch",
            "Arlington",
            "Atlanta",
            "Augusta",
            "Austin",
            "Bakersfield",
            "Baldwin Park",
            "Baton Rouge",
            "Birmingham",
            "Bradenton",
            "Bronx",
            "Brooklyn",
            "Charlotte",
            "Chattanooga",
            "Chicago",
            "Cincinnati",
            "Cleveland",
            "Columbia",
            "Columbus",
            "Corona",
            "Dallas",
            "Dayton",
            "Denver",
            "Detroit",
            "El Paso",
            "Flint",
            "Fort Lauderdale",
            "Fort Myers",
            "Fort Worth",
            "Fresno",
            "Glendale",
            "Grand Rapids",
            "Greenville",
            "Hayward",
            "Hialeah",
            "Hollywood",
            "Houston",
            "Indianapolis",
            "Irvine",
            "Jacksonville",
            "Kansas City",
            "Kissimmee",
            "Lafayette",
            "Lancaster",
            "Lexington",
            "Long Beach",
            "Los Angeles",
            "Louisville",
            "Madison",
            "Memphis",
            "Miami",
            "Milwaukee",
            "Minneapolis",
            "Montgomery",
            "Nashville",
            "New Orleans",
            "New York",
            "Newark",
            "Norfolk",
            "Oakland",
            "Oklahoma City",
            "Omaha",
            "Ontario",
            "Orlando",
            "Pasadena",
            "Pensacola",
            "Philadelphia",
            "Phoenix",
            "Pittsburgh",
            "Portland",
            "Raleigh",
            "Richmond",
            "Riverside",
            "Rochester",
            "Sacramento",
            "Saint Louis",
            "Saint Paul",
            "Saint Petersburg",
            "Salt Lake City",
            "San Antonio",
            "San Bernardino",
            "San Diego",
            "San Francisco",
            "San Jose",
            "Sarasota",
            "Seattle",
            "Shreveport",
            "Spartanburg",
            "Springfield",
            "Stockton",
            "Tampa",
            "Tracy",
            "Tucson",
            "Tulsa",
            "Washington",
            "Whittier",
            "York"
           ],
           "xaxis": "x",
           "y": [
            1431,
            2031,
            852,
            998,
            2127,
            10115,
            1971,
            15178,
            566,
            1170,
            6658,
            912,
            812,
            2522,
            2135,
            16839,
            515,
            4015,
            1368,
            1032,
            3457,
            2872,
            2115,
            17231,
            3419,
            2804,
            4014,
            1866,
            4179,
            2827,
            2049,
            2915,
            558,
            903,
            4287,
            2500,
            1334,
            1261,
            981,
            30303,
            4342,
            1080,
            3530,
            2418,
            807,
            2677,
            1996,
            1474,
            2323,
            15361,
            1545,
            742,
            1137,
            9235,
            1769,
            4427,
            259,
            5228,
            485,
            1873,
            1254,
            823,
            2821,
            6187,
            4929,
            1480,
            7345,
            1094,
            386,
            1750,
            4255,
            1398,
            2840,
            8943,
            4259,
            2681,
            2484,
            6043,
            2569,
            3096,
            1666,
            1263,
            5327,
            1799,
            5289,
            1947,
            4111,
            983,
            7420,
            775,
            1087,
            1488,
            797,
            3108,
            1005,
            2142,
            2307,
            962,
            1471,
            1431
           ],
           "yaxis": "y"
          }
         ],
         "name": "2017"
        },
        {
         "data": [
          {
           "alignmentgroup": "True",
           "hovertemplate": "Year=2018<br>City=%{x}<br>Number of Accidents=%{y}<extra></extra>",
           "legendgroup": "",
           "marker": {
            "color": "#636efa",
            "pattern": {
             "shape": ""
            }
           },
           "name": "",
           "offsetgroup": "",
           "orientation": "v",
           "showlegend": false,
           "textposition": "auto",
           "type": "bar",
           "x": [
            "Albany",
            "Anaheim",
            "Anderson",
            "Antioch",
            "Arlington",
            "Atlanta",
            "Augusta",
            "Austin",
            "Bakersfield",
            "Baldwin Park",
            "Baton Rouge",
            "Birmingham",
            "Bradenton",
            "Bronx",
            "Brooklyn",
            "Charlotte",
            "Chattanooga",
            "Chicago",
            "Cincinnati",
            "Cleveland",
            "Columbia",
            "Columbus",
            "Corona",
            "Dallas",
            "Dayton",
            "Denver",
            "Detroit",
            "El Paso",
            "Flint",
            "Fort Lauderdale",
            "Fort Myers",
            "Fort Worth",
            "Fresno",
            "Glendale",
            "Grand Rapids",
            "Greenville",
            "Hayward",
            "Hialeah",
            "Hollywood",
            "Houston",
            "Indianapolis",
            "Irvine",
            "Jacksonville",
            "Kansas City",
            "Kissimmee",
            "Lafayette",
            "Lancaster",
            "Lexington",
            "Long Beach",
            "Los Angeles",
            "Louisville",
            "Madison",
            "Memphis",
            "Miami",
            "Milwaukee",
            "Minneapolis",
            "Montgomery",
            "Nashville",
            "New Orleans",
            "New York",
            "Newark",
            "Norfolk",
            "Oakland",
            "Oklahoma City",
            "Omaha",
            "Ontario",
            "Orlando",
            "Pasadena",
            "Pensacola",
            "Philadelphia",
            "Phoenix",
            "Pittsburgh",
            "Portland",
            "Raleigh",
            "Richmond",
            "Riverside",
            "Rochester",
            "Sacramento",
            "Saint Louis",
            "Saint Paul",
            "Saint Petersburg",
            "Salt Lake City",
            "San Antonio",
            "San Bernardino",
            "San Diego",
            "San Francisco",
            "San Jose",
            "Sarasota",
            "Seattle",
            "Shreveport",
            "Spartanburg",
            "Springfield",
            "Stockton",
            "Tampa",
            "Tracy",
            "Tucson",
            "Tulsa",
            "Washington",
            "Whittier",
            "York"
           ],
           "xaxis": "x",
           "y": [
            1370,
            2092,
            1635,
            1702,
            1705,
            11484,
            2482,
            16154,
            1235,
            1193,
            11983,
            3255,
            768,
            2537,
            2103,
            25183,
            1259,
            4388,
            2640,
            1892,
            6500,
            3637,
            1987,
            14269,
            2875,
            5873,
            4058,
            3999,
            3886,
            2742,
            1327,
            2264,
            1324,
            1459,
            2821,
            5652,
            1362,
            1097,
            1002,
            25257,
            9089,
            1126,
            7368,
            3203,
            962,
            2990,
            2004,
            3211,
            2438,
            15794,
            4634,
            1465,
            2813,
            8659,
            1932,
            7985,
            1226,
            11931,
            972,
            1818,
            1317,
            1399,
            2995,
            11760,
            4637,
            1509,
            7353,
            1234,
            1099,
            1689,
            8002,
            1630,
            5205,
            17249,
            6766,
            2488,
            4234,
            5089,
            2684,
            5551,
            1586,
            2522,
            7055,
            1694,
            4497,
            2003,
            4083,
            779,
            7323,
            1387,
            2337,
            1592,
            822,
            3057,
            1036,
            4755,
            6452,
            1207,
            1545,
            1816
           ],
           "yaxis": "y"
          }
         ],
         "name": "2018"
        },
        {
         "data": [
          {
           "alignmentgroup": "True",
           "hovertemplate": "Year=2019<br>City=%{x}<br>Number of Accidents=%{y}<extra></extra>",
           "legendgroup": "",
           "marker": {
            "color": "#636efa",
            "pattern": {
             "shape": ""
            }
           },
           "name": "",
           "offsetgroup": "",
           "orientation": "v",
           "showlegend": false,
           "textposition": "auto",
           "type": "bar",
           "x": [
            "Albany",
            "Anaheim",
            "Anderson",
            "Antioch",
            "Arlington",
            "Atlanta",
            "Augusta",
            "Austin",
            "Bakersfield",
            "Baldwin Park",
            "Baton Rouge",
            "Birmingham",
            "Bradenton",
            "Bronx",
            "Brooklyn",
            "Charlotte",
            "Chattanooga",
            "Chicago",
            "Cincinnati",
            "Cleveland",
            "Columbia",
            "Columbus",
            "Corona",
            "Dallas",
            "Dayton",
            "Denver",
            "Detroit",
            "El Paso",
            "Flint",
            "Fort Lauderdale",
            "Fort Myers",
            "Fort Worth",
            "Fresno",
            "Glendale",
            "Grand Rapids",
            "Greenville",
            "Hayward",
            "Hialeah",
            "Hollywood",
            "Houston",
            "Indianapolis",
            "Irvine",
            "Jacksonville",
            "Kansas City",
            "Kissimmee",
            "Lafayette",
            "Lancaster",
            "Lexington",
            "Long Beach",
            "Los Angeles",
            "Louisville",
            "Madison",
            "Memphis",
            "Miami",
            "Milwaukee",
            "Minneapolis",
            "Montgomery",
            "Nashville",
            "New Orleans",
            "New York",
            "Newark",
            "Norfolk",
            "Oakland",
            "Oklahoma City",
            "Omaha",
            "Ontario",
            "Orlando",
            "Pasadena",
            "Pensacola",
            "Philadelphia",
            "Phoenix",
            "Pittsburgh",
            "Portland",
            "Raleigh",
            "Richmond",
            "Riverside",
            "Rochester",
            "Sacramento",
            "Saint Louis",
            "Saint Paul",
            "Saint Petersburg",
            "Salt Lake City",
            "San Antonio",
            "San Bernardino",
            "San Diego",
            "San Francisco",
            "San Jose",
            "Sarasota",
            "Seattle",
            "Shreveport",
            "Spartanburg",
            "Springfield",
            "Stockton",
            "Tampa",
            "Tracy",
            "Tucson",
            "Tulsa",
            "Washington",
            "Whittier",
            "York"
           ],
           "xaxis": "x",
           "y": [
            1587,
            2844,
            1831,
            1527,
            1653,
            9706,
            2148,
            16637,
            2090,
            1408,
            11313,
            2737,
            853,
            3027,
            2463,
            21819,
            1038,
            4502,
            2059,
            1670,
            6606,
            2687,
            2657,
            14685,
            2142,
            7008,
            3260,
            3433,
            2984,
            2861,
            1258,
            1970,
            2296,
            2099,
            1866,
            6618,
            1777,
            1269,
            1114,
            22193,
            4295,
            1449,
            5125,
            2861,
            693,
            2412,
            1609,
            2746,
            2868,
            19682,
            3722,
            1737,
            2834,
            8146,
            2796,
            8790,
            2123,
            10092,
            960,
            2175,
            1257,
            1197,
            4041,
            12480,
            3503,
            2413,
            5551,
            1508,
            1015,
            1678,
            9873,
            1510,
            8404,
            12848,
            7074,
            3341,
            4536,
            8542,
            2879,
            6819,
            1270,
            5471,
            6640,
            2545,
            6221,
            2708,
            5354,
            930,
            5059,
            1448,
            2926,
            1645,
            1270,
            3198,
            1402,
            2864,
            5893,
            1836,
            1878,
            916
           ],
           "yaxis": "y"
          }
         ],
         "name": "2019"
        },
        {
         "data": [
          {
           "alignmentgroup": "True",
           "hovertemplate": "Year=2020<br>City=%{x}<br>Number of Accidents=%{y}<extra></extra>",
           "legendgroup": "",
           "marker": {
            "color": "#636efa",
            "pattern": {
             "shape": ""
            }
           },
           "name": "",
           "offsetgroup": "",
           "orientation": "v",
           "showlegend": false,
           "textposition": "auto",
           "type": "bar",
           "x": [
            "Albany",
            "Anaheim",
            "Anderson",
            "Antioch",
            "Arlington",
            "Atlanta",
            "Augusta",
            "Austin",
            "Bakersfield",
            "Baldwin Park",
            "Baton Rouge",
            "Birmingham",
            "Bradenton",
            "Bronx",
            "Brooklyn",
            "Charlotte",
            "Chattanooga",
            "Chicago",
            "Cincinnati",
            "Cleveland",
            "Columbia",
            "Columbus",
            "Corona",
            "Dallas",
            "Dayton",
            "Denver",
            "Detroit",
            "El Paso",
            "Flint",
            "Fort Lauderdale",
            "Fort Myers",
            "Fort Worth",
            "Fresno",
            "Glendale",
            "Grand Rapids",
            "Greenville",
            "Hayward",
            "Hialeah",
            "Hollywood",
            "Houston",
            "Indianapolis",
            "Irvine",
            "Jacksonville",
            "Kansas City",
            "Kissimmee",
            "Lafayette",
            "Lancaster",
            "Lexington",
            "Long Beach",
            "Los Angeles",
            "Louisville",
            "Madison",
            "Memphis",
            "Miami",
            "Milwaukee",
            "Minneapolis",
            "Montgomery",
            "Nashville",
            "New Orleans",
            "New York",
            "Newark",
            "Norfolk",
            "Oakland",
            "Oklahoma City",
            "Omaha",
            "Ontario",
            "Orlando",
            "Pasadena",
            "Pensacola",
            "Philadelphia",
            "Phoenix",
            "Pittsburgh",
            "Portland",
            "Raleigh",
            "Richmond",
            "Riverside",
            "Rochester",
            "Sacramento",
            "Saint Louis",
            "Saint Paul",
            "Saint Petersburg",
            "Salt Lake City",
            "San Antonio",
            "San Bernardino",
            "San Diego",
            "San Francisco",
            "San Jose",
            "Sarasota",
            "Seattle",
            "Shreveport",
            "Spartanburg",
            "Springfield",
            "Stockton",
            "Tampa",
            "Tracy",
            "Tucson",
            "Tulsa",
            "Washington",
            "Whittier",
            "York"
           ],
           "xaxis": "x",
           "y": [
            1247,
            3624,
            2402,
            2306,
            2088,
            8700,
            1955,
            11101,
            4914,
            1712,
            11578,
            2919,
            2367,
            4117,
            2751,
            20003,
            2759,
            5860,
            2473,
            2032,
            5619,
            2775,
            3592,
            17787,
            4688,
            5418,
            2804,
            3415,
            1971,
            4857,
            2057,
            2217,
            3755,
            1856,
            2855,
            7236,
            2086,
            2996,
            2034,
            20079,
            4059,
            1449,
            6762,
            3854,
            1811,
            2001,
            2905,
            2659,
            3265,
            24590,
            3268,
            2117,
            2889,
            27103,
            1467,
            8674,
            2590,
            13187,
            5675,
            3015,
            2129,
            1832,
            4076,
            8710,
            1609,
            3758,
            11844,
            1435,
            2943,
            3885,
            9334,
            1813,
            6433,
            12161,
            8660,
            4962,
            6140,
            11353,
            2604,
            6915,
            2029,
            3207,
            5323,
            4394,
            7616,
            2753,
            5239,
            2219,
            4216,
            3226,
            2817,
            2407,
            2135,
            5132,
            1877,
            9550,
            3503,
            2773,
            2361,
            2179
           ],
           "yaxis": "y"
          }
         ],
         "name": "2020"
        },
        {
         "data": [
          {
           "alignmentgroup": "True",
           "hovertemplate": "Year=2021<br>City=%{x}<br>Number of Accidents=%{y}<extra></extra>",
           "legendgroup": "",
           "marker": {
            "color": "#636efa",
            "pattern": {
             "shape": ""
            }
           },
           "name": "",
           "offsetgroup": "",
           "orientation": "v",
           "showlegend": false,
           "textposition": "auto",
           "type": "bar",
           "x": [
            "Albany",
            "Anaheim",
            "Anderson",
            "Antioch",
            "Arlington",
            "Atlanta",
            "Augusta",
            "Austin",
            "Bakersfield",
            "Baldwin Park",
            "Baton Rouge",
            "Birmingham",
            "Bradenton",
            "Bronx",
            "Brooklyn",
            "Charlotte",
            "Chattanooga",
            "Chicago",
            "Cincinnati",
            "Cleveland",
            "Columbia",
            "Columbus",
            "Corona",
            "Dallas",
            "Dayton",
            "Denver",
            "Detroit",
            "El Paso",
            "Flint",
            "Fort Lauderdale",
            "Fort Myers",
            "Fort Worth",
            "Fresno",
            "Glendale",
            "Grand Rapids",
            "Greenville",
            "Hayward",
            "Hialeah",
            "Hollywood",
            "Houston",
            "Indianapolis",
            "Irvine",
            "Jacksonville",
            "Kansas City",
            "Kissimmee",
            "Lafayette",
            "Lancaster",
            "Lexington",
            "Long Beach",
            "Los Angeles",
            "Louisville",
            "Madison",
            "Memphis",
            "Miami",
            "Milwaukee",
            "Minneapolis",
            "Montgomery",
            "Nashville",
            "New Orleans",
            "New York",
            "Newark",
            "Norfolk",
            "Oakland",
            "Oklahoma City",
            "Omaha",
            "Ontario",
            "Orlando",
            "Pasadena",
            "Pensacola",
            "Philadelphia",
            "Phoenix",
            "Pittsburgh",
            "Portland",
            "Raleigh",
            "Richmond",
            "Riverside",
            "Rochester",
            "Sacramento",
            "Saint Louis",
            "Saint Paul",
            "Saint Petersburg",
            "Salt Lake City",
            "San Antonio",
            "San Bernardino",
            "San Diego",
            "San Francisco",
            "San Jose",
            "Sarasota",
            "Seattle",
            "Shreveport",
            "Spartanburg",
            "Springfield",
            "Stockton",
            "Tampa",
            "Tracy",
            "Tucson",
            "Tulsa",
            "Washington",
            "Whittier",
            "York"
           ],
           "xaxis": "x",
           "y": [
            1636,
            4035,
            2727,
            2465,
            2812,
            7453,
            1760,
            13902,
            5753,
            1777,
            14552,
            3690,
            4257,
            4698,
            3343,
            24988,
            5216,
            5604,
            1486,
            1704,
            7119,
            2786,
            3814,
            27519,
            3234,
            3299,
            3318,
            1481,
            2512,
            5756,
            5820,
            3745,
            3991,
            1876,
            4387,
            7605,
            2247,
            5767,
            2274,
            28074,
            5161,
            1843,
            9183,
            5830,
            4366,
            1437,
            4333,
            2974,
            3318,
            29048,
            2097,
            2596,
            3319,
            58845,
            1124,
            9721,
            2624,
            16307,
            7589,
            3275,
            2478,
            3048,
            3785,
            4676,
            1162,
            4329,
            33035,
            1865,
            3703,
            4388,
            9306,
            2826,
            6372,
            15938,
            7178,
            5011,
            4702,
            12961,
            2838,
            6552,
            3449,
            3538,
            5959,
            4467,
            10741,
            2963,
            5345,
            4440,
            4262,
            3981,
            3311,
            4111,
            2296,
            6238,
            1849,
            8652,
            3616,
            5085,
            2967,
            1897
           ],
           "yaxis": "y"
          }
         ],
         "name": "2021"
        },
        {
         "data": [
          {
           "alignmentgroup": "True",
           "hovertemplate": "Year=2022<br>City=%{x}<br>Number of Accidents=%{y}<extra></extra>",
           "legendgroup": "",
           "marker": {
            "color": "#636efa",
            "pattern": {
             "shape": ""
            }
           },
           "name": "",
           "offsetgroup": "",
           "orientation": "v",
           "showlegend": false,
           "textposition": "auto",
           "type": "bar",
           "x": [
            "Albany",
            "Anaheim",
            "Anderson",
            "Antioch",
            "Arlington",
            "Atlanta",
            "Augusta",
            "Austin",
            "Bakersfield",
            "Baldwin Park",
            "Baton Rouge",
            "Birmingham",
            "Bradenton",
            "Bronx",
            "Brooklyn",
            "Charlotte",
            "Chattanooga",
            "Chicago",
            "Cincinnati",
            "Cleveland",
            "Columbia",
            "Columbus",
            "Corona",
            "Dallas",
            "Dayton",
            "Denver",
            "Detroit",
            "El Paso",
            "Flint",
            "Fort Lauderdale",
            "Fort Myers",
            "Fort Worth",
            "Fresno",
            "Glendale",
            "Grand Rapids",
            "Greenville",
            "Hayward",
            "Hialeah",
            "Hollywood",
            "Houston",
            "Indianapolis",
            "Irvine",
            "Jacksonville",
            "Kansas City",
            "Kissimmee",
            "Lafayette",
            "Lancaster",
            "Lexington",
            "Long Beach",
            "Los Angeles",
            "Louisville",
            "Madison",
            "Memphis",
            "Miami",
            "Milwaukee",
            "Minneapolis",
            "Montgomery",
            "Nashville",
            "New Orleans",
            "New York",
            "Newark",
            "Norfolk",
            "Oakland",
            "Oklahoma City",
            "Omaha",
            "Ontario",
            "Orlando",
            "Pasadena",
            "Pensacola",
            "Philadelphia",
            "Phoenix",
            "Pittsburgh",
            "Portland",
            "Raleigh",
            "Richmond",
            "Riverside",
            "Rochester",
            "Sacramento",
            "Saint Louis",
            "Saint Paul",
            "Saint Petersburg",
            "Salt Lake City",
            "San Antonio",
            "San Bernardino",
            "San Diego",
            "San Francisco",
            "San Jose",
            "Sarasota",
            "Seattle",
            "Shreveport",
            "Spartanburg",
            "Springfield",
            "Stockton",
            "Tampa",
            "Tracy",
            "Tucson",
            "Tulsa",
            "Washington",
            "Whittier",
            "York"
           ],
           "xaxis": "x",
           "y": [
            1955,
            4213,
            2283,
            2311,
            3640,
            11234,
            1162,
            10906,
            5637,
            1787,
            13683,
            3184,
            5174,
            8052,
            7627,
            23308,
            5625,
            4073,
            3154,
            2459,
            7621,
            4243,
            4353,
            24306,
            4050,
            4890,
            4242,
            1685,
            2320,
            5221,
            5066,
            4023,
            4298,
            1769,
            4793,
            7360,
            2318,
            7080,
            2115,
            25865,
            5172,
            2028,
            8989,
            9605,
            5497,
            1166,
            4832,
            2830,
            3952,
            31072,
            956,
            2912,
            3124,
            64544,
            2672,
            9344,
            2114,
            14368,
            10704,
            7849,
            4400,
            3489,
            3895,
            1915,
            864,
            4171,
            36413,
            2170,
            3734,
            4814,
            10537,
            3193,
            4829,
            16410,
            12514,
            5681,
            3990,
            13543,
            1731,
            6338,
            2612,
            3700,
            4259,
            4573,
            13324,
            3163,
            5301,
            5324,
            3903,
            4174,
            2924,
            4875,
            2910,
            7365,
            1933,
            10126,
            6482,
            7302,
            4053,
            2807
           ],
           "yaxis": "y"
          }
         ],
         "name": "2022"
        },
        {
         "data": [
          {
           "alignmentgroup": "True",
           "hovertemplate": "Year=2023<br>City=%{x}<br>Number of Accidents=%{y}<extra></extra>",
           "legendgroup": "",
           "marker": {
            "color": "#636efa",
            "pattern": {
             "shape": ""
            }
           },
           "name": "",
           "offsetgroup": "",
           "orientation": "v",
           "showlegend": false,
           "textposition": "auto",
           "type": "bar",
           "x": [
            "Albany",
            "Anaheim",
            "Anderson",
            "Antioch",
            "Arlington",
            "Atlanta",
            "Augusta",
            "Austin",
            "Bakersfield",
            "Baldwin Park",
            "Baton Rouge",
            "Birmingham",
            "Bradenton",
            "Bronx",
            "Brooklyn",
            "Charlotte",
            "Chattanooga",
            "Chicago",
            "Cincinnati",
            "Cleveland",
            "Columbia",
            "Columbus",
            "Corona",
            "Dallas",
            "Dayton",
            "Denver",
            "Detroit",
            "El Paso",
            "Flint",
            "Fort Lauderdale",
            "Fort Myers",
            "Fort Worth",
            "Fresno",
            "Glendale",
            "Grand Rapids",
            "Greenville",
            "Hayward",
            "Hialeah",
            "Hollywood",
            "Houston",
            "Indianapolis",
            "Irvine",
            "Jacksonville",
            "Kansas City",
            "Kissimmee",
            "Lafayette",
            "Lancaster",
            "Lexington",
            "Long Beach",
            "Los Angeles",
            "Louisville",
            "Madison",
            "Memphis",
            "Miami",
            "Milwaukee",
            "Minneapolis",
            "Montgomery",
            "Nashville",
            "New Orleans",
            "New York",
            "Newark",
            "Norfolk",
            "Oakland",
            "Omaha",
            "Ontario",
            "Orlando",
            "Pasadena",
            "Pensacola",
            "Philadelphia",
            "Phoenix",
            "Pittsburgh",
            "Portland",
            "Raleigh",
            "Richmond",
            "Riverside",
            "Rochester",
            "Sacramento",
            "Saint Louis",
            "Saint Paul",
            "Saint Petersburg",
            "Salt Lake City",
            "San Antonio",
            "San Bernardino",
            "San Diego",
            "San Francisco",
            "San Jose",
            "Sarasota",
            "Seattle",
            "Shreveport",
            "Spartanburg",
            "Springfield",
            "Stockton",
            "Tampa",
            "Tracy",
            "Tucson",
            "Tulsa",
            "Washington",
            "Whittier",
            "York"
           ],
           "xaxis": "x",
           "y": [
            396,
            937,
            286,
            204,
            582,
            3182,
            57,
            2742,
            1041,
            404,
            1540,
            221,
            462,
            674,
            451,
            2276,
            140,
            974,
            735,
            573,
            876,
            807,
            963,
            3261,
            262,
            799,
            882,
            107,
            318,
            455,
            425,
            1029,
            866,
            314,
            735,
            697,
            449,
            616,
            201,
            2271,
            577,
            474,
            972,
            1342,
            553,
            96,
            619,
            263,
            807,
            5880,
            20,
            287,
            179,
            5238,
            634,
            1555,
            84,
            1199,
            802,
            422,
            492,
            382,
            795,
            48,
            770,
            2279,
            443,
            357,
            849,
            1752,
            572,
            981,
            1937,
            1646,
            1169,
            642,
            2748,
            184,
            1364,
            152,
            455,
            534,
            1056,
            2759,
            583,
            1250,
            551,
            395,
            458,
            308,
            676,
            546,
            627,
            416,
            1038,
            584,
            782,
            773,
            418
           ],
           "yaxis": "y"
          }
         ],
         "name": "2023"
        }
       ],
       "layout": {
        "annotations": [
         {
          "font": {
           "size": 14
          },
          "showarrow": false,
          "text": "",
          "x": 0.98,
          "xref": "paper",
          "y": 0.95,
          "yref": "paper"
         }
        ],
        "barmode": "relative",
        "height": 600,
        "legend": {
         "tracegroupgap": 0
        },
        "sliders": [
         {
          "active": 0,
          "currentvalue": {
           "prefix": "Year="
          },
          "len": 0.9,
          "pad": {
           "b": 10,
           "t": 60
          },
          "steps": [
           {
            "args": [
             [
              "2016"
             ],
             {
              "frame": {
               "duration": 0,
               "redraw": true
              },
              "fromcurrent": true,
              "mode": "immediate",
              "transition": {
               "duration": 0,
               "easing": "linear"
              }
             }
            ],
            "label": "2016",
            "method": "animate"
           },
           {
            "args": [
             [
              "2017"
             ],
             {
              "frame": {
               "duration": 0,
               "redraw": true
              },
              "fromcurrent": true,
              "mode": "immediate",
              "transition": {
               "duration": 0,
               "easing": "linear"
              }
             }
            ],
            "label": "2017",
            "method": "animate"
           },
           {
            "args": [
             [
              "2018"
             ],
             {
              "frame": {
               "duration": 0,
               "redraw": true
              },
              "fromcurrent": true,
              "mode": "immediate",
              "transition": {
               "duration": 0,
               "easing": "linear"
              }
             }
            ],
            "label": "2018",
            "method": "animate"
           },
           {
            "args": [
             [
              "2019"
             ],
             {
              "frame": {
               "duration": 0,
               "redraw": true
              },
              "fromcurrent": true,
              "mode": "immediate",
              "transition": {
               "duration": 0,
               "easing": "linear"
              }
             }
            ],
            "label": "2019",
            "method": "animate"
           },
           {
            "args": [
             [
              "2020"
             ],
             {
              "frame": {
               "duration": 0,
               "redraw": true
              },
              "fromcurrent": true,
              "mode": "immediate",
              "transition": {
               "duration": 0,
               "easing": "linear"
              }
             }
            ],
            "label": "2020",
            "method": "animate"
           },
           {
            "args": [
             [
              "2021"
             ],
             {
              "frame": {
               "duration": 0,
               "redraw": true
              },
              "fromcurrent": true,
              "mode": "immediate",
              "transition": {
               "duration": 0,
               "easing": "linear"
              }
             }
            ],
            "label": "2021",
            "method": "animate"
           },
           {
            "args": [
             [
              "2022"
             ],
             {
              "frame": {
               "duration": 0,
               "redraw": true
              },
              "fromcurrent": true,
              "mode": "immediate",
              "transition": {
               "duration": 0,
               "easing": "linear"
              }
             }
            ],
            "label": "2022",
            "method": "animate"
           },
           {
            "args": [
             [
              "2023"
             ],
             {
              "frame": {
               "duration": 0,
               "redraw": true
              },
              "fromcurrent": true,
              "mode": "immediate",
              "transition": {
               "duration": 0,
               "easing": "linear"
              }
             }
            ],
            "label": "2023",
            "method": "animate"
           }
          ],
          "x": 0.1,
          "xanchor": "left",
          "y": 0,
          "yanchor": "top"
         }
        ],
        "template": {
         "data": {
          "bar": [
           {
            "error_x": {
             "color": "#2a3f5f"
            },
            "error_y": {
             "color": "#2a3f5f"
            },
            "marker": {
             "line": {
              "color": "#E5ECF6",
              "width": 0.5
             },
             "pattern": {
              "fillmode": "overlay",
              "size": 10,
              "solidity": 0.2
             }
            },
            "type": "bar"
           }
          ],
          "barpolar": [
           {
            "marker": {
             "line": {
              "color": "#E5ECF6",
              "width": 0.5
             },
             "pattern": {
              "fillmode": "overlay",
              "size": 10,
              "solidity": 0.2
             }
            },
            "type": "barpolar"
           }
          ],
          "carpet": [
           {
            "aaxis": {
             "endlinecolor": "#2a3f5f",
             "gridcolor": "white",
             "linecolor": "white",
             "minorgridcolor": "white",
             "startlinecolor": "#2a3f5f"
            },
            "baxis": {
             "endlinecolor": "#2a3f5f",
             "gridcolor": "white",
             "linecolor": "white",
             "minorgridcolor": "white",
             "startlinecolor": "#2a3f5f"
            },
            "type": "carpet"
           }
          ],
          "choropleth": [
           {
            "colorbar": {
             "outlinewidth": 0,
             "ticks": ""
            },
            "type": "choropleth"
           }
          ],
          "contour": [
           {
            "colorbar": {
             "outlinewidth": 0,
             "ticks": ""
            },
            "colorscale": [
             [
              0,
              "#0d0887"
             ],
             [
              0.1111111111111111,
              "#46039f"
             ],
             [
              0.2222222222222222,
              "#7201a8"
             ],
             [
              0.3333333333333333,
              "#9c179e"
             ],
             [
              0.4444444444444444,
              "#bd3786"
             ],
             [
              0.5555555555555556,
              "#d8576b"
             ],
             [
              0.6666666666666666,
              "#ed7953"
             ],
             [
              0.7777777777777778,
              "#fb9f3a"
             ],
             [
              0.8888888888888888,
              "#fdca26"
             ],
             [
              1,
              "#f0f921"
             ]
            ],
            "type": "contour"
           }
          ],
          "contourcarpet": [
           {
            "colorbar": {
             "outlinewidth": 0,
             "ticks": ""
            },
            "type": "contourcarpet"
           }
          ],
          "heatmap": [
           {
            "colorbar": {
             "outlinewidth": 0,
             "ticks": ""
            },
            "colorscale": [
             [
              0,
              "#0d0887"
             ],
             [
              0.1111111111111111,
              "#46039f"
             ],
             [
              0.2222222222222222,
              "#7201a8"
             ],
             [
              0.3333333333333333,
              "#9c179e"
             ],
             [
              0.4444444444444444,
              "#bd3786"
             ],
             [
              0.5555555555555556,
              "#d8576b"
             ],
             [
              0.6666666666666666,
              "#ed7953"
             ],
             [
              0.7777777777777778,
              "#fb9f3a"
             ],
             [
              0.8888888888888888,
              "#fdca26"
             ],
             [
              1,
              "#f0f921"
             ]
            ],
            "type": "heatmap"
           }
          ],
          "heatmapgl": [
           {
            "colorbar": {
             "outlinewidth": 0,
             "ticks": ""
            },
            "colorscale": [
             [
              0,
              "#0d0887"
             ],
             [
              0.1111111111111111,
              "#46039f"
             ],
             [
              0.2222222222222222,
              "#7201a8"
             ],
             [
              0.3333333333333333,
              "#9c179e"
             ],
             [
              0.4444444444444444,
              "#bd3786"
             ],
             [
              0.5555555555555556,
              "#d8576b"
             ],
             [
              0.6666666666666666,
              "#ed7953"
             ],
             [
              0.7777777777777778,
              "#fb9f3a"
             ],
             [
              0.8888888888888888,
              "#fdca26"
             ],
             [
              1,
              "#f0f921"
             ]
            ],
            "type": "heatmapgl"
           }
          ],
          "histogram": [
           {
            "marker": {
             "pattern": {
              "fillmode": "overlay",
              "size": 10,
              "solidity": 0.2
             }
            },
            "type": "histogram"
           }
          ],
          "histogram2d": [
           {
            "colorbar": {
             "outlinewidth": 0,
             "ticks": ""
            },
            "colorscale": [
             [
              0,
              "#0d0887"
             ],
             [
              0.1111111111111111,
              "#46039f"
             ],
             [
              0.2222222222222222,
              "#7201a8"
             ],
             [
              0.3333333333333333,
              "#9c179e"
             ],
             [
              0.4444444444444444,
              "#bd3786"
             ],
             [
              0.5555555555555556,
              "#d8576b"
             ],
             [
              0.6666666666666666,
              "#ed7953"
             ],
             [
              0.7777777777777778,
              "#fb9f3a"
             ],
             [
              0.8888888888888888,
              "#fdca26"
             ],
             [
              1,
              "#f0f921"
             ]
            ],
            "type": "histogram2d"
           }
          ],
          "histogram2dcontour": [
           {
            "colorbar": {
             "outlinewidth": 0,
             "ticks": ""
            },
            "colorscale": [
             [
              0,
              "#0d0887"
             ],
             [
              0.1111111111111111,
              "#46039f"
             ],
             [
              0.2222222222222222,
              "#7201a8"
             ],
             [
              0.3333333333333333,
              "#9c179e"
             ],
             [
              0.4444444444444444,
              "#bd3786"
             ],
             [
              0.5555555555555556,
              "#d8576b"
             ],
             [
              0.6666666666666666,
              "#ed7953"
             ],
             [
              0.7777777777777778,
              "#fb9f3a"
             ],
             [
              0.8888888888888888,
              "#fdca26"
             ],
             [
              1,
              "#f0f921"
             ]
            ],
            "type": "histogram2dcontour"
           }
          ],
          "mesh3d": [
           {
            "colorbar": {
             "outlinewidth": 0,
             "ticks": ""
            },
            "type": "mesh3d"
           }
          ],
          "parcoords": [
           {
            "line": {
             "colorbar": {
              "outlinewidth": 0,
              "ticks": ""
             }
            },
            "type": "parcoords"
           }
          ],
          "pie": [
           {
            "automargin": true,
            "type": "pie"
           }
          ],
          "scatter": [
           {
            "fillpattern": {
             "fillmode": "overlay",
             "size": 10,
             "solidity": 0.2
            },
            "type": "scatter"
           }
          ],
          "scatter3d": [
           {
            "line": {
             "colorbar": {
              "outlinewidth": 0,
              "ticks": ""
             }
            },
            "marker": {
             "colorbar": {
              "outlinewidth": 0,
              "ticks": ""
             }
            },
            "type": "scatter3d"
           }
          ],
          "scattercarpet": [
           {
            "marker": {
             "colorbar": {
              "outlinewidth": 0,
              "ticks": ""
             }
            },
            "type": "scattercarpet"
           }
          ],
          "scattergeo": [
           {
            "marker": {
             "colorbar": {
              "outlinewidth": 0,
              "ticks": ""
             }
            },
            "type": "scattergeo"
           }
          ],
          "scattergl": [
           {
            "marker": {
             "colorbar": {
              "outlinewidth": 0,
              "ticks": ""
             }
            },
            "type": "scattergl"
           }
          ],
          "scattermapbox": [
           {
            "marker": {
             "colorbar": {
              "outlinewidth": 0,
              "ticks": ""
             }
            },
            "type": "scattermapbox"
           }
          ],
          "scatterpolar": [
           {
            "marker": {
             "colorbar": {
              "outlinewidth": 0,
              "ticks": ""
             }
            },
            "type": "scatterpolar"
           }
          ],
          "scatterpolargl": [
           {
            "marker": {
             "colorbar": {
              "outlinewidth": 0,
              "ticks": ""
             }
            },
            "type": "scatterpolargl"
           }
          ],
          "scatterternary": [
           {
            "marker": {
             "colorbar": {
              "outlinewidth": 0,
              "ticks": ""
             }
            },
            "type": "scatterternary"
           }
          ],
          "surface": [
           {
            "colorbar": {
             "outlinewidth": 0,
             "ticks": ""
            },
            "colorscale": [
             [
              0,
              "#0d0887"
             ],
             [
              0.1111111111111111,
              "#46039f"
             ],
             [
              0.2222222222222222,
              "#7201a8"
             ],
             [
              0.3333333333333333,
              "#9c179e"
             ],
             [
              0.4444444444444444,
              "#bd3786"
             ],
             [
              0.5555555555555556,
              "#d8576b"
             ],
             [
              0.6666666666666666,
              "#ed7953"
             ],
             [
              0.7777777777777778,
              "#fb9f3a"
             ],
             [
              0.8888888888888888,
              "#fdca26"
             ],
             [
              1,
              "#f0f921"
             ]
            ],
            "type": "surface"
           }
          ],
          "table": [
           {
            "cells": {
             "fill": {
              "color": "#EBF0F8"
             },
             "line": {
              "color": "white"
             }
            },
            "header": {
             "fill": {
              "color": "#C8D4E3"
             },
             "line": {
              "color": "white"
             }
            },
            "type": "table"
           }
          ]
         },
         "layout": {
          "annotationdefaults": {
           "arrowcolor": "#2a3f5f",
           "arrowhead": 0,
           "arrowwidth": 1
          },
          "autotypenumbers": "strict",
          "coloraxis": {
           "colorbar": {
            "outlinewidth": 0,
            "ticks": ""
           }
          },
          "colorscale": {
           "diverging": [
            [
             0,
             "#8e0152"
            ],
            [
             0.1,
             "#c51b7d"
            ],
            [
             0.2,
             "#de77ae"
            ],
            [
             0.3,
             "#f1b6da"
            ],
            [
             0.4,
             "#fde0ef"
            ],
            [
             0.5,
             "#f7f7f7"
            ],
            [
             0.6,
             "#e6f5d0"
            ],
            [
             0.7,
             "#b8e186"
            ],
            [
             0.8,
             "#7fbc41"
            ],
            [
             0.9,
             "#4d9221"
            ],
            [
             1,
             "#276419"
            ]
           ],
           "sequential": [
            [
             0,
             "#0d0887"
            ],
            [
             0.1111111111111111,
             "#46039f"
            ],
            [
             0.2222222222222222,
             "#7201a8"
            ],
            [
             0.3333333333333333,
             "#9c179e"
            ],
            [
             0.4444444444444444,
             "#bd3786"
            ],
            [
             0.5555555555555556,
             "#d8576b"
            ],
            [
             0.6666666666666666,
             "#ed7953"
            ],
            [
             0.7777777777777778,
             "#fb9f3a"
            ],
            [
             0.8888888888888888,
             "#fdca26"
            ],
            [
             1,
             "#f0f921"
            ]
           ],
           "sequentialminus": [
            [
             0,
             "#0d0887"
            ],
            [
             0.1111111111111111,
             "#46039f"
            ],
            [
             0.2222222222222222,
             "#7201a8"
            ],
            [
             0.3333333333333333,
             "#9c179e"
            ],
            [
             0.4444444444444444,
             "#bd3786"
            ],
            [
             0.5555555555555556,
             "#d8576b"
            ],
            [
             0.6666666666666666,
             "#ed7953"
            ],
            [
             0.7777777777777778,
             "#fb9f3a"
            ],
            [
             0.8888888888888888,
             "#fdca26"
            ],
            [
             1,
             "#f0f921"
            ]
           ]
          },
          "colorway": [
           "#636efa",
           "#EF553B",
           "#00cc96",
           "#ab63fa",
           "#FFA15A",
           "#19d3f3",
           "#FF6692",
           "#B6E880",
           "#FF97FF",
           "#FECB52"
          ],
          "font": {
           "color": "#2a3f5f"
          },
          "geo": {
           "bgcolor": "white",
           "lakecolor": "white",
           "landcolor": "#E5ECF6",
           "showlakes": true,
           "showland": true,
           "subunitcolor": "white"
          },
          "hoverlabel": {
           "align": "left"
          },
          "hovermode": "closest",
          "mapbox": {
           "style": "light"
          },
          "paper_bgcolor": "white",
          "plot_bgcolor": "#E5ECF6",
          "polar": {
           "angularaxis": {
            "gridcolor": "white",
            "linecolor": "white",
            "ticks": ""
           },
           "bgcolor": "#E5ECF6",
           "radialaxis": {
            "gridcolor": "white",
            "linecolor": "white",
            "ticks": ""
           }
          },
          "scene": {
           "xaxis": {
            "backgroundcolor": "#E5ECF6",
            "gridcolor": "white",
            "gridwidth": 2,
            "linecolor": "white",
            "showbackground": true,
            "ticks": "",
            "zerolinecolor": "white"
           },
           "yaxis": {
            "backgroundcolor": "#E5ECF6",
            "gridcolor": "white",
            "gridwidth": 2,
            "linecolor": "white",
            "showbackground": true,
            "ticks": "",
            "zerolinecolor": "white"
           },
           "zaxis": {
            "backgroundcolor": "#E5ECF6",
            "gridcolor": "white",
            "gridwidth": 2,
            "linecolor": "white",
            "showbackground": true,
            "ticks": "",
            "zerolinecolor": "white"
           }
          },
          "shapedefaults": {
           "line": {
            "color": "#2a3f5f"
           }
          },
          "ternary": {
           "aaxis": {
            "gridcolor": "white",
            "linecolor": "white",
            "ticks": ""
           },
           "baxis": {
            "gridcolor": "white",
            "linecolor": "white",
            "ticks": ""
           },
           "bgcolor": "#E5ECF6",
           "caxis": {
            "gridcolor": "white",
            "linecolor": "white",
            "ticks": ""
           }
          },
          "title": {
           "x": 0.05
          },
          "xaxis": {
           "automargin": true,
           "gridcolor": "white",
           "linecolor": "white",
           "ticks": "",
           "title": {
            "standoff": 15
           },
           "zerolinecolor": "white",
           "zerolinewidth": 2
          },
          "yaxis": {
           "automargin": true,
           "gridcolor": "white",
           "linecolor": "white",
           "ticks": "",
           "title": {
            "standoff": 15
           },
           "zerolinecolor": "white",
           "zerolinewidth": 2
          }
         }
        },
        "title": {
         "text": "Number of Accidents in Top 100 Cities"
        },
        "updatemenus": [
         {
          "buttons": [
           {
            "args": [
             null,
             {
              "frame": {
               "duration": 500,
               "redraw": true
              },
              "fromcurrent": true,
              "mode": "immediate",
              "transition": {
               "duration": 500,
               "easing": "linear"
              }
             }
            ],
            "label": "&#9654;",
            "method": "animate"
           },
           {
            "args": [
             [
              null
             ],
             {
              "frame": {
               "duration": 0,
               "redraw": true
              },
              "fromcurrent": true,
              "mode": "immediate",
              "transition": {
               "duration": 0,
               "easing": "linear"
              }
             }
            ],
            "label": "&#9724;",
            "method": "animate"
           }
          ],
          "direction": "left",
          "pad": {
           "r": 10,
           "t": 70
          },
          "showactive": false,
          "type": "buttons",
          "x": 0.1,
          "xanchor": "right",
          "y": 0,
          "yanchor": "top"
         }
        ],
        "xaxis": {
         "anchor": "y",
         "domain": [
          0,
          1
         ],
         "tickangle": 45,
         "tickfont": {
          "size": 10
         },
         "title": {
          "standoff": 15,
          "text": "City"
         },
         "type": "category"
        },
        "yaxis": {
         "anchor": "x",
         "automargin": true,
         "domain": [
          0,
          1
         ],
         "range": [
          0,
          64544
         ],
         "title": {
          "text": "Number of Accidents"
         }
        }
       }
      }
     },
     "metadata": {},
     "output_type": "display_data"
    }
   ],
   "source": [
    "# plotly animation\n",
    "# Load the dataset and extract necessary columns\n",
    "df1['Year'] = pd.to_datetime(df1['Start_Time']).dt.year\n",
    "df1['City'] = df1['City'].str.title()\n",
    "\n",
    "# Group by city and year, and count the number of accidents\n",
    "city_year_counts = df1.groupby(['City', 'Year']).size().reset_index(name='AccidentCount')\n",
    "\n",
    "# Get the top 100 cities based on total accident count\n",
    "top_100_cities = city_year_counts.groupby('City').sum().nlargest(100, 'AccidentCount').index\n",
    "\n",
    "# Filter the data for the top 100 cities\n",
    "filtered_data = city_year_counts[city_year_counts['City'].isin(top_100_cities)]\n",
    "\n",
    "# Create animated graph using Plotly Express\n",
    "fig400 = px.bar(filtered_data, x='City', y='AccidentCount', animation_frame='Year',\n",
    "                range_y=[0, filtered_data['AccidentCount'].max()],\n",
    "                labels={'City': 'City', 'AccidentCount': 'Number of Accidents'},\n",
    "                title='Number of Accidents in Top 100 Cities')\n",
    "\n",
    "fig400.update_layout(xaxis={'type': 'category'},\n",
    "                     height=600,\n",
    "                     xaxis_title='City',\n",
    "                     yaxis_title='Number of Accidents',\n",
    "                     updatemenus=[dict(type='buttons', showactive=False)])  # Remove the default Play/Pause button\n",
    "\n",
    "fig400.update_xaxes(tickangle=45, tickfont=dict(size=10), title_standoff=15)  # Adjust the angle, font size, and title standoff\n",
    "fig400.update_yaxes(automargin=True)  # Adjust the y-axis margin\n",
    "\n",
    "# Update the frame label to display the year\n",
    "fig400.update_layout(\n",
    "    annotations=[\n",
    "        dict(\n",
    "            text=\"\",\n",
    "            xref=\"paper\",\n",
    "            yref=\"paper\",\n",
    "            x=0.98,\n",
    "            y=0.95,\n",
    "            showarrow=False,\n",
    "            font=dict(size=14)\n",
    "        )\n",
    "    ]\n",
    ")\n",
    "\n",
    "# Show the animation\n",
    "fig400.show()"
   ]
  },
  {
   "cell_type": "code",
   "execution_count": 20,
   "metadata": {},
   "outputs": [
    {
     "data": {
      "application/vnd.plotly.v1+json": {
       "config": {
        "plotlyServerURL": "https://plot.ly"
       },
       "data": [
        {
         "alignmentgroup": "True",
         "hovertemplate": "x=%{x}<br>y=%{y}<extra></extra>",
         "legendgroup": "",
         "marker": {
          "color": "#636efa",
          "pattern": {
           "shape": ""
          }
         },
         "name": "",
         "offsetgroup": "",
         "orientation": "v",
         "showlegend": false,
         "textposition": "auto",
         "type": "bar",
         "x": [
          1,
          2,
          3,
          4,
          5,
          6,
          7,
          8,
          9,
          10,
          11,
          12
         ],
         "xaxis": "x",
         "y": [
          751946,
          658984,
          554595,
          587300,
          558176,
          571373,
          512335,
          599666,
          651381,
          675130,
          760165,
          847343
         ],
         "yaxis": "y"
        }
       ],
       "layout": {
        "barmode": "relative",
        "legend": {
         "tracegroupgap": 0
        },
        "template": {
         "data": {
          "bar": [
           {
            "error_x": {
             "color": "#2a3f5f"
            },
            "error_y": {
             "color": "#2a3f5f"
            },
            "marker": {
             "line": {
              "color": "#E5ECF6",
              "width": 0.5
             },
             "pattern": {
              "fillmode": "overlay",
              "size": 10,
              "solidity": 0.2
             }
            },
            "type": "bar"
           }
          ],
          "barpolar": [
           {
            "marker": {
             "line": {
              "color": "#E5ECF6",
              "width": 0.5
             },
             "pattern": {
              "fillmode": "overlay",
              "size": 10,
              "solidity": 0.2
             }
            },
            "type": "barpolar"
           }
          ],
          "carpet": [
           {
            "aaxis": {
             "endlinecolor": "#2a3f5f",
             "gridcolor": "white",
             "linecolor": "white",
             "minorgridcolor": "white",
             "startlinecolor": "#2a3f5f"
            },
            "baxis": {
             "endlinecolor": "#2a3f5f",
             "gridcolor": "white",
             "linecolor": "white",
             "minorgridcolor": "white",
             "startlinecolor": "#2a3f5f"
            },
            "type": "carpet"
           }
          ],
          "choropleth": [
           {
            "colorbar": {
             "outlinewidth": 0,
             "ticks": ""
            },
            "type": "choropleth"
           }
          ],
          "contour": [
           {
            "colorbar": {
             "outlinewidth": 0,
             "ticks": ""
            },
            "colorscale": [
             [
              0,
              "#0d0887"
             ],
             [
              0.1111111111111111,
              "#46039f"
             ],
             [
              0.2222222222222222,
              "#7201a8"
             ],
             [
              0.3333333333333333,
              "#9c179e"
             ],
             [
              0.4444444444444444,
              "#bd3786"
             ],
             [
              0.5555555555555556,
              "#d8576b"
             ],
             [
              0.6666666666666666,
              "#ed7953"
             ],
             [
              0.7777777777777778,
              "#fb9f3a"
             ],
             [
              0.8888888888888888,
              "#fdca26"
             ],
             [
              1,
              "#f0f921"
             ]
            ],
            "type": "contour"
           }
          ],
          "contourcarpet": [
           {
            "colorbar": {
             "outlinewidth": 0,
             "ticks": ""
            },
            "type": "contourcarpet"
           }
          ],
          "heatmap": [
           {
            "colorbar": {
             "outlinewidth": 0,
             "ticks": ""
            },
            "colorscale": [
             [
              0,
              "#0d0887"
             ],
             [
              0.1111111111111111,
              "#46039f"
             ],
             [
              0.2222222222222222,
              "#7201a8"
             ],
             [
              0.3333333333333333,
              "#9c179e"
             ],
             [
              0.4444444444444444,
              "#bd3786"
             ],
             [
              0.5555555555555556,
              "#d8576b"
             ],
             [
              0.6666666666666666,
              "#ed7953"
             ],
             [
              0.7777777777777778,
              "#fb9f3a"
             ],
             [
              0.8888888888888888,
              "#fdca26"
             ],
             [
              1,
              "#f0f921"
             ]
            ],
            "type": "heatmap"
           }
          ],
          "heatmapgl": [
           {
            "colorbar": {
             "outlinewidth": 0,
             "ticks": ""
            },
            "colorscale": [
             [
              0,
              "#0d0887"
             ],
             [
              0.1111111111111111,
              "#46039f"
             ],
             [
              0.2222222222222222,
              "#7201a8"
             ],
             [
              0.3333333333333333,
              "#9c179e"
             ],
             [
              0.4444444444444444,
              "#bd3786"
             ],
             [
              0.5555555555555556,
              "#d8576b"
             ],
             [
              0.6666666666666666,
              "#ed7953"
             ],
             [
              0.7777777777777778,
              "#fb9f3a"
             ],
             [
              0.8888888888888888,
              "#fdca26"
             ],
             [
              1,
              "#f0f921"
             ]
            ],
            "type": "heatmapgl"
           }
          ],
          "histogram": [
           {
            "marker": {
             "pattern": {
              "fillmode": "overlay",
              "size": 10,
              "solidity": 0.2
             }
            },
            "type": "histogram"
           }
          ],
          "histogram2d": [
           {
            "colorbar": {
             "outlinewidth": 0,
             "ticks": ""
            },
            "colorscale": [
             [
              0,
              "#0d0887"
             ],
             [
              0.1111111111111111,
              "#46039f"
             ],
             [
              0.2222222222222222,
              "#7201a8"
             ],
             [
              0.3333333333333333,
              "#9c179e"
             ],
             [
              0.4444444444444444,
              "#bd3786"
             ],
             [
              0.5555555555555556,
              "#d8576b"
             ],
             [
              0.6666666666666666,
              "#ed7953"
             ],
             [
              0.7777777777777778,
              "#fb9f3a"
             ],
             [
              0.8888888888888888,
              "#fdca26"
             ],
             [
              1,
              "#f0f921"
             ]
            ],
            "type": "histogram2d"
           }
          ],
          "histogram2dcontour": [
           {
            "colorbar": {
             "outlinewidth": 0,
             "ticks": ""
            },
            "colorscale": [
             [
              0,
              "#0d0887"
             ],
             [
              0.1111111111111111,
              "#46039f"
             ],
             [
              0.2222222222222222,
              "#7201a8"
             ],
             [
              0.3333333333333333,
              "#9c179e"
             ],
             [
              0.4444444444444444,
              "#bd3786"
             ],
             [
              0.5555555555555556,
              "#d8576b"
             ],
             [
              0.6666666666666666,
              "#ed7953"
             ],
             [
              0.7777777777777778,
              "#fb9f3a"
             ],
             [
              0.8888888888888888,
              "#fdca26"
             ],
             [
              1,
              "#f0f921"
             ]
            ],
            "type": "histogram2dcontour"
           }
          ],
          "mesh3d": [
           {
            "colorbar": {
             "outlinewidth": 0,
             "ticks": ""
            },
            "type": "mesh3d"
           }
          ],
          "parcoords": [
           {
            "line": {
             "colorbar": {
              "outlinewidth": 0,
              "ticks": ""
             }
            },
            "type": "parcoords"
           }
          ],
          "pie": [
           {
            "automargin": true,
            "type": "pie"
           }
          ],
          "scatter": [
           {
            "fillpattern": {
             "fillmode": "overlay",
             "size": 10,
             "solidity": 0.2
            },
            "type": "scatter"
           }
          ],
          "scatter3d": [
           {
            "line": {
             "colorbar": {
              "outlinewidth": 0,
              "ticks": ""
             }
            },
            "marker": {
             "colorbar": {
              "outlinewidth": 0,
              "ticks": ""
             }
            },
            "type": "scatter3d"
           }
          ],
          "scattercarpet": [
           {
            "marker": {
             "colorbar": {
              "outlinewidth": 0,
              "ticks": ""
             }
            },
            "type": "scattercarpet"
           }
          ],
          "scattergeo": [
           {
            "marker": {
             "colorbar": {
              "outlinewidth": 0,
              "ticks": ""
             }
            },
            "type": "scattergeo"
           }
          ],
          "scattergl": [
           {
            "marker": {
             "colorbar": {
              "outlinewidth": 0,
              "ticks": ""
             }
            },
            "type": "scattergl"
           }
          ],
          "scattermapbox": [
           {
            "marker": {
             "colorbar": {
              "outlinewidth": 0,
              "ticks": ""
             }
            },
            "type": "scattermapbox"
           }
          ],
          "scatterpolar": [
           {
            "marker": {
             "colorbar": {
              "outlinewidth": 0,
              "ticks": ""
             }
            },
            "type": "scatterpolar"
           }
          ],
          "scatterpolargl": [
           {
            "marker": {
             "colorbar": {
              "outlinewidth": 0,
              "ticks": ""
             }
            },
            "type": "scatterpolargl"
           }
          ],
          "scatterternary": [
           {
            "marker": {
             "colorbar": {
              "outlinewidth": 0,
              "ticks": ""
             }
            },
            "type": "scatterternary"
           }
          ],
          "surface": [
           {
            "colorbar": {
             "outlinewidth": 0,
             "ticks": ""
            },
            "colorscale": [
             [
              0,
              "#0d0887"
             ],
             [
              0.1111111111111111,
              "#46039f"
             ],
             [
              0.2222222222222222,
              "#7201a8"
             ],
             [
              0.3333333333333333,
              "#9c179e"
             ],
             [
              0.4444444444444444,
              "#bd3786"
             ],
             [
              0.5555555555555556,
              "#d8576b"
             ],
             [
              0.6666666666666666,
              "#ed7953"
             ],
             [
              0.7777777777777778,
              "#fb9f3a"
             ],
             [
              0.8888888888888888,
              "#fdca26"
             ],
             [
              1,
              "#f0f921"
             ]
            ],
            "type": "surface"
           }
          ],
          "table": [
           {
            "cells": {
             "fill": {
              "color": "#EBF0F8"
             },
             "line": {
              "color": "white"
             }
            },
            "header": {
             "fill": {
              "color": "#C8D4E3"
             },
             "line": {
              "color": "white"
             }
            },
            "type": "table"
           }
          ]
         },
         "layout": {
          "annotationdefaults": {
           "arrowcolor": "#2a3f5f",
           "arrowhead": 0,
           "arrowwidth": 1
          },
          "autotypenumbers": "strict",
          "coloraxis": {
           "colorbar": {
            "outlinewidth": 0,
            "ticks": ""
           }
          },
          "colorscale": {
           "diverging": [
            [
             0,
             "#8e0152"
            ],
            [
             0.1,
             "#c51b7d"
            ],
            [
             0.2,
             "#de77ae"
            ],
            [
             0.3,
             "#f1b6da"
            ],
            [
             0.4,
             "#fde0ef"
            ],
            [
             0.5,
             "#f7f7f7"
            ],
            [
             0.6,
             "#e6f5d0"
            ],
            [
             0.7,
             "#b8e186"
            ],
            [
             0.8,
             "#7fbc41"
            ],
            [
             0.9,
             "#4d9221"
            ],
            [
             1,
             "#276419"
            ]
           ],
           "sequential": [
            [
             0,
             "#0d0887"
            ],
            [
             0.1111111111111111,
             "#46039f"
            ],
            [
             0.2222222222222222,
             "#7201a8"
            ],
            [
             0.3333333333333333,
             "#9c179e"
            ],
            [
             0.4444444444444444,
             "#bd3786"
            ],
            [
             0.5555555555555556,
             "#d8576b"
            ],
            [
             0.6666666666666666,
             "#ed7953"
            ],
            [
             0.7777777777777778,
             "#fb9f3a"
            ],
            [
             0.8888888888888888,
             "#fdca26"
            ],
            [
             1,
             "#f0f921"
            ]
           ],
           "sequentialminus": [
            [
             0,
             "#0d0887"
            ],
            [
             0.1111111111111111,
             "#46039f"
            ],
            [
             0.2222222222222222,
             "#7201a8"
            ],
            [
             0.3333333333333333,
             "#9c179e"
            ],
            [
             0.4444444444444444,
             "#bd3786"
            ],
            [
             0.5555555555555556,
             "#d8576b"
            ],
            [
             0.6666666666666666,
             "#ed7953"
            ],
            [
             0.7777777777777778,
             "#fb9f3a"
            ],
            [
             0.8888888888888888,
             "#fdca26"
            ],
            [
             1,
             "#f0f921"
            ]
           ]
          },
          "colorway": [
           "#636efa",
           "#EF553B",
           "#00cc96",
           "#ab63fa",
           "#FFA15A",
           "#19d3f3",
           "#FF6692",
           "#B6E880",
           "#FF97FF",
           "#FECB52"
          ],
          "font": {
           "color": "#2a3f5f"
          },
          "geo": {
           "bgcolor": "white",
           "lakecolor": "white",
           "landcolor": "#E5ECF6",
           "showlakes": true,
           "showland": true,
           "subunitcolor": "white"
          },
          "hoverlabel": {
           "align": "left"
          },
          "hovermode": "closest",
          "mapbox": {
           "style": "light"
          },
          "paper_bgcolor": "white",
          "plot_bgcolor": "#E5ECF6",
          "polar": {
           "angularaxis": {
            "gridcolor": "white",
            "linecolor": "white",
            "ticks": ""
           },
           "bgcolor": "#E5ECF6",
           "radialaxis": {
            "gridcolor": "white",
            "linecolor": "white",
            "ticks": ""
           }
          },
          "scene": {
           "xaxis": {
            "backgroundcolor": "#E5ECF6",
            "gridcolor": "white",
            "gridwidth": 2,
            "linecolor": "white",
            "showbackground": true,
            "ticks": "",
            "zerolinecolor": "white"
           },
           "yaxis": {
            "backgroundcolor": "#E5ECF6",
            "gridcolor": "white",
            "gridwidth": 2,
            "linecolor": "white",
            "showbackground": true,
            "ticks": "",
            "zerolinecolor": "white"
           },
           "zaxis": {
            "backgroundcolor": "#E5ECF6",
            "gridcolor": "white",
            "gridwidth": 2,
            "linecolor": "white",
            "showbackground": true,
            "ticks": "",
            "zerolinecolor": "white"
           }
          },
          "shapedefaults": {
           "line": {
            "color": "#2a3f5f"
           }
          },
          "ternary": {
           "aaxis": {
            "gridcolor": "white",
            "linecolor": "white",
            "ticks": ""
           },
           "baxis": {
            "gridcolor": "white",
            "linecolor": "white",
            "ticks": ""
           },
           "bgcolor": "#E5ECF6",
           "caxis": {
            "gridcolor": "white",
            "linecolor": "white",
            "ticks": ""
           }
          },
          "title": {
           "x": 0.05
          },
          "xaxis": {
           "automargin": true,
           "gridcolor": "white",
           "linecolor": "white",
           "ticks": "",
           "title": {
            "standoff": 15
           },
           "zerolinecolor": "white",
           "zerolinewidth": 2
          },
          "yaxis": {
           "automargin": true,
           "gridcolor": "white",
           "linecolor": "white",
           "ticks": "",
           "title": {
            "standoff": 15
           },
           "zerolinecolor": "white",
           "zerolinewidth": 2
          }
         }
        },
        "title": {
         "text": "Distribution of Accidents by Month"
        },
        "xaxis": {
         "anchor": "y",
         "domain": [
          0,
          1
         ],
         "title": {
          "text": "x"
         }
        },
        "yaxis": {
         "anchor": "x",
         "domain": [
          0,
          1
         ],
         "title": {
          "text": "y"
         }
        }
       }
      }
     },
     "metadata": {},
     "output_type": "display_data"
    }
   ],
   "source": [
    "# Which months have the most accidents?\n",
    "df1[\"Month\"] = df1[\"Start_Time\"].dt.month\n",
    "month_counts = df1[\"Month\"].value_counts().sort_index()\n",
    "fig6 = px.bar(month_counts, x=month_counts.index.tolist(), y=month_counts.values.tolist(), title=\"Distribution of Accidents by Month\")\n",
    "fig6.show()\n",
    "# December has the most accidents"
   ]
  },
  {
   "cell_type": "code",
   "execution_count": 21,
   "metadata": {},
   "outputs": [
    {
     "data": {
      "application/vnd.plotly.v1+json": {
       "config": {
        "plotlyServerURL": "https://plot.ly"
       },
       "data": [
        {
         "alignmentgroup": "True",
         "hovertemplate": "x=%{x}<br>y=%{y}<extra></extra>",
         "legendgroup": "",
         "marker": {
          "color": "#636efa",
          "pattern": {
           "shape": ""
          }
         },
         "name": "",
         "offsetgroup": "",
         "orientation": "v",
         "showlegend": false,
         "textposition": "auto",
         "type": "bar",
         "x": [
          2016,
          2017,
          2018,
          2019,
          2020,
          2021,
          2022,
          2023
         ],
         "xaxis": "x",
         "y": [
          410821,
          718093,
          893426,
          954303,
          1178913,
          1563753,
          1762452,
          246633
         ],
         "yaxis": "y"
        }
       ],
       "layout": {
        "barmode": "relative",
        "legend": {
         "tracegroupgap": 0
        },
        "template": {
         "data": {
          "bar": [
           {
            "error_x": {
             "color": "#2a3f5f"
            },
            "error_y": {
             "color": "#2a3f5f"
            },
            "marker": {
             "line": {
              "color": "#E5ECF6",
              "width": 0.5
             },
             "pattern": {
              "fillmode": "overlay",
              "size": 10,
              "solidity": 0.2
             }
            },
            "type": "bar"
           }
          ],
          "barpolar": [
           {
            "marker": {
             "line": {
              "color": "#E5ECF6",
              "width": 0.5
             },
             "pattern": {
              "fillmode": "overlay",
              "size": 10,
              "solidity": 0.2
             }
            },
            "type": "barpolar"
           }
          ],
          "carpet": [
           {
            "aaxis": {
             "endlinecolor": "#2a3f5f",
             "gridcolor": "white",
             "linecolor": "white",
             "minorgridcolor": "white",
             "startlinecolor": "#2a3f5f"
            },
            "baxis": {
             "endlinecolor": "#2a3f5f",
             "gridcolor": "white",
             "linecolor": "white",
             "minorgridcolor": "white",
             "startlinecolor": "#2a3f5f"
            },
            "type": "carpet"
           }
          ],
          "choropleth": [
           {
            "colorbar": {
             "outlinewidth": 0,
             "ticks": ""
            },
            "type": "choropleth"
           }
          ],
          "contour": [
           {
            "colorbar": {
             "outlinewidth": 0,
             "ticks": ""
            },
            "colorscale": [
             [
              0,
              "#0d0887"
             ],
             [
              0.1111111111111111,
              "#46039f"
             ],
             [
              0.2222222222222222,
              "#7201a8"
             ],
             [
              0.3333333333333333,
              "#9c179e"
             ],
             [
              0.4444444444444444,
              "#bd3786"
             ],
             [
              0.5555555555555556,
              "#d8576b"
             ],
             [
              0.6666666666666666,
              "#ed7953"
             ],
             [
              0.7777777777777778,
              "#fb9f3a"
             ],
             [
              0.8888888888888888,
              "#fdca26"
             ],
             [
              1,
              "#f0f921"
             ]
            ],
            "type": "contour"
           }
          ],
          "contourcarpet": [
           {
            "colorbar": {
             "outlinewidth": 0,
             "ticks": ""
            },
            "type": "contourcarpet"
           }
          ],
          "heatmap": [
           {
            "colorbar": {
             "outlinewidth": 0,
             "ticks": ""
            },
            "colorscale": [
             [
              0,
              "#0d0887"
             ],
             [
              0.1111111111111111,
              "#46039f"
             ],
             [
              0.2222222222222222,
              "#7201a8"
             ],
             [
              0.3333333333333333,
              "#9c179e"
             ],
             [
              0.4444444444444444,
              "#bd3786"
             ],
             [
              0.5555555555555556,
              "#d8576b"
             ],
             [
              0.6666666666666666,
              "#ed7953"
             ],
             [
              0.7777777777777778,
              "#fb9f3a"
             ],
             [
              0.8888888888888888,
              "#fdca26"
             ],
             [
              1,
              "#f0f921"
             ]
            ],
            "type": "heatmap"
           }
          ],
          "heatmapgl": [
           {
            "colorbar": {
             "outlinewidth": 0,
             "ticks": ""
            },
            "colorscale": [
             [
              0,
              "#0d0887"
             ],
             [
              0.1111111111111111,
              "#46039f"
             ],
             [
              0.2222222222222222,
              "#7201a8"
             ],
             [
              0.3333333333333333,
              "#9c179e"
             ],
             [
              0.4444444444444444,
              "#bd3786"
             ],
             [
              0.5555555555555556,
              "#d8576b"
             ],
             [
              0.6666666666666666,
              "#ed7953"
             ],
             [
              0.7777777777777778,
              "#fb9f3a"
             ],
             [
              0.8888888888888888,
              "#fdca26"
             ],
             [
              1,
              "#f0f921"
             ]
            ],
            "type": "heatmapgl"
           }
          ],
          "histogram": [
           {
            "marker": {
             "pattern": {
              "fillmode": "overlay",
              "size": 10,
              "solidity": 0.2
             }
            },
            "type": "histogram"
           }
          ],
          "histogram2d": [
           {
            "colorbar": {
             "outlinewidth": 0,
             "ticks": ""
            },
            "colorscale": [
             [
              0,
              "#0d0887"
             ],
             [
              0.1111111111111111,
              "#46039f"
             ],
             [
              0.2222222222222222,
              "#7201a8"
             ],
             [
              0.3333333333333333,
              "#9c179e"
             ],
             [
              0.4444444444444444,
              "#bd3786"
             ],
             [
              0.5555555555555556,
              "#d8576b"
             ],
             [
              0.6666666666666666,
              "#ed7953"
             ],
             [
              0.7777777777777778,
              "#fb9f3a"
             ],
             [
              0.8888888888888888,
              "#fdca26"
             ],
             [
              1,
              "#f0f921"
             ]
            ],
            "type": "histogram2d"
           }
          ],
          "histogram2dcontour": [
           {
            "colorbar": {
             "outlinewidth": 0,
             "ticks": ""
            },
            "colorscale": [
             [
              0,
              "#0d0887"
             ],
             [
              0.1111111111111111,
              "#46039f"
             ],
             [
              0.2222222222222222,
              "#7201a8"
             ],
             [
              0.3333333333333333,
              "#9c179e"
             ],
             [
              0.4444444444444444,
              "#bd3786"
             ],
             [
              0.5555555555555556,
              "#d8576b"
             ],
             [
              0.6666666666666666,
              "#ed7953"
             ],
             [
              0.7777777777777778,
              "#fb9f3a"
             ],
             [
              0.8888888888888888,
              "#fdca26"
             ],
             [
              1,
              "#f0f921"
             ]
            ],
            "type": "histogram2dcontour"
           }
          ],
          "mesh3d": [
           {
            "colorbar": {
             "outlinewidth": 0,
             "ticks": ""
            },
            "type": "mesh3d"
           }
          ],
          "parcoords": [
           {
            "line": {
             "colorbar": {
              "outlinewidth": 0,
              "ticks": ""
             }
            },
            "type": "parcoords"
           }
          ],
          "pie": [
           {
            "automargin": true,
            "type": "pie"
           }
          ],
          "scatter": [
           {
            "fillpattern": {
             "fillmode": "overlay",
             "size": 10,
             "solidity": 0.2
            },
            "type": "scatter"
           }
          ],
          "scatter3d": [
           {
            "line": {
             "colorbar": {
              "outlinewidth": 0,
              "ticks": ""
             }
            },
            "marker": {
             "colorbar": {
              "outlinewidth": 0,
              "ticks": ""
             }
            },
            "type": "scatter3d"
           }
          ],
          "scattercarpet": [
           {
            "marker": {
             "colorbar": {
              "outlinewidth": 0,
              "ticks": ""
             }
            },
            "type": "scattercarpet"
           }
          ],
          "scattergeo": [
           {
            "marker": {
             "colorbar": {
              "outlinewidth": 0,
              "ticks": ""
             }
            },
            "type": "scattergeo"
           }
          ],
          "scattergl": [
           {
            "marker": {
             "colorbar": {
              "outlinewidth": 0,
              "ticks": ""
             }
            },
            "type": "scattergl"
           }
          ],
          "scattermapbox": [
           {
            "marker": {
             "colorbar": {
              "outlinewidth": 0,
              "ticks": ""
             }
            },
            "type": "scattermapbox"
           }
          ],
          "scatterpolar": [
           {
            "marker": {
             "colorbar": {
              "outlinewidth": 0,
              "ticks": ""
             }
            },
            "type": "scatterpolar"
           }
          ],
          "scatterpolargl": [
           {
            "marker": {
             "colorbar": {
              "outlinewidth": 0,
              "ticks": ""
             }
            },
            "type": "scatterpolargl"
           }
          ],
          "scatterternary": [
           {
            "marker": {
             "colorbar": {
              "outlinewidth": 0,
              "ticks": ""
             }
            },
            "type": "scatterternary"
           }
          ],
          "surface": [
           {
            "colorbar": {
             "outlinewidth": 0,
             "ticks": ""
            },
            "colorscale": [
             [
              0,
              "#0d0887"
             ],
             [
              0.1111111111111111,
              "#46039f"
             ],
             [
              0.2222222222222222,
              "#7201a8"
             ],
             [
              0.3333333333333333,
              "#9c179e"
             ],
             [
              0.4444444444444444,
              "#bd3786"
             ],
             [
              0.5555555555555556,
              "#d8576b"
             ],
             [
              0.6666666666666666,
              "#ed7953"
             ],
             [
              0.7777777777777778,
              "#fb9f3a"
             ],
             [
              0.8888888888888888,
              "#fdca26"
             ],
             [
              1,
              "#f0f921"
             ]
            ],
            "type": "surface"
           }
          ],
          "table": [
           {
            "cells": {
             "fill": {
              "color": "#EBF0F8"
             },
             "line": {
              "color": "white"
             }
            },
            "header": {
             "fill": {
              "color": "#C8D4E3"
             },
             "line": {
              "color": "white"
             }
            },
            "type": "table"
           }
          ]
         },
         "layout": {
          "annotationdefaults": {
           "arrowcolor": "#2a3f5f",
           "arrowhead": 0,
           "arrowwidth": 1
          },
          "autotypenumbers": "strict",
          "coloraxis": {
           "colorbar": {
            "outlinewidth": 0,
            "ticks": ""
           }
          },
          "colorscale": {
           "diverging": [
            [
             0,
             "#8e0152"
            ],
            [
             0.1,
             "#c51b7d"
            ],
            [
             0.2,
             "#de77ae"
            ],
            [
             0.3,
             "#f1b6da"
            ],
            [
             0.4,
             "#fde0ef"
            ],
            [
             0.5,
             "#f7f7f7"
            ],
            [
             0.6,
             "#e6f5d0"
            ],
            [
             0.7,
             "#b8e186"
            ],
            [
             0.8,
             "#7fbc41"
            ],
            [
             0.9,
             "#4d9221"
            ],
            [
             1,
             "#276419"
            ]
           ],
           "sequential": [
            [
             0,
             "#0d0887"
            ],
            [
             0.1111111111111111,
             "#46039f"
            ],
            [
             0.2222222222222222,
             "#7201a8"
            ],
            [
             0.3333333333333333,
             "#9c179e"
            ],
            [
             0.4444444444444444,
             "#bd3786"
            ],
            [
             0.5555555555555556,
             "#d8576b"
            ],
            [
             0.6666666666666666,
             "#ed7953"
            ],
            [
             0.7777777777777778,
             "#fb9f3a"
            ],
            [
             0.8888888888888888,
             "#fdca26"
            ],
            [
             1,
             "#f0f921"
            ]
           ],
           "sequentialminus": [
            [
             0,
             "#0d0887"
            ],
            [
             0.1111111111111111,
             "#46039f"
            ],
            [
             0.2222222222222222,
             "#7201a8"
            ],
            [
             0.3333333333333333,
             "#9c179e"
            ],
            [
             0.4444444444444444,
             "#bd3786"
            ],
            [
             0.5555555555555556,
             "#d8576b"
            ],
            [
             0.6666666666666666,
             "#ed7953"
            ],
            [
             0.7777777777777778,
             "#fb9f3a"
            ],
            [
             0.8888888888888888,
             "#fdca26"
            ],
            [
             1,
             "#f0f921"
            ]
           ]
          },
          "colorway": [
           "#636efa",
           "#EF553B",
           "#00cc96",
           "#ab63fa",
           "#FFA15A",
           "#19d3f3",
           "#FF6692",
           "#B6E880",
           "#FF97FF",
           "#FECB52"
          ],
          "font": {
           "color": "#2a3f5f"
          },
          "geo": {
           "bgcolor": "white",
           "lakecolor": "white",
           "landcolor": "#E5ECF6",
           "showlakes": true,
           "showland": true,
           "subunitcolor": "white"
          },
          "hoverlabel": {
           "align": "left"
          },
          "hovermode": "closest",
          "mapbox": {
           "style": "light"
          },
          "paper_bgcolor": "white",
          "plot_bgcolor": "#E5ECF6",
          "polar": {
           "angularaxis": {
            "gridcolor": "white",
            "linecolor": "white",
            "ticks": ""
           },
           "bgcolor": "#E5ECF6",
           "radialaxis": {
            "gridcolor": "white",
            "linecolor": "white",
            "ticks": ""
           }
          },
          "scene": {
           "xaxis": {
            "backgroundcolor": "#E5ECF6",
            "gridcolor": "white",
            "gridwidth": 2,
            "linecolor": "white",
            "showbackground": true,
            "ticks": "",
            "zerolinecolor": "white"
           },
           "yaxis": {
            "backgroundcolor": "#E5ECF6",
            "gridcolor": "white",
            "gridwidth": 2,
            "linecolor": "white",
            "showbackground": true,
            "ticks": "",
            "zerolinecolor": "white"
           },
           "zaxis": {
            "backgroundcolor": "#E5ECF6",
            "gridcolor": "white",
            "gridwidth": 2,
            "linecolor": "white",
            "showbackground": true,
            "ticks": "",
            "zerolinecolor": "white"
           }
          },
          "shapedefaults": {
           "line": {
            "color": "#2a3f5f"
           }
          },
          "ternary": {
           "aaxis": {
            "gridcolor": "white",
            "linecolor": "white",
            "ticks": ""
           },
           "baxis": {
            "gridcolor": "white",
            "linecolor": "white",
            "ticks": ""
           },
           "bgcolor": "#E5ECF6",
           "caxis": {
            "gridcolor": "white",
            "linecolor": "white",
            "ticks": ""
           }
          },
          "title": {
           "x": 0.05
          },
          "xaxis": {
           "automargin": true,
           "gridcolor": "white",
           "linecolor": "white",
           "ticks": "",
           "title": {
            "standoff": 15
           },
           "zerolinecolor": "white",
           "zerolinewidth": 2
          },
          "yaxis": {
           "automargin": true,
           "gridcolor": "white",
           "linecolor": "white",
           "ticks": "",
           "title": {
            "standoff": 15
           },
           "zerolinecolor": "white",
           "zerolinewidth": 2
          }
         }
        },
        "title": {
         "text": "Distribution of Accidents by Year"
        },
        "xaxis": {
         "anchor": "y",
         "domain": [
          0,
          1
         ],
         "title": {
          "text": "x"
         }
        },
        "yaxis": {
         "anchor": "x",
         "domain": [
          0,
          1
         ],
         "title": {
          "text": "y"
         }
        }
       }
      }
     },
     "metadata": {},
     "output_type": "display_data"
    }
   ],
   "source": [
    "# What is the trend of accidents year over year (decreasing/increasing?)\n",
    "year_counts = df1[\"Year\"].value_counts().sort_index()\n",
    "fig7 = px.bar(year_counts, x=year_counts.index.tolist(), y=year_counts.values.tolist(), title=\"Distribution of Accidents by Year\")\n",
    "fig7.show()"
   ]
  },
  {
   "cell_type": "code",
   "execution_count": 22,
   "metadata": {},
   "outputs": [
    {
     "data": {
      "text/html": [
       "<div>\n",
       "<style scoped>\n",
       "    .dataframe tbody tr th:only-of-type {\n",
       "        vertical-align: middle;\n",
       "    }\n",
       "\n",
       "    .dataframe tbody tr th {\n",
       "        vertical-align: top;\n",
       "    }\n",
       "\n",
       "    .dataframe thead th {\n",
       "        text-align: right;\n",
       "    }\n",
       "</style>\n",
       "<table border=\"1\" class=\"dataframe\">\n",
       "  <thead>\n",
       "    <tr style=\"text-align: right;\">\n",
       "      <th></th>\n",
       "      <th>ID</th>\n",
       "      <th>Severity</th>\n",
       "      <th>Start_Time</th>\n",
       "      <th>Start_Lat</th>\n",
       "      <th>Start_Lng</th>\n",
       "      <th>End_Lat</th>\n",
       "      <th>End_Lng</th>\n",
       "      <th>Distance(mi)</th>\n",
       "      <th>Street</th>\n",
       "      <th>City</th>\n",
       "      <th>...</th>\n",
       "      <th>Roundabout</th>\n",
       "      <th>Station</th>\n",
       "      <th>Stop</th>\n",
       "      <th>Traffic_Calming</th>\n",
       "      <th>Traffic_Signal</th>\n",
       "      <th>Turning_Loop</th>\n",
       "      <th>Day_of_Week</th>\n",
       "      <th>Hour_of_Day</th>\n",
       "      <th>Year</th>\n",
       "      <th>Month</th>\n",
       "    </tr>\n",
       "  </thead>\n",
       "  <tbody>\n",
       "    <tr>\n",
       "      <th>194250</th>\n",
       "      <td>A-194257</td>\n",
       "      <td>3</td>\n",
       "      <td>2016-11-30 16:25:41</td>\n",
       "      <td>41.139324</td>\n",
       "      <td>-74.169876</td>\n",
       "      <td>None</td>\n",
       "      <td>None</td>\n",
       "      <td>0.01</td>\n",
       "      <td>Route 17</td>\n",
       "      <td>Sloatsburg</td>\n",
       "      <td>...</td>\n",
       "      <td>False</td>\n",
       "      <td>False</td>\n",
       "      <td>False</td>\n",
       "      <td>False</td>\n",
       "      <td>False</td>\n",
       "      <td>False</td>\n",
       "      <td>2</td>\n",
       "      <td>16</td>\n",
       "      <td>2016</td>\n",
       "      <td>11</td>\n",
       "    </tr>\n",
       "    <tr>\n",
       "      <th>194251</th>\n",
       "      <td>A-194258</td>\n",
       "      <td>3</td>\n",
       "      <td>2016-11-30 15:40:06</td>\n",
       "      <td>41.118748</td>\n",
       "      <td>-74.159744</td>\n",
       "      <td>None</td>\n",
       "      <td>None</td>\n",
       "      <td>2.53</td>\n",
       "      <td>I-287 S</td>\n",
       "      <td>Suffern</td>\n",
       "      <td>...</td>\n",
       "      <td>False</td>\n",
       "      <td>False</td>\n",
       "      <td>False</td>\n",
       "      <td>False</td>\n",
       "      <td>False</td>\n",
       "      <td>False</td>\n",
       "      <td>2</td>\n",
       "      <td>15</td>\n",
       "      <td>2016</td>\n",
       "      <td>11</td>\n",
       "    </tr>\n",
       "    <tr>\n",
       "      <th>194252</th>\n",
       "      <td>A-194259</td>\n",
       "      <td>3</td>\n",
       "      <td>2016-11-30 15:26:18</td>\n",
       "      <td>41.014034</td>\n",
       "      <td>-73.717239</td>\n",
       "      <td>None</td>\n",
       "      <td>None</td>\n",
       "      <td>1.17</td>\n",
       "      <td>Hutchinson River Pkwy S</td>\n",
       "      <td>White Plains</td>\n",
       "      <td>...</td>\n",
       "      <td>False</td>\n",
       "      <td>False</td>\n",
       "      <td>False</td>\n",
       "      <td>False</td>\n",
       "      <td>False</td>\n",
       "      <td>False</td>\n",
       "      <td>2</td>\n",
       "      <td>15</td>\n",
       "      <td>2016</td>\n",
       "      <td>11</td>\n",
       "    </tr>\n",
       "    <tr>\n",
       "      <th>194253</th>\n",
       "      <td>A-194260</td>\n",
       "      <td>3</td>\n",
       "      <td>2016-11-30 16:14:11</td>\n",
       "      <td>41.390369</td>\n",
       "      <td>-73.597969</td>\n",
       "      <td>None</td>\n",
       "      <td>None</td>\n",
       "      <td>0.01</td>\n",
       "      <td>I-84 E</td>\n",
       "      <td>Brewster</td>\n",
       "      <td>...</td>\n",
       "      <td>False</td>\n",
       "      <td>False</td>\n",
       "      <td>False</td>\n",
       "      <td>False</td>\n",
       "      <td>False</td>\n",
       "      <td>False</td>\n",
       "      <td>2</td>\n",
       "      <td>16</td>\n",
       "      <td>2016</td>\n",
       "      <td>11</td>\n",
       "    </tr>\n",
       "    <tr>\n",
       "      <th>194254</th>\n",
       "      <td>A-194261</td>\n",
       "      <td>3</td>\n",
       "      <td>2016-11-30 16:17:57</td>\n",
       "      <td>41.390369</td>\n",
       "      <td>-73.597969</td>\n",
       "      <td>None</td>\n",
       "      <td>None</td>\n",
       "      <td>0.01</td>\n",
       "      <td>I-84 E</td>\n",
       "      <td>Brewster</td>\n",
       "      <td>...</td>\n",
       "      <td>False</td>\n",
       "      <td>False</td>\n",
       "      <td>False</td>\n",
       "      <td>False</td>\n",
       "      <td>False</td>\n",
       "      <td>False</td>\n",
       "      <td>2</td>\n",
       "      <td>16</td>\n",
       "      <td>2016</td>\n",
       "      <td>11</td>\n",
       "    </tr>\n",
       "  </tbody>\n",
       "</table>\n",
       "<p>5 rows × 36 columns</p>\n",
       "</div>"
      ],
      "text/plain": [
       "              ID  Severity          Start_Time  Start_Lat  Start_Lng End_Lat  \\\n",
       "194250  A-194257         3 2016-11-30 16:25:41  41.139324 -74.169876    None   \n",
       "194251  A-194258         3 2016-11-30 15:40:06  41.118748 -74.159744    None   \n",
       "194252  A-194259         3 2016-11-30 15:26:18  41.014034 -73.717239    None   \n",
       "194253  A-194260         3 2016-11-30 16:14:11  41.390369 -73.597969    None   \n",
       "194254  A-194261         3 2016-11-30 16:17:57  41.390369 -73.597969    None   \n",
       "\n",
       "       End_Lng  Distance(mi)                   Street          City  ...  \\\n",
       "194250    None          0.01                 Route 17    Sloatsburg  ...   \n",
       "194251    None          2.53                  I-287 S       Suffern  ...   \n",
       "194252    None          1.17  Hutchinson River Pkwy S  White Plains  ...   \n",
       "194253    None          0.01                   I-84 E      Brewster  ...   \n",
       "194254    None          0.01                   I-84 E      Brewster  ...   \n",
       "\n",
       "       Roundabout Station   Stop  Traffic_Calming  Traffic_Signal  \\\n",
       "194250      False   False  False            False           False   \n",
       "194251      False   False  False            False           False   \n",
       "194252      False   False  False            False           False   \n",
       "194253      False   False  False            False           False   \n",
       "194254      False   False  False            False           False   \n",
       "\n",
       "        Turning_Loop  Day_of_Week  Hour_of_Day  Year  Month  \n",
       "194250         False            2           16  2016     11  \n",
       "194251         False            2           15  2016     11  \n",
       "194252         False            2           15  2016     11  \n",
       "194253         False            2           16  2016     11  \n",
       "194254         False            2           16  2016     11  \n",
       "\n",
       "[5 rows x 36 columns]"
      ]
     },
     "execution_count": 22,
     "metadata": {},
     "output_type": "execute_result"
    }
   ],
   "source": [
    "# Is the state of New York in the data?\n",
    "df1[df1[\"State\"]==\"NY\"].head()\n",
    "# Yes, new york is in the data"
   ]
  },
  {
   "cell_type": "code",
   "execution_count": 35,
   "metadata": {},
   "outputs": [
    {
     "name": "stdout",
     "output_type": "stream",
     "text": [
      "Dash is running on http://127.0.0.1:8050/\n",
      "\n",
      " * Serving Flask app 'Uncomplete Dashboard'\n",
      " * Debug mode: off\n"
     ]
    },
    {
     "name": "stderr",
     "output_type": "stream",
     "text": [
      "WARNING: This is a development server. Do not use it in a production deployment. Use a production WSGI server instead.\n",
      " * Running on http://127.0.0.1:8050\n",
      "Press CTRL+C to quit\n"
     ]
    }
   ],
   "source": [
    "app = dash.Dash(\"Uncomplete Dashboard\")\n",
    "# app.layout = dcc.Graph(\n",
    "#     id=\"Graph 1\",\n",
    "#     figure=fig100\n",
    "# )\n",
    "\n",
    "# app.layout = html.Div(\n",
    "#     children=[\n",
    "#         html.Div(\n",
    "#             style={'background-color':'red',\n",
    "#                    'height':250, 'width':250}),\n",
    "#         html.Div(\n",
    "#             children=[\n",
    "#                 html.H1(\"A dashboard\"),\n",
    "#                 html.H2(\"First Graph\")\n",
    "#             ],\n",
    "#             style={'background-color':'lightred',\n",
    "#                    'height':250, 'width':250}\n",
    "#         )\n",
    "#     ]\n",
    "# )\n",
    "\n",
    "app.layout = html.Div(\n",
    "    children=[\n",
    "        html.H1(\"Challenge 9: US Accidents - Ryan Jacobs\"),\n",
    "        html.Span(children=[\n",
    "            f\"Prepared: {datetime.now().date()}\",\n",
    "            html.Br(),\n",
    "            \"Created by \",\n",
    "            html.A(\"Ryan Jacobs\", href=\"https://www.linkedin.com/in/ryan-jacobs-08027024a/\"),\n",
    "            html.Br(),\n",
    "            html.I(\"Student at University of North Carolina at Charlotte\")\n",
    "        ]),\n",
    "        html.Ul(children=[\n",
    "            html.Li(children=[\n",
    "                html.A(\"Data in Motion Website\", href=\"https://d-i-motion.com/lessons/challenge-9-us-accidents/\")\n",
    "            ]),\n",
    "            html.Li(children=[\n",
    "                html.A(\"GitHub Repo\", href=\"https://github.com/RJUNCC/DataInMotionDSProjects/tree/2302336115ffdab0601095fc2d49efd65b229c2a/Data%20Analysis%20Challenges\")\n",
    "            ]),\n",
    "            html.Li(children=[\n",
    "                html.A(\"LinkedIn\", href=\"https://www.linkedin.com/in/ryan-jacobs-08027024a/\")\n",
    "            ]),\n",
    "            html.Li(children=[\n",
    "                html.A(\"Kaggle\", href=\"https://www.kaggle.com/riainoo\")\n",
    "            ])\n",
    "        ]),\n",
    "        html.Div(\n",
    "            dcc.Graph(id=\"Graph 1\", figure=fig100),\n",
    "            style={'display':'inline-block', 'width':'50%'}\n",
    "        ),\n",
    "        html.Div(\n",
    "            dcc.Graph(id=\"Graph 2\", figure=fig3),\n",
    "            style={'display':'inline-block', 'width':'50%'}\n",
    "        ),\n",
    "        html.Div(\n",
    "            dcc.Graph(id=\"Graph 3\", figure=fig4),\n",
    "            style={'display':'inline-block', 'width':'50%'}\n",
    "        ),\n",
    "        html.Div(\n",
    "            dcc.Graph(id=\"Graph 4\", figure=fig5),\n",
    "            style={'display':'inline-block', 'width':'50%'}\n",
    "        ),\n",
    "        html.Div(\n",
    "            dcc.Graph(id=\"Graph 5\", figure=fig400)\n",
    "        ),\n",
    "        html.Div(\n",
    "            dcc.Graph(id=\"Graph 6\", figure=fig6),\n",
    "            style={'display':'inline-block', 'width':'50%'}\n",
    "        ),\n",
    "        html.Div(\n",
    "            dcc.Graph(id=\"Graph 7\", figure=fig7),\n",
    "            style={'display':'inline-block', 'width':'50%'}\n",
    "        )\n",
    "    ]\n",
    ")\n",
    "\n",
    "# will not let me start the dashboard with debug=True\n",
    "if __name__ == '__main__':\n",
    "    app.run_server( debug=False)"
   ]
  }
 ],
 "metadata": {
  "kernelspec": {
   "display_name": "survey_data",
   "language": "python",
   "name": "python3"
  },
  "language_info": {
   "codemirror_mode": {
    "name": "ipython",
    "version": 3
   },
   "file_extension": ".py",
   "mimetype": "text/x-python",
   "name": "python",
   "nbconvert_exporter": "python",
   "pygments_lexer": "ipython3",
   "version": "3.11.3"
  },
  "orig_nbformat": 4
 },
 "nbformat": 4,
 "nbformat_minor": 2
}
